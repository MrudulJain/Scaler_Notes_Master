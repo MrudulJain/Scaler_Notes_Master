{
 "cells": [
  {
   "cell_type": "markdown",
   "id": "5ce3b9f9",
   "metadata": {},
   "source": [
    "<b><u> Objectives of feature engineering </u></b>\n",
    "<ol>\n",
    "    <li> Find and understand patterns in data </li>\n",
    "    <li> Handling cateogircal values </li>\n",
    "    <li> Handle missing data </li>\n",
    "    <li> Find most important features for predicition</li>\n",
    "    <li> Normalization and Standardization of data </li>\n",
    "</ol>\n",
    "\n",
    "The significance level, or alpha(${\\alpha}$), is the probability of rejecting our null hypothesis when it actually holds true. In other terms, it’s the probability of making a Type I error.\n",
    "\n",
    "Typically, one should weigh the costs of making a Type I vs. a Type II error to determine the best alpha for an experiment."
   ]
  },
  {
   "cell_type": "code",
   "execution_count": 10,
   "id": "8fd96ee7",
   "metadata": {},
   "outputs": [],
   "source": [
    "import numpy as np\n",
    "import pandas as pd\n",
    "import seaborn as sns\n",
    "import matplotlib.pyplot as plt\n",
    "\n",
    "import math\n",
    "from scipy import stats\n",
    "from scipy.stats import chi2_contingency\n",
    "\n",
    "import warnings\n",
    "# warnings.filterwarnings('ignore')"
   ]
  },
  {
   "cell_type": "code",
   "execution_count": 11,
   "id": "938d17bd",
   "metadata": {},
   "outputs": [
    {
     "data": {
      "text/html": [
       "<div>\n",
       "<style scoped>\n",
       "    .dataframe tbody tr th:only-of-type {\n",
       "        vertical-align: middle;\n",
       "    }\n",
       "\n",
       "    .dataframe tbody tr th {\n",
       "        vertical-align: top;\n",
       "    }\n",
       "\n",
       "    .dataframe thead th {\n",
       "        text-align: right;\n",
       "    }\n",
       "</style>\n",
       "<table border=\"1\" class=\"dataframe\">\n",
       "  <thead>\n",
       "    <tr style=\"text-align: right;\">\n",
       "      <th></th>\n",
       "      <th>Loan_ID</th>\n",
       "      <th>Gender</th>\n",
       "      <th>Married</th>\n",
       "      <th>Dependents</th>\n",
       "      <th>Education</th>\n",
       "      <th>Self_Employed</th>\n",
       "      <th>ApplicantIncome</th>\n",
       "      <th>CoapplicantIncome</th>\n",
       "      <th>LoanAmount</th>\n",
       "      <th>Loan_Amount_Term</th>\n",
       "      <th>Credit_History</th>\n",
       "      <th>Property_Area</th>\n",
       "      <th>Loan_Status</th>\n",
       "    </tr>\n",
       "  </thead>\n",
       "  <tbody>\n",
       "    <tr>\n",
       "      <th>0</th>\n",
       "      <td>LP001002</td>\n",
       "      <td>Male</td>\n",
       "      <td>No</td>\n",
       "      <td>0</td>\n",
       "      <td>Graduate</td>\n",
       "      <td>No</td>\n",
       "      <td>5849</td>\n",
       "      <td>0.0</td>\n",
       "      <td>NaN</td>\n",
       "      <td>360.0</td>\n",
       "      <td>1.0</td>\n",
       "      <td>Urban</td>\n",
       "      <td>Y</td>\n",
       "    </tr>\n",
       "    <tr>\n",
       "      <th>1</th>\n",
       "      <td>LP001003</td>\n",
       "      <td>Male</td>\n",
       "      <td>Yes</td>\n",
       "      <td>1</td>\n",
       "      <td>Graduate</td>\n",
       "      <td>No</td>\n",
       "      <td>4583</td>\n",
       "      <td>1508.0</td>\n",
       "      <td>128.0</td>\n",
       "      <td>360.0</td>\n",
       "      <td>1.0</td>\n",
       "      <td>Rural</td>\n",
       "      <td>N</td>\n",
       "    </tr>\n",
       "    <tr>\n",
       "      <th>2</th>\n",
       "      <td>LP001005</td>\n",
       "      <td>Male</td>\n",
       "      <td>Yes</td>\n",
       "      <td>0</td>\n",
       "      <td>Graduate</td>\n",
       "      <td>Yes</td>\n",
       "      <td>3000</td>\n",
       "      <td>0.0</td>\n",
       "      <td>66.0</td>\n",
       "      <td>360.0</td>\n",
       "      <td>1.0</td>\n",
       "      <td>Urban</td>\n",
       "      <td>Y</td>\n",
       "    </tr>\n",
       "    <tr>\n",
       "      <th>3</th>\n",
       "      <td>LP001006</td>\n",
       "      <td>Male</td>\n",
       "      <td>Yes</td>\n",
       "      <td>0</td>\n",
       "      <td>Not Graduate</td>\n",
       "      <td>No</td>\n",
       "      <td>2583</td>\n",
       "      <td>2358.0</td>\n",
       "      <td>120.0</td>\n",
       "      <td>360.0</td>\n",
       "      <td>1.0</td>\n",
       "      <td>Urban</td>\n",
       "      <td>Y</td>\n",
       "    </tr>\n",
       "    <tr>\n",
       "      <th>4</th>\n",
       "      <td>LP001008</td>\n",
       "      <td>Male</td>\n",
       "      <td>No</td>\n",
       "      <td>0</td>\n",
       "      <td>Graduate</td>\n",
       "      <td>No</td>\n",
       "      <td>6000</td>\n",
       "      <td>0.0</td>\n",
       "      <td>141.0</td>\n",
       "      <td>360.0</td>\n",
       "      <td>1.0</td>\n",
       "      <td>Urban</td>\n",
       "      <td>Y</td>\n",
       "    </tr>\n",
       "    <tr>\n",
       "      <th>5</th>\n",
       "      <td>LP001011</td>\n",
       "      <td>Male</td>\n",
       "      <td>Yes</td>\n",
       "      <td>2</td>\n",
       "      <td>Graduate</td>\n",
       "      <td>Yes</td>\n",
       "      <td>5417</td>\n",
       "      <td>4196.0</td>\n",
       "      <td>267.0</td>\n",
       "      <td>360.0</td>\n",
       "      <td>1.0</td>\n",
       "      <td>Urban</td>\n",
       "      <td>Y</td>\n",
       "    </tr>\n",
       "    <tr>\n",
       "      <th>6</th>\n",
       "      <td>LP001013</td>\n",
       "      <td>Male</td>\n",
       "      <td>Yes</td>\n",
       "      <td>0</td>\n",
       "      <td>Not Graduate</td>\n",
       "      <td>No</td>\n",
       "      <td>2333</td>\n",
       "      <td>1516.0</td>\n",
       "      <td>95.0</td>\n",
       "      <td>360.0</td>\n",
       "      <td>1.0</td>\n",
       "      <td>Urban</td>\n",
       "      <td>Y</td>\n",
       "    </tr>\n",
       "    <tr>\n",
       "      <th>7</th>\n",
       "      <td>LP001014</td>\n",
       "      <td>Male</td>\n",
       "      <td>Yes</td>\n",
       "      <td>3+</td>\n",
       "      <td>Graduate</td>\n",
       "      <td>No</td>\n",
       "      <td>3036</td>\n",
       "      <td>2504.0</td>\n",
       "      <td>158.0</td>\n",
       "      <td>360.0</td>\n",
       "      <td>0.0</td>\n",
       "      <td>Semiurban</td>\n",
       "      <td>N</td>\n",
       "    </tr>\n",
       "  </tbody>\n",
       "</table>\n",
       "</div>"
      ],
      "text/plain": [
       "    Loan_ID Gender Married Dependents     Education Self_Employed  \\\n",
       "0  LP001002   Male      No          0      Graduate            No   \n",
       "1  LP001003   Male     Yes          1      Graduate            No   \n",
       "2  LP001005   Male     Yes          0      Graduate           Yes   \n",
       "3  LP001006   Male     Yes          0  Not Graduate            No   \n",
       "4  LP001008   Male      No          0      Graduate            No   \n",
       "5  LP001011   Male     Yes          2      Graduate           Yes   \n",
       "6  LP001013   Male     Yes          0  Not Graduate            No   \n",
       "7  LP001014   Male     Yes         3+      Graduate            No   \n",
       "\n",
       "   ApplicantIncome  CoapplicantIncome  LoanAmount  Loan_Amount_Term  \\\n",
       "0             5849                0.0         NaN             360.0   \n",
       "1             4583             1508.0       128.0             360.0   \n",
       "2             3000                0.0        66.0             360.0   \n",
       "3             2583             2358.0       120.0             360.0   \n",
       "4             6000                0.0       141.0             360.0   \n",
       "5             5417             4196.0       267.0             360.0   \n",
       "6             2333             1516.0        95.0             360.0   \n",
       "7             3036             2504.0       158.0             360.0   \n",
       "\n",
       "   Credit_History Property_Area Loan_Status  \n",
       "0             1.0         Urban           Y  \n",
       "1             1.0         Rural           N  \n",
       "2             1.0         Urban           Y  \n",
       "3             1.0         Urban           Y  \n",
       "4             1.0         Urban           Y  \n",
       "5             1.0         Urban           Y  \n",
       "6             1.0         Urban           Y  \n",
       "7             0.0     Semiurban           N  "
      ]
     },
     "execution_count": 11,
     "metadata": {},
     "output_type": "execute_result"
    }
   ],
   "source": [
    "data = pd.read_csv(\"loan.csv\")\n",
    "data.head(8)\n",
    "#Co-applicant : Someone who applies with you for the loan\n",
    "#Applicant Income: Monthly (in USD)\n",
    "#Loan_Amount_Term : Time to payback loan (in months)\n",
    "#Loan amount: in 100k usd"
   ]
  },
  {
   "cell_type": "code",
   "execution_count": 12,
   "id": "da27209a",
   "metadata": {},
   "outputs": [
    {
     "data": {
      "text/plain": [
       "(614, 13)"
      ]
     },
     "execution_count": 12,
     "metadata": {},
     "output_type": "execute_result"
    }
   ],
   "source": [
    "data.shape"
   ]
  },
  {
   "cell_type": "code",
   "execution_count": 13,
   "id": "ca6bd23e",
   "metadata": {},
   "outputs": [
    {
     "data": {
      "text/plain": [
       "Loan_ID               object\n",
       "Gender                object\n",
       "Married               object\n",
       "Dependents            object\n",
       "Education             object\n",
       "Self_Employed         object\n",
       "ApplicantIncome        int64\n",
       "CoapplicantIncome    float64\n",
       "LoanAmount           float64\n",
       "Loan_Amount_Term     float64\n",
       "Credit_History       float64\n",
       "Property_Area         object\n",
       "Loan_Status           object\n",
       "dtype: object"
      ]
     },
     "execution_count": 13,
     "metadata": {},
     "output_type": "execute_result"
    }
   ],
   "source": [
    "data.dtypes"
   ]
  },
  {
   "cell_type": "code",
   "execution_count": 14,
   "id": "bf9d58e1",
   "metadata": {},
   "outputs": [
    {
     "data": {
      "text/html": [
       "<div>\n",
       "<style scoped>\n",
       "    .dataframe tbody tr th:only-of-type {\n",
       "        vertical-align: middle;\n",
       "    }\n",
       "\n",
       "    .dataframe tbody tr th {\n",
       "        vertical-align: top;\n",
       "    }\n",
       "\n",
       "    .dataframe thead th {\n",
       "        text-align: right;\n",
       "    }\n",
       "</style>\n",
       "<table border=\"1\" class=\"dataframe\">\n",
       "  <thead>\n",
       "    <tr style=\"text-align: right;\">\n",
       "      <th></th>\n",
       "      <th>ApplicantIncome</th>\n",
       "      <th>CoapplicantIncome</th>\n",
       "      <th>LoanAmount</th>\n",
       "      <th>Loan_Amount_Term</th>\n",
       "      <th>Credit_History</th>\n",
       "    </tr>\n",
       "  </thead>\n",
       "  <tbody>\n",
       "    <tr>\n",
       "      <th>count</th>\n",
       "      <td>614.000000</td>\n",
       "      <td>614.000000</td>\n",
       "      <td>592.000000</td>\n",
       "      <td>600.00000</td>\n",
       "      <td>564.000000</td>\n",
       "    </tr>\n",
       "    <tr>\n",
       "      <th>mean</th>\n",
       "      <td>5403.459283</td>\n",
       "      <td>1621.245798</td>\n",
       "      <td>146.412162</td>\n",
       "      <td>342.00000</td>\n",
       "      <td>0.842199</td>\n",
       "    </tr>\n",
       "    <tr>\n",
       "      <th>std</th>\n",
       "      <td>6109.041673</td>\n",
       "      <td>2926.248369</td>\n",
       "      <td>85.587325</td>\n",
       "      <td>65.12041</td>\n",
       "      <td>0.364878</td>\n",
       "    </tr>\n",
       "    <tr>\n",
       "      <th>min</th>\n",
       "      <td>150.000000</td>\n",
       "      <td>0.000000</td>\n",
       "      <td>9.000000</td>\n",
       "      <td>12.00000</td>\n",
       "      <td>0.000000</td>\n",
       "    </tr>\n",
       "    <tr>\n",
       "      <th>25%</th>\n",
       "      <td>2877.500000</td>\n",
       "      <td>0.000000</td>\n",
       "      <td>100.000000</td>\n",
       "      <td>360.00000</td>\n",
       "      <td>1.000000</td>\n",
       "    </tr>\n",
       "    <tr>\n",
       "      <th>50%</th>\n",
       "      <td>3812.500000</td>\n",
       "      <td>1188.500000</td>\n",
       "      <td>128.000000</td>\n",
       "      <td>360.00000</td>\n",
       "      <td>1.000000</td>\n",
       "    </tr>\n",
       "    <tr>\n",
       "      <th>75%</th>\n",
       "      <td>5795.000000</td>\n",
       "      <td>2297.250000</td>\n",
       "      <td>168.000000</td>\n",
       "      <td>360.00000</td>\n",
       "      <td>1.000000</td>\n",
       "    </tr>\n",
       "    <tr>\n",
       "      <th>max</th>\n",
       "      <td>81000.000000</td>\n",
       "      <td>41667.000000</td>\n",
       "      <td>700.000000</td>\n",
       "      <td>480.00000</td>\n",
       "      <td>1.000000</td>\n",
       "    </tr>\n",
       "  </tbody>\n",
       "</table>\n",
       "</div>"
      ],
      "text/plain": [
       "       ApplicantIncome  CoapplicantIncome  LoanAmount  Loan_Amount_Term  \\\n",
       "count       614.000000         614.000000  592.000000         600.00000   \n",
       "mean       5403.459283        1621.245798  146.412162         342.00000   \n",
       "std        6109.041673        2926.248369   85.587325          65.12041   \n",
       "min         150.000000           0.000000    9.000000          12.00000   \n",
       "25%        2877.500000           0.000000  100.000000         360.00000   \n",
       "50%        3812.500000        1188.500000  128.000000         360.00000   \n",
       "75%        5795.000000        2297.250000  168.000000         360.00000   \n",
       "max       81000.000000       41667.000000  700.000000         480.00000   \n",
       "\n",
       "       Credit_History  \n",
       "count      564.000000  \n",
       "mean         0.842199  \n",
       "std          0.364878  \n",
       "min          0.000000  \n",
       "25%          1.000000  \n",
       "50%          1.000000  \n",
       "75%          1.000000  \n",
       "max          1.000000  "
      ]
     },
     "execution_count": 14,
     "metadata": {},
     "output_type": "execute_result"
    }
   ],
   "source": [
    "data.describe()"
   ]
  },
  {
   "cell_type": "code",
   "execution_count": 15,
   "id": "69bb0578",
   "metadata": {},
   "outputs": [
    {
     "data": {
      "text/html": [
       "<div>\n",
       "<style scoped>\n",
       "    .dataframe tbody tr th:only-of-type {\n",
       "        vertical-align: middle;\n",
       "    }\n",
       "\n",
       "    .dataframe tbody tr th {\n",
       "        vertical-align: top;\n",
       "    }\n",
       "\n",
       "    .dataframe thead th {\n",
       "        text-align: right;\n",
       "    }\n",
       "</style>\n",
       "<table border=\"1\" class=\"dataframe\">\n",
       "  <thead>\n",
       "    <tr style=\"text-align: right;\">\n",
       "      <th></th>\n",
       "      <th>Loan_ID</th>\n",
       "      <th>Gender</th>\n",
       "      <th>Married</th>\n",
       "      <th>Dependents</th>\n",
       "      <th>Education</th>\n",
       "      <th>Self_Employed</th>\n",
       "      <th>Property_Area</th>\n",
       "      <th>Loan_Status</th>\n",
       "    </tr>\n",
       "  </thead>\n",
       "  <tbody>\n",
       "    <tr>\n",
       "      <th>count</th>\n",
       "      <td>614</td>\n",
       "      <td>601</td>\n",
       "      <td>611</td>\n",
       "      <td>599</td>\n",
       "      <td>614</td>\n",
       "      <td>582</td>\n",
       "      <td>614</td>\n",
       "      <td>614</td>\n",
       "    </tr>\n",
       "    <tr>\n",
       "      <th>unique</th>\n",
       "      <td>614</td>\n",
       "      <td>2</td>\n",
       "      <td>2</td>\n",
       "      <td>4</td>\n",
       "      <td>2</td>\n",
       "      <td>2</td>\n",
       "      <td>3</td>\n",
       "      <td>2</td>\n",
       "    </tr>\n",
       "    <tr>\n",
       "      <th>top</th>\n",
       "      <td>LP001002</td>\n",
       "      <td>Male</td>\n",
       "      <td>Yes</td>\n",
       "      <td>0</td>\n",
       "      <td>Graduate</td>\n",
       "      <td>No</td>\n",
       "      <td>Semiurban</td>\n",
       "      <td>Y</td>\n",
       "    </tr>\n",
       "    <tr>\n",
       "      <th>freq</th>\n",
       "      <td>1</td>\n",
       "      <td>489</td>\n",
       "      <td>398</td>\n",
       "      <td>345</td>\n",
       "      <td>480</td>\n",
       "      <td>500</td>\n",
       "      <td>233</td>\n",
       "      <td>422</td>\n",
       "    </tr>\n",
       "  </tbody>\n",
       "</table>\n",
       "</div>"
      ],
      "text/plain": [
       "         Loan_ID Gender Married Dependents Education Self_Employed  \\\n",
       "count        614    601     611        599       614           582   \n",
       "unique       614      2       2          4         2             2   \n",
       "top     LP001002   Male     Yes          0  Graduate            No   \n",
       "freq           1    489     398        345       480           500   \n",
       "\n",
       "       Property_Area Loan_Status  \n",
       "count            614         614  \n",
       "unique             3           2  \n",
       "top        Semiurban           Y  \n",
       "freq             233         422  "
      ]
     },
     "execution_count": 15,
     "metadata": {},
     "output_type": "execute_result"
    }
   ],
   "source": [
    "data.describe(include = \"object\")"
   ]
  },
  {
   "cell_type": "code",
   "execution_count": 8,
   "id": "904affb0",
   "metadata": {},
   "outputs": [
    {
     "ename": "NameError",
     "evalue": "name 'cat_column' is not defined",
     "output_type": "error",
     "traceback": [
      "\u001b[1;31m---------------------------------------------------------------------------\u001b[0m",
      "\u001b[1;31mNameError\u001b[0m                                 Traceback (most recent call last)",
      "Cell \u001b[1;32mIn[8], line 1\u001b[0m\n\u001b[1;32m----> 1\u001b[0m cat_column\n",
      "\u001b[1;31mNameError\u001b[0m: name 'cat_column' is not defined"
     ]
    }
   ],
   "source": [
    "cat_column"
   ]
  },
  {
   "cell_type": "code",
   "execution_count": 16,
   "id": "ed90efa0",
   "metadata": {},
   "outputs": [
    {
     "data": {
      "text/html": [
       "<div>\n",
       "<style scoped>\n",
       "    .dataframe tbody tr th:only-of-type {\n",
       "        vertical-align: middle;\n",
       "    }\n",
       "\n",
       "    .dataframe tbody tr th {\n",
       "        vertical-align: top;\n",
       "    }\n",
       "\n",
       "    .dataframe thead th {\n",
       "        text-align: right;\n",
       "    }\n",
       "</style>\n",
       "<table border=\"1\" class=\"dataframe\">\n",
       "  <thead>\n",
       "    <tr style=\"text-align: right;\">\n",
       "      <th></th>\n",
       "      <th>Total Null</th>\n",
       "      <th>perc_of_total</th>\n",
       "    </tr>\n",
       "  </thead>\n",
       "  <tbody>\n",
       "    <tr>\n",
       "      <th>Loan_ID</th>\n",
       "      <td>0</td>\n",
       "      <td>0.0</td>\n",
       "    </tr>\n",
       "    <tr>\n",
       "      <th>Gender</th>\n",
       "      <td>13</td>\n",
       "      <td>2.1</td>\n",
       "    </tr>\n",
       "    <tr>\n",
       "      <th>Married</th>\n",
       "      <td>3</td>\n",
       "      <td>0.5</td>\n",
       "    </tr>\n",
       "    <tr>\n",
       "      <th>Dependents</th>\n",
       "      <td>15</td>\n",
       "      <td>2.4</td>\n",
       "    </tr>\n",
       "    <tr>\n",
       "      <th>Education</th>\n",
       "      <td>0</td>\n",
       "      <td>0.0</td>\n",
       "    </tr>\n",
       "    <tr>\n",
       "      <th>Self_Employed</th>\n",
       "      <td>32</td>\n",
       "      <td>5.2</td>\n",
       "    </tr>\n",
       "    <tr>\n",
       "      <th>ApplicantIncome</th>\n",
       "      <td>0</td>\n",
       "      <td>0.0</td>\n",
       "    </tr>\n",
       "    <tr>\n",
       "      <th>CoapplicantIncome</th>\n",
       "      <td>0</td>\n",
       "      <td>0.0</td>\n",
       "    </tr>\n",
       "    <tr>\n",
       "      <th>LoanAmount</th>\n",
       "      <td>22</td>\n",
       "      <td>3.6</td>\n",
       "    </tr>\n",
       "    <tr>\n",
       "      <th>Loan_Amount_Term</th>\n",
       "      <td>14</td>\n",
       "      <td>2.3</td>\n",
       "    </tr>\n",
       "    <tr>\n",
       "      <th>Credit_History</th>\n",
       "      <td>50</td>\n",
       "      <td>8.1</td>\n",
       "    </tr>\n",
       "    <tr>\n",
       "      <th>Property_Area</th>\n",
       "      <td>0</td>\n",
       "      <td>0.0</td>\n",
       "    </tr>\n",
       "    <tr>\n",
       "      <th>Loan_Status</th>\n",
       "      <td>0</td>\n",
       "      <td>0.0</td>\n",
       "    </tr>\n",
       "  </tbody>\n",
       "</table>\n",
       "</div>"
      ],
      "text/plain": [
       "                   Total Null  perc_of_total\n",
       "Loan_ID                     0            0.0\n",
       "Gender                     13            2.1\n",
       "Married                     3            0.5\n",
       "Dependents                 15            2.4\n",
       "Education                   0            0.0\n",
       "Self_Employed              32            5.2\n",
       "ApplicantIncome             0            0.0\n",
       "CoapplicantIncome           0            0.0\n",
       "LoanAmount                 22            3.6\n",
       "Loan_Amount_Term           14            2.3\n",
       "Credit_History             50            8.1\n",
       "Property_Area               0            0.0\n",
       "Loan_Status                 0            0.0"
      ]
     },
     "execution_count": 16,
     "metadata": {},
     "output_type": "execute_result"
    }
   ],
   "source": [
    "pd.concat([data.isna().sum().rename(\"Total Null\"), ((data.isna().sum()/data.shape[0]).round(3)*100).rename(\"perc_of_total\")], \n",
    "          axis = 1)"
   ]
  },
  {
   "cell_type": "code",
   "execution_count": 17,
   "id": "7712e1ab",
   "metadata": {},
   "outputs": [
    {
     "data": {
      "text/html": [
       "<div>\n",
       "<style scoped>\n",
       "    .dataframe tbody tr th:only-of-type {\n",
       "        vertical-align: middle;\n",
       "    }\n",
       "\n",
       "    .dataframe tbody tr th {\n",
       "        vertical-align: top;\n",
       "    }\n",
       "\n",
       "    .dataframe thead th {\n",
       "        text-align: right;\n",
       "    }\n",
       "</style>\n",
       "<table border=\"1\" class=\"dataframe\">\n",
       "  <thead>\n",
       "    <tr style=\"text-align: right;\">\n",
       "      <th>Dependents</th>\n",
       "      <th>0</th>\n",
       "      <th>1</th>\n",
       "      <th>2</th>\n",
       "      <th>3+</th>\n",
       "    </tr>\n",
       "    <tr>\n",
       "      <th>Loan_Status</th>\n",
       "      <th></th>\n",
       "      <th></th>\n",
       "      <th></th>\n",
       "      <th></th>\n",
       "    </tr>\n",
       "  </thead>\n",
       "  <tbody>\n",
       "    <tr>\n",
       "      <th>N</th>\n",
       "      <td>107</td>\n",
       "      <td>36</td>\n",
       "      <td>25</td>\n",
       "      <td>18</td>\n",
       "    </tr>\n",
       "    <tr>\n",
       "      <th>Y</th>\n",
       "      <td>238</td>\n",
       "      <td>66</td>\n",
       "      <td>76</td>\n",
       "      <td>33</td>\n",
       "    </tr>\n",
       "  </tbody>\n",
       "</table>\n",
       "</div>"
      ],
      "text/plain": [
       "Dependents     0   1   2  3+\n",
       "Loan_Status                 \n",
       "N            107  36  25  18\n",
       "Y            238  66  76  33"
      ]
     },
     "execution_count": 17,
     "metadata": {},
     "output_type": "execute_result"
    }
   ],
   "source": [
    "ct = pd.crosstab(data[\"Loan_Status\"], data[\"Dependents\"])\n",
    "ct"
   ]
  },
  {
   "cell_type": "code",
   "execution_count": 18,
   "id": "f5aa8de4",
   "metadata": {},
   "outputs": [
    {
     "data": {
      "text/plain": [
       "Chi2ContingencyResult(statistic=3.158339770698263, pvalue=0.3678506740863211, dof=3, expected_freq=array([[107.12854758,  31.67278798,  31.36227045,  15.83639399],\n",
       "       [237.87145242,  70.32721202,  69.63772955,  35.16360601]]))"
      ]
     },
     "execution_count": 18,
     "metadata": {},
     "output_type": "execute_result"
    }
   ],
   "source": [
    "chi2_contingency(ct)"
   ]
  },
  {
   "cell_type": "code",
   "execution_count": 19,
   "id": "0c4d1913",
   "metadata": {},
   "outputs": [
    {
     "ename": "KeyError",
     "evalue": "\"['Dependents_2'] not found in axis\"",
     "output_type": "error",
     "traceback": [
      "\u001b[1;31m---------------------------------------------------------------------------\u001b[0m",
      "\u001b[1;31mKeyError\u001b[0m                                  Traceback (most recent call last)",
      "Cell \u001b[1;32mIn[19], line 1\u001b[0m\n\u001b[1;32m----> 1\u001b[0m data\u001b[38;5;241m.\u001b[39mdrop(\u001b[38;5;124m\"\u001b[39m\u001b[38;5;124mDependents_2\u001b[39m\u001b[38;5;124m\"\u001b[39m, axis \u001b[38;5;241m=\u001b[39m \u001b[38;5;241m1\u001b[39m, inplace \u001b[38;5;241m=\u001b[39m \u001b[38;5;28;01mTrue\u001b[39;00m)\n\u001b[0;32m      2\u001b[0m data\n",
      "File \u001b[1;32m~\\anaconda3\\Lib\\site-packages\\pandas\\core\\frame.py:5258\u001b[0m, in \u001b[0;36mDataFrame.drop\u001b[1;34m(self, labels, axis, index, columns, level, inplace, errors)\u001b[0m\n\u001b[0;32m   5110\u001b[0m \u001b[38;5;28;01mdef\u001b[39;00m \u001b[38;5;21mdrop\u001b[39m(\n\u001b[0;32m   5111\u001b[0m     \u001b[38;5;28mself\u001b[39m,\n\u001b[0;32m   5112\u001b[0m     labels: IndexLabel \u001b[38;5;241m=\u001b[39m \u001b[38;5;28;01mNone\u001b[39;00m,\n\u001b[1;32m   (...)\u001b[0m\n\u001b[0;32m   5119\u001b[0m     errors: IgnoreRaise \u001b[38;5;241m=\u001b[39m \u001b[38;5;124m\"\u001b[39m\u001b[38;5;124mraise\u001b[39m\u001b[38;5;124m\"\u001b[39m,\n\u001b[0;32m   5120\u001b[0m ) \u001b[38;5;241m-\u001b[39m\u001b[38;5;241m>\u001b[39m DataFrame \u001b[38;5;241m|\u001b[39m \u001b[38;5;28;01mNone\u001b[39;00m:\n\u001b[0;32m   5121\u001b[0m \u001b[38;5;250m    \u001b[39m\u001b[38;5;124;03m\"\"\"\u001b[39;00m\n\u001b[0;32m   5122\u001b[0m \u001b[38;5;124;03m    Drop specified labels from rows or columns.\u001b[39;00m\n\u001b[0;32m   5123\u001b[0m \n\u001b[1;32m   (...)\u001b[0m\n\u001b[0;32m   5256\u001b[0m \u001b[38;5;124;03m            weight  1.0     0.8\u001b[39;00m\n\u001b[0;32m   5257\u001b[0m \u001b[38;5;124;03m    \"\"\"\u001b[39;00m\n\u001b[1;32m-> 5258\u001b[0m     \u001b[38;5;28;01mreturn\u001b[39;00m \u001b[38;5;28msuper\u001b[39m()\u001b[38;5;241m.\u001b[39mdrop(\n\u001b[0;32m   5259\u001b[0m         labels\u001b[38;5;241m=\u001b[39mlabels,\n\u001b[0;32m   5260\u001b[0m         axis\u001b[38;5;241m=\u001b[39maxis,\n\u001b[0;32m   5261\u001b[0m         index\u001b[38;5;241m=\u001b[39mindex,\n\u001b[0;32m   5262\u001b[0m         columns\u001b[38;5;241m=\u001b[39mcolumns,\n\u001b[0;32m   5263\u001b[0m         level\u001b[38;5;241m=\u001b[39mlevel,\n\u001b[0;32m   5264\u001b[0m         inplace\u001b[38;5;241m=\u001b[39minplace,\n\u001b[0;32m   5265\u001b[0m         errors\u001b[38;5;241m=\u001b[39merrors,\n\u001b[0;32m   5266\u001b[0m     )\n",
      "File \u001b[1;32m~\\anaconda3\\Lib\\site-packages\\pandas\\core\\generic.py:4549\u001b[0m, in \u001b[0;36mNDFrame.drop\u001b[1;34m(self, labels, axis, index, columns, level, inplace, errors)\u001b[0m\n\u001b[0;32m   4547\u001b[0m \u001b[38;5;28;01mfor\u001b[39;00m axis, labels \u001b[38;5;129;01min\u001b[39;00m axes\u001b[38;5;241m.\u001b[39mitems():\n\u001b[0;32m   4548\u001b[0m     \u001b[38;5;28;01mif\u001b[39;00m labels \u001b[38;5;129;01mis\u001b[39;00m \u001b[38;5;129;01mnot\u001b[39;00m \u001b[38;5;28;01mNone\u001b[39;00m:\n\u001b[1;32m-> 4549\u001b[0m         obj \u001b[38;5;241m=\u001b[39m obj\u001b[38;5;241m.\u001b[39m_drop_axis(labels, axis, level\u001b[38;5;241m=\u001b[39mlevel, errors\u001b[38;5;241m=\u001b[39merrors)\n\u001b[0;32m   4551\u001b[0m \u001b[38;5;28;01mif\u001b[39;00m inplace:\n\u001b[0;32m   4552\u001b[0m     \u001b[38;5;28mself\u001b[39m\u001b[38;5;241m.\u001b[39m_update_inplace(obj)\n",
      "File \u001b[1;32m~\\anaconda3\\Lib\\site-packages\\pandas\\core\\generic.py:4591\u001b[0m, in \u001b[0;36mNDFrame._drop_axis\u001b[1;34m(self, labels, axis, level, errors, only_slice)\u001b[0m\n\u001b[0;32m   4589\u001b[0m         new_axis \u001b[38;5;241m=\u001b[39m axis\u001b[38;5;241m.\u001b[39mdrop(labels, level\u001b[38;5;241m=\u001b[39mlevel, errors\u001b[38;5;241m=\u001b[39merrors)\n\u001b[0;32m   4590\u001b[0m     \u001b[38;5;28;01melse\u001b[39;00m:\n\u001b[1;32m-> 4591\u001b[0m         new_axis \u001b[38;5;241m=\u001b[39m axis\u001b[38;5;241m.\u001b[39mdrop(labels, errors\u001b[38;5;241m=\u001b[39merrors)\n\u001b[0;32m   4592\u001b[0m     indexer \u001b[38;5;241m=\u001b[39m axis\u001b[38;5;241m.\u001b[39mget_indexer(new_axis)\n\u001b[0;32m   4594\u001b[0m \u001b[38;5;66;03m# Case for non-unique axis\u001b[39;00m\n\u001b[0;32m   4595\u001b[0m \u001b[38;5;28;01melse\u001b[39;00m:\n",
      "File \u001b[1;32m~\\anaconda3\\Lib\\site-packages\\pandas\\core\\indexes\\base.py:6699\u001b[0m, in \u001b[0;36mIndex.drop\u001b[1;34m(self, labels, errors)\u001b[0m\n\u001b[0;32m   6697\u001b[0m \u001b[38;5;28;01mif\u001b[39;00m mask\u001b[38;5;241m.\u001b[39many():\n\u001b[0;32m   6698\u001b[0m     \u001b[38;5;28;01mif\u001b[39;00m errors \u001b[38;5;241m!=\u001b[39m \u001b[38;5;124m\"\u001b[39m\u001b[38;5;124mignore\u001b[39m\u001b[38;5;124m\"\u001b[39m:\n\u001b[1;32m-> 6699\u001b[0m         \u001b[38;5;28;01mraise\u001b[39;00m \u001b[38;5;167;01mKeyError\u001b[39;00m(\u001b[38;5;124mf\u001b[39m\u001b[38;5;124m\"\u001b[39m\u001b[38;5;132;01m{\u001b[39;00m\u001b[38;5;28mlist\u001b[39m(labels[mask])\u001b[38;5;132;01m}\u001b[39;00m\u001b[38;5;124m not found in axis\u001b[39m\u001b[38;5;124m\"\u001b[39m)\n\u001b[0;32m   6700\u001b[0m     indexer \u001b[38;5;241m=\u001b[39m indexer[\u001b[38;5;241m~\u001b[39mmask]\n\u001b[0;32m   6701\u001b[0m \u001b[38;5;28;01mreturn\u001b[39;00m \u001b[38;5;28mself\u001b[39m\u001b[38;5;241m.\u001b[39mdelete(indexer)\n",
      "\u001b[1;31mKeyError\u001b[0m: \"['Dependents_2'] not found in axis\""
     ]
    }
   ],
   "source": [
    "data.drop(\"Dependents_2\", axis = 1, inplace = True)\n",
    "data"
   ]
  },
  {
   "cell_type": "code",
   "execution_count": null,
   "id": "b9b029e3",
   "metadata": {},
   "outputs": [],
   "source": [
    "data[\"Dependents_2\"] = data[\"Dependents\"].replace({\"0\" : \"0\", \"1\" : \">0\", \"2\" : \">0\", \"3+\" : \">0\"})\n",
    "data[\"Dependents_2\"]"
   ]
  },
  {
   "cell_type": "code",
   "execution_count": null,
   "id": "e4d1a7f9",
   "metadata": {},
   "outputs": [],
   "source": [
    "data[\"Dependents_2\"].value_counts()"
   ]
  },
  {
   "cell_type": "code",
   "execution_count": null,
   "id": "026e7df1",
   "metadata": {},
   "outputs": [],
   "source": [
    "ct1 = pd.crosstab(data[\"Loan_Status\"], data[\"Dependents_2\"])\n",
    "ct1"
   ]
  },
  {
   "cell_type": "code",
   "execution_count": null,
   "id": "e534913f",
   "metadata": {},
   "outputs": [],
   "source": [
    "sns.countplot(data = data, x = \"Dependents_2\", hue = \"Loan_Status\",)"
   ]
  },
  {
   "cell_type": "code",
   "execution_count": null,
   "id": "4fbd7a3a",
   "metadata": {},
   "outputs": [],
   "source": [
    "chi2_contingency(ct1)"
   ]
  },
  {
   "cell_type": "markdown",
   "id": "49f44db4",
   "metadata": {},
   "source": [
    "### <center><u> Assignments - Feature Engg. 1-2</u></center>"
   ]
  },
  {
   "cell_type": "markdown",
   "id": "dd28b017",
   "metadata": {},
   "source": [
    "**Q.** We believe that the loan.csv data shows that unmarried men are in a different income group than both married and unmarried women. To prove this, would a t-test be more appropriate or a chi-square test?\n",
    "Carry out the test on the 'ApplicantIncome' column for the two groups and report the p-value. Also report your interpretation."
   ]
  },
  {
   "cell_type": "code",
   "execution_count": 26,
   "id": "ec13b647",
   "metadata": {},
   "outputs": [
    {
     "name": "stdout",
     "output_type": "stream",
     "text": [
      "0\n"
     ]
    }
   ],
   "source": [
    "loan = pd.read_csv(\"loan.csv\")\n",
    "unmarried_men = loan[(loan[\"Gender\"] == \"Male\") & (loan[\"Married\"] == \"No\")]\n",
    "women = loan[loan[\"Gender\"] == \"Female\"]\n",
    "print(unmarried_men[\"ApplicantIncome\"].isna().sum() + women[\"ApplicantIncome\"].isna().sum())"
   ]
  },
  {
   "cell_type": "code",
   "execution_count": 27,
   "id": "8ca39140",
   "metadata": {},
   "outputs": [
    {
     "data": {
      "text/plain": [
       "TtestResult(statistic=1.1403012035198827, pvalue=0.25529750307622384, df=240.0)"
      ]
     },
     "execution_count": 27,
     "metadata": {},
     "output_type": "execute_result"
    }
   ],
   "source": [
    "from scipy.stats import ttest_ind\n",
    "\n",
    "ttest_ind(unmarried_men[\"ApplicantIncome\"], women[\"ApplicantIncome\"], alternative = \"two-sided\")"
   ]
  },
  {
   "cell_type": "markdown",
   "id": "8c047542",
   "metadata": {},
   "source": [
    "**Q.** We believe that the loan.csv data shows that graduate unmarried men are in a different income group than both married and unmarried graduate women. To prove this, would a t-test be more appropriate or a chi-square test?\n",
    "Carry out the test on the 'ApplicantIncome' column for the two groups and report the p-value. Also report your interpretation."
   ]
  },
  {
   "cell_type": "code",
   "execution_count": 28,
   "id": "dea38938",
   "metadata": {},
   "outputs": [
    {
     "name": "stdout",
     "output_type": "stream",
     "text": [
      "0\n"
     ]
    }
   ],
   "source": [
    "grad_unmarried_men = unmarried_men[unmarried_men[\"Education\"] == \"Graduate\"]\n",
    "grad_women = women[women[\"Education\"] == \"Graduate\"]\n",
    "print(grad_unmarried_men[\"ApplicantIncome\"].isna().sum() + grad_women[\"ApplicantIncome\"].isna().sum())"
   ]
  },
  {
   "cell_type": "code",
   "execution_count": 29,
   "id": "5f36d998",
   "metadata": {},
   "outputs": [
    {
     "data": {
      "text/plain": [
       "TtestResult(statistic=1.75360894634636, pvalue=0.0811185605889597, df=189.0)"
      ]
     },
     "execution_count": 29,
     "metadata": {},
     "output_type": "execute_result"
    }
   ],
   "source": [
    "ttest_ind(grad_unmarried_men[\"ApplicantIncome\"], grad_women[\"ApplicantIncome\"], alternative = \"two-sided\")"
   ]
  },
  {
   "cell_type": "markdown",
   "id": "402347d1",
   "metadata": {},
   "source": [
    "**Q.** We believe that the loan.csv data shows that graduate unmarried men are more likely to get a loan than graduate women.\n",
    "To prove this, would a t-test be more appropriate or a chi-square test?\n",
    "Carry out the appropriate test on the 'Loan_Status' column for the two groups and report the p-value. Also report your interpretation.\n",
    "\n",
    "**Ans:** Chi2 test for independence"
   ]
  },
  {
   "cell_type": "code",
   "execution_count": 25,
   "id": "b4e5cd8a",
   "metadata": {},
   "outputs": [
    {
     "data": {
      "text/plain": [
       "<Axes: xlabel='GUM', ylabel='count'>"
      ]
     },
     "execution_count": 25,
     "metadata": {},
     "output_type": "execute_result"
    },
    {
     "data": {
      "image/png": "[encoded data removed]",
      "text/plain": [
       "<Figure size 640x480 with 1 Axes>"
      ]
     },
     "metadata": {},
     "output_type": "display_data"
    }
   ],
   "source": [
    "temp_df = pd.concat([grad_unmarried_men[\"Loan_Status\"], grad_women[\"Loan_Status\"]], axis = 1, ignore_index = True)\n",
    "temp_df.columns = [\"GUM\", \"GW\"]\n",
    "sns.countplot(data = temp_df, x = \"GUM\")"
   ]
  },
  {
   "cell_type": "code",
   "execution_count": 24,
   "id": "c5ffe46b",
   "metadata": {},
   "outputs": [
    {
     "ename": "NameError",
     "evalue": "name 'temp_df' is not defined",
     "output_type": "error",
     "traceback": [
      "\u001b[1;31m---------------------------------------------------------------------------\u001b[0m",
      "\u001b[1;31mNameError\u001b[0m                                 Traceback (most recent call last)",
      "Cell \u001b[1;32mIn[24], line 2\u001b[0m\n\u001b[0;32m      1\u001b[0m temp_df_1 \u001b[38;5;241m=\u001b[39m grad_unmarried_men[[\u001b[38;5;124m\"\u001b[39m\u001b[38;5;124mLoan_Status\u001b[39m\u001b[38;5;124m\"\u001b[39m]]\n\u001b[1;32m----> 2\u001b[0m temp_df_1[\u001b[38;5;124m\"\u001b[39m\u001b[38;5;124mType\u001b[39m\u001b[38;5;124m\"\u001b[39m] \u001b[38;5;241m=\u001b[39m [\u001b[38;5;124m\"\u001b[39m\u001b[38;5;124mGUM\u001b[39m\u001b[38;5;124m\"\u001b[39m] \u001b[38;5;241m*\u001b[39m \u001b[38;5;28mlen\u001b[39m(temp_df)\n\u001b[0;32m      3\u001b[0m temp_df_2 \u001b[38;5;241m=\u001b[39m grad_women[[\u001b[38;5;124m\"\u001b[39m\u001b[38;5;124mLoan_Status\u001b[39m\u001b[38;5;124m\"\u001b[39m]]\n\u001b[0;32m      4\u001b[0m temp_df_2[\u001b[38;5;124m\"\u001b[39m\u001b[38;5;124mType\u001b[39m\u001b[38;5;124m\"\u001b[39m] \u001b[38;5;241m=\u001b[39m [\u001b[38;5;124m\"\u001b[39m\u001b[38;5;124mGW\u001b[39m\u001b[38;5;124m\"\u001b[39m] \u001b[38;5;241m*\u001b[39m \u001b[38;5;28mlen\u001b[39m(temp_df_2)\n",
      "\u001b[1;31mNameError\u001b[0m: name 'temp_df' is not defined"
     ]
    }
   ],
   "source": [
    "temp_df_1 = grad_unmarried_men[[\"Loan_Status\"]]\n",
    "temp_df_1[\"Type\"] = [\"GUM\"] * len(temp_df)\n",
    "temp_df_2 = grad_women[[\"Loan_Status\"]]\n",
    "temp_df_2[\"Type\"] = [\"GW\"] * len(temp_df_2)\n",
    "temp_df_3 = pd.concat([temp_df_1, temp_df_2], axis = 0).reset_index(drop = True)\n",
    "ct = pd.crosstab(temp_df_3[\"Loan_Status\"], temp_df_3[\"Type\"])\n",
    "chi2_contingency(ct)"
   ]
  },
  {
   "cell_type": "code",
   "execution_count": null,
   "id": "416d9798",
   "metadata": {},
   "outputs": [],
   "source": [
    "sns.countplot(data = temp_df, x = \"GW\")"
   ]
  },
  {
   "cell_type": "markdown",
   "id": "2241ab02",
   "metadata": {},
   "source": [
    "**Q.** Create new Feature "
   ]
  },
  {
   "cell_type": "code",
   "execution_count": null,
   "id": "072f48cc",
   "metadata": {},
   "outputs": [],
   "source": [
    "data = pd.read_csv(\"loan.csv\")\n",
    "data.dropna(inplace = True)\n",
    "data['NewFeature'] = (data[\"ApplicantIncome\"]) + (3 * data[\"LoanAmount\"]) + (7000 * data[\"Credit_History\"])\n",
    "avg = data['NewFeature'].mean()\n",
    "data['Separator'] = (data['NewFeature'] > (0.25 * avg)).astype(int)\n",
    "chi2_contingency(pd.crosstab(data['Separator'], data[\"Loan_Status\"]))[1].round(4)"
   ]
  },
  {
   "cell_type": "markdown",
   "id": "1d48078a",
   "metadata": {},
   "source": [
    "**Q.** In the loan.csv dataset, we wish to test the hypothesis that among all loan applicants who were rejected for a loan, applicants with a credit history of 1 are more likely to be female. Use a chi-square test to verify this claim (Ensure that you drop all nan rows), and report your interpretation with LOS = 5%"
   ]
  },
  {
   "cell_type": "code",
   "execution_count": null,
   "id": "5500f4f4",
   "metadata": {},
   "outputs": [],
   "source": [
    "data = pd.read_csv(\"loan.csv\")\n",
    "data.dropna(inplace = True)\n",
    "data_reject = data[(data[\"Loan_Status\"] == \"N\")]\n",
    "ct = pd.crosstab(data_reject[\"Credit_History\"], data_reject[\"Gender\"])\n",
    "ct"
   ]
  },
  {
   "cell_type": "code",
   "execution_count": null,
   "id": "c3cf0e78",
   "metadata": {},
   "outputs": [],
   "source": [
    "chi2_contingency(ct)"
   ]
  },
  {
   "cell_type": "markdown",
   "id": "449a7a58",
   "metadata": {},
   "source": [
    "**Q.** In the loan.csv dataset, we observed that among all applicants with a credit history of 1 -- 272 males and 53 females were granted loans, while 66 males and 19 females were not granted loans. We suspect a gender bias towards males here, and wish to test if there is any statistical significance to our claim. Perform a chi-square test to do so, and report your interpretations."
   ]
  },
  {
   "cell_type": "code",
   "execution_count": null,
   "id": "20ade720",
   "metadata": {},
   "outputs": [],
   "source": [
    "credit = data[data[\"Credit_History\"] == 1]\n",
    "ct = pd.crosstab(credit[\"Gender\"], credit[\"Loan_Status\"])\n",
    "ct"
   ]
  },
  {
   "cell_type": "code",
   "execution_count": null,
   "id": "ab5e919a",
   "metadata": {},
   "outputs": [],
   "source": [
    "chi2_contingency(ct)"
   ]
  },
  {
   "cell_type": "markdown",
   "id": "8dc33208",
   "metadata": {},
   "source": [
    "**Q.** In the loan.csv dataset, we wish to test the hypothesis that the loan amount payable per year is different for women and unmarried men. \n",
    "1. To do so, first define a new feature called 'Loan_Amount_per_year' using the formula 'LoanAmount' / 'Loan_Amount_Term'. \n",
    "2. Next, define group1 as the women loan applicants, and group2 as the unmarried male applicants. \n",
    "3. Print out their variances. \n",
    "4. Perform a Levene test using the median as the center to check whether the variances of the two groups are significantly different.\n",
    "5. Next, apply the t-test to check whether the average loan amount payable is significantly different for the two groups. What interpretations can be drawn from the tests conducted?"
   ]
  },
  {
   "cell_type": "code",
   "execution_count": null,
   "id": "e27f0352",
   "metadata": {},
   "outputs": [],
   "source": [
    "data = pd.read_csv(\"loan.csv\")\n",
    "data['Loan_Amount_per_year'] = data['LoanAmount']/data['Loan_Amount_Term']\n",
    "group1 = data[data[\"Gender\"] == \"Female\"]\n",
    "group2 = data[(data[\"Gender\"] == \"Male\") & (data[\"Married\"] == \"No\")]"
   ]
  },
  {
   "cell_type": "code",
   "execution_count": null,
   "id": "d8eeeadf",
   "metadata": {},
   "outputs": [],
   "source": [
    "var1 = group1[\"Loan_Amount_per_year\"].var()\n",
    "var2 = group2[\"Loan_Amount_per_year\"].var()\n",
    "print(var1, var2)\n",
    "print(var1/var2)\n",
    "#Hence we will use Welch's T-Test"
   ]
  },
  {
   "cell_type": "code",
   "execution_count": null,
   "id": "e2eb2b0d",
   "metadata": {},
   "outputs": [],
   "source": [
    "group1.dropna(inplace = True)\n",
    "group2.dropna(inplace = True)"
   ]
  },
  {
   "cell_type": "code",
   "execution_count": null,
   "id": "2e64884b",
   "metadata": {},
   "outputs": [],
   "source": [
    "from scipy.stats import levene\n",
    "levene(group1[\"Loan_Amount_per_year\"], group2[\"Loan_Amount_per_year\"], center = \"median\")"
   ]
  },
  {
   "cell_type": "code",
   "execution_count": null,
   "id": "963fae17",
   "metadata": {},
   "outputs": [],
   "source": [
    "m1 = group1[\"Loan_Amount_per_year\"].mean()\n",
    "m2 = group2[\"Loan_Amount_per_year\"].mean()\n",
    "n1 = group1[\"Loan_Amount_per_year\"].count()\n",
    "n2 = group2[\"Loan_Amount_per_year\"].count()"
   ]
  },
  {
   "cell_type": "code",
   "execution_count": null,
   "id": "6716e347",
   "metadata": {},
   "outputs": [],
   "source": [
    "from scipy.stats import ttest_ind_from_stats\n",
    "(t_stat, p_val) = ttest_ind_from_stats(m1, np.sqrt(var1), n1, m2, np.sqrt(var2), n2, equal_var = False, alternative=\"two-sided\")\n",
    "\n",
    "if p_val < 0.05:\n",
    "    print(\"Null hyp rejected\", p_val)\n",
    "else:\n",
    "    print(\"Fail to reject\", p_val)"
   ]
  },
  {
   "cell_type": "markdown",
   "id": "a7286ed9",
   "metadata": {},
   "source": [
    "**Q.** In the loan.csv dataset, we wish to test the hypothesis that among all loan applicants **with a Credit_History of 1 who were rejected for a loan**, the married group of people applied for a loan amount that is significantly different from the unmarried applicants.\n",
    "1. To do so, first, define group1 as the married group and group2 as the unmarried group, and retrieve their \"LoanAmount\" details. \n",
    "2. Drop the columns containing 'nan'.\n",
    "3. Print out their variances, and perform a Levene test to check whether the variance in the loan amount for the two groups is significantly different.\n",
    "4. Next, apply the Krushkal test to check if the median loan amount is significantly different for the two groups. What interpretations can you draw from the tests performed?"
   ]
  },
  {
   "cell_type": "code",
   "execution_count": null,
   "id": "796778c6",
   "metadata": {},
   "outputs": [],
   "source": [
    "data = pd.read_csv(\"loan.csv\")\n",
    "data = data[(data[\"Credit_History\"] == 1) & (data[\"Loan_Status\"] == \"N\") ]\n",
    "group1 = data[(data[\"Married\"] == \"Yes\")]\n",
    "group2 = data[(data[\"Married\"] == \"No\")]\n",
    "group1.dropna(inplace = True)\n",
    "group2.dropna(inplace = True)"
   ]
  },
  {
   "cell_type": "code",
   "execution_count": null,
   "id": "1bce71c1",
   "metadata": {},
   "outputs": [],
   "source": [
    "var1 = group1[\"LoanAmount\"].var()\n",
    "var2 = group2[\"LoanAmount\"].var()\n",
    "print(var1, var2)\n",
    "print(var1/var2)"
   ]
  },
  {
   "cell_type": "code",
   "execution_count": null,
   "id": "e28de064",
   "metadata": {},
   "outputs": [],
   "source": [
    "from scipy.stats import levene\n",
    "stat, p_val = levene(group1[\"LoanAmount\"], group2[\"LoanAmount\"], center = \"median\")\n",
    "\n",
    "print(\"Levene P-val:\", p_val)\n",
    "if(p_val < 0.05):\n",
    "    print(\"Variances are different, reject Null Hyp\")\n",
    "else:\n",
    "    print(\"Variances are similar, fail to reject Null\")"
   ]
  },
  {
   "cell_type": "code",
   "execution_count": null,
   "id": "a4616b01",
   "metadata": {},
   "outputs": [],
   "source": [
    "from scipy.stats import kruskal\n",
    "stat, p_val = kruskal(group1[\"LoanAmount\"], group2[\"LoanAmount\"])\n",
    "\n",
    "print(stat, p_val)\n",
    "if(p_val < 0.05):\n",
    "    print(\"Medians are different, reject Null Hyp\")\n",
    "else:\n",
    "    print(\"Medians are similar, fail to reject Null\")"
   ]
  },
  {
   "cell_type": "markdown",
   "id": "5e723fd7",
   "metadata": {},
   "source": [
    "**Q.** In the loan.csv dataset, we wish to test the hypothesis that among all loan applicants who were **rejected for a loan**, the **applicant income** of the people with a **credit history of 1** is significantly different from the **applicant income** of the people with a **credit history of 0**.\n",
    "\n",
    "1. To do so, first, define group1 as the people with a credit history of 0, and group2 as the people with a credit history of 1\n",
    "2. Retrieve their Applicant Income information and drop the columns containing 'nan'.\n",
    "3. Next, apply the Krushkal test to check whether the mean applicant income of the two groups is significantly different, and the Levene test to check if the variance in the applicant income for the two groups is significantly different. \n",
    "\n",
    "What are the results of these tests, and what interpretations can you draw?"
   ]
  },
  {
   "cell_type": "code",
   "execution_count": null,
   "id": "1cab89d8",
   "metadata": {},
   "outputs": [],
   "source": [
    "data = pd.read_csv(\"loan.csv\")\n",
    "data = data[data[\"Loan_Status\"] == \"N\"]\n",
    "group1 = data[data[\"Credit_History\"] == 0][\"ApplicantIncome\"]\n",
    "group2 = data[data[\"Credit_History\"] == 1][\"ApplicantIncome\"]\n",
    "group1.dropna(inplace = True)\n",
    "group2.dropna(inplace = True)"
   ]
  },
  {
   "cell_type": "code",
   "execution_count": null,
   "id": "f86768c1",
   "metadata": {},
   "outputs": [],
   "source": [
    "fig, axs = plt.subplots(1, 2, figsize = (8, 4))\n",
    "sns.histplot(group1, ax = axs[0])\n",
    "sns.histplot(group2, ax = axs[1])\n",
    "fig.subplots_adjust(right = 2)\n",
    "plt.show()"
   ]
  },
  {
   "cell_type": "code",
   "execution_count": null,
   "id": "7dd424a4",
   "metadata": {},
   "outputs": [],
   "source": [
    "from scipy.stats import levene\n",
    "stat, p_val = levene(group1, group2, center = \"trimmed\")\n",
    "\n",
    "print(\"Levene P-val:\", p_val)\n",
    "if(p_val < 0.05):\n",
    "    print(\"Variances are different, reject Null Hyp\")\n",
    "else:\n",
    "    print(\"Variances are similar, fail to reject Null\")"
   ]
  },
  {
   "cell_type": "code",
   "execution_count": null,
   "id": "698b5c6f",
   "metadata": {},
   "outputs": [],
   "source": [
    "from scipy.stats import kruskal\n",
    "stat, p_val = kruskal(group1, group2)\n",
    "\n",
    "print(\"Kruskal P-val:\", p_val)\n",
    "if(p_val < 0.05):\n",
    "    print(\"Medians are different, reject Null Hyp\")\n",
    "else:\n",
    "    print(\"Medians are similar, fail to reject Null\")"
   ]
  },
  {
   "cell_type": "markdown",
   "id": "8c103fc3",
   "metadata": {},
   "source": [
    "**IMP: Kruskal Wallis is not a test for medians. We can only compare medians if the sample distributions are similar(size, loca, variance). Below is an example**\n",
    "\n",
    "[Note: KW Test in detail](https://towardsdatascience.com/kruskal-wallis-test-for-beginners-4fe9b0333b31)"
   ]
  },
  {
   "cell_type": "code",
   "execution_count": null,
   "id": "469a7715",
   "metadata": {},
   "outputs": [],
   "source": [
    "a1 = np.append(np.arange(-11, 1), [0] * 11)\n",
    "a2 = np.append(np.arange(0, 11), [0] * 11)\n",
    "print(np.median(a1), np.median(a2))"
   ]
  },
  {
   "cell_type": "code",
   "execution_count": null,
   "id": "05e58b94",
   "metadata": {},
   "outputs": [],
   "source": [
    "from scipy.stats import kruskal\n",
    "kruskal(a1, a2)"
   ]
  },
  {
   "cell_type": "code",
   "execution_count": null,
   "id": "697061ca",
   "metadata": {},
   "outputs": [],
   "source": []
  }
 ],
 "metadata": {
  "kernelspec": {
   "display_name": "Python 3 (ipykernel)",
   "language": "python",
   "name": "python3"
  },
  "language_info": {
   "codemirror_mode": {
    "name": "ipython",
    "version": 3
   },
   "file_extension": ".py",
   "mimetype": "text/x-python",
   "name": "python",
   "nbconvert_exporter": "python",
   "pygments_lexer": "ipython3",
   "version": "3.11.5"
  }
 },
 "nbformat": 4,
 "nbformat_minor": 5
}
