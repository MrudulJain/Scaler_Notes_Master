{
 "cells": [
  {
   "cell_type": "markdown",
   "id": "c848dd2c",
   "metadata": {},
   "source": [
    "### Imports"
   ]
  },
  {
   "cell_type": "code",
   "execution_count": 1,
   "id": "d2e6b77a",
   "metadata": {},
   "outputs": [],
   "source": [
    "import numpy as np\n",
    "import pandas as pd\n",
    "import seaborn as sns\n",
    "import matplotlib.pyplot as plt\n",
    "import math\n",
    "from scipy import stats\n",
    "\n",
    "#Distributions\n",
    "from scipy.stats import binom # discerete rand var (.pmf)\n",
    "from scipy.stats import norm # continous rand var (.pdf), cumulative(.cdf), inverse(.ppf)\n",
    "from scipy.stats import poisson #discrete rand var (.pmf)\n",
    "from scipy.stats import geom\n",
    "from scipy.stats import expon\n",
    "\n",
    "# Student's T-Test\n",
    "from scipy.stats import t #T-test --> .ppf (Get critical T value), .cdf(Get calulcated T-value)\n",
    "from scipy.stats import ttest_1samp # for 1 sample T-Test --> dataframe/list/array\n",
    "from scipy.stats import ttest_ind # for 2 sample independent T-tests --> dataframe/list/array\n",
    "from scipy.stats import ttest_rel # for 2 sample dependent T-tests --> dataframe/list/array\n",
    "from scipy.stats import ttest_ind_from_stats # for 2 sample independent T-test for given values\n",
    "\n",
    "#KS Test\n",
    "from scipy.stats import kstest #goodness of fit\n",
    "from scipy.stats import ks_1samp \n",
    "from scipy.stats import ks_2samp\n",
    "\n",
    "#Chi2 Testing\n",
    "from scipy.stats import chisquare #chi2 test for \"goodness of fit\" and \"independence\" between dataframe/list/array \n",
    "from scipy.stats import chi2_contingency #chi2 test given contigency table => pd.crosstab(, margins = False)\n",
    "from scipy.stats import chi2 #continous dist. rvs(generate rand.var), ppf (percent point function), pdf, cdf(test_stat, df, mean, std)\n",
    "\n",
    "#ANOVA & Kruskal-Wallis H Test\n",
    "from scipy.stats import f #continous random variable\n",
    "from scipy.stats import f_oneway #paramteric\n",
    "from scipy.stats import kruskal #non-paramteric form of one-way annova\n",
    "\n",
    "#Tests for equality of variance (Homogeneity of Variance)\n",
    "from scipy.stats import bartlett #More stricter check for variances. Useful for samples from nearly normal pop\n",
    "from scipy.stats import levene #For samples from significantly non-normal populations\n",
    "\n",
    "# Tests for Normality\n",
    "from scipy.stats import shapiro #Shapiro Wilk Test \n",
    "from scipy.stats import normaltest # D’Agostino and Pearson’s K2 Test\n",
    "\n",
    "# Goodness of fit --> chi2, KS, Anderson Darling, Cramer-von Mises\n",
    "# from scipy.stats import goodness_of_fit #(dist, data, statistic = {“ad”, “ks”, “cvm”}) --> Monte Carlo\n",
    "from scipy.stats import anderson_ksamp #Anderson-Darling test for goodness of fit for one sample \n",
    "\n",
    "# Correlation\n",
    "from scipy.stats import pearsonr\n",
    "from scipy.stats import spearmanr"
   ]
  },
  {
   "cell_type": "markdown",
   "id": "ca63799f",
   "metadata": {},
   "source": [
    "### Links\n",
    "\n",
    "1. https://www.scribbr.com/statistics/confidence-interval/\n",
    "2. https://www.investopedia.com/terms/n/null_hypothesis.asp#:~:text=The%20null%20hypothesis%20assumes%20that,zero%20is%20due%20to%20chance. (Check related terms)\n",
    "3. https://www.scribbr.com/statistics/null-and-alternative-hypotheses/\n",
    "4. (Big Question) https://rstudio-pubs-static.s3.amazonaws.com/793612_fb4c0b56f7144615ae99e17142853b46.html\n",
    "5. http://www.csun.edu/~an73773/HT1Ans.pdf (Multiple real life questions)\n",
    "6. https://stats.stackexchange.com/questions/208517/kolmogorov-smirnov-test-vs-t-test (KS Test vs T-Test)\n",
    "7. https://stats.stackexchange.com/questions/92141/pp-plots-vs-qq-plots (ProbPlot(PP) vs Quantile-Quantile(QQ) plot)\n",
    "\n",
    "[TO - READ: ](https://www.listendata.com/2019/07/KS-Statistics-Python.html)\n",
    "<br>[ANOVA](https://www.statisticshowto.com/probability-and-statistics/hypothesis-testing/anova/#ANOVA)\n",
    "<br> [ANOVA in detail](https://www.tibco.com/reference-center/what-is-analysis-of-variance-anova#:~:text=Analysis%20of%20Variance%20(ANOVA)%20is,the%20means%20of%20different%20groups.)\n",
    "<br>[1 way v/s 2 way ANOVA](https://www.technologynetworks.com/informatics/articles/one-way-vs-two-way-anova-definition-differences-assumptions-and-hypotheses-306553)\n",
    "<br> [chi2 v/s ANOVA](https://www.statology.org/chi-square-vs-anova/)\n",
    "<br> [ANOVA v/s T-Test](https://www.wallstreetmojo.com/anova-vs-t-test/)\n",
    "<br> [KS, SW and AD test for normality](https://towardsdatascience.com/choose-the-appropriate-normality-test-d53146ca1f1c)\n",
    "<br> [QQ plots explained](https://towardsdatascience.com/q-q-plots-explained-5aa8495426c0)\n",
    "<br> [QQ plots alt resource](https://www.ucd.ie/ecomodel/Resources/QQplots_WebVersion.html)\n",
    "<br> [Kruskal Wallis Test in detail](https://towardsdatascience.com/kruskal-wallis-test-for-beginners-4fe9b0333b31)"
   ]
  },
  {
   "cell_type": "markdown",
   "id": "c663e0b5",
   "metadata": {},
   "source": [
    "<b> Q. Family has 2 children, atleast one child is a girl. What is the probability that P(both are girls) </b>"
   ]
  },
  {
   "cell_type": "code",
   "execution_count": 38,
   "id": "eb7ad8f3",
   "metadata": {},
   "outputs": [
    {
     "data": {
      "text/plain": [
       "10000"
      ]
     },
     "execution_count": 38,
     "metadata": {},
     "output_type": "execute_result"
    }
   ],
   "source": [
    "num_families = int(10_000)\n",
    "num_families"
   ]
  },
  {
   "cell_type": "code",
   "execution_count": 9,
   "id": "c34f6105",
   "metadata": {},
   "outputs": [
    {
     "data": {
      "text/plain": [
       "0.5023"
      ]
     },
     "execution_count": 9,
     "metadata": {},
     "output_type": "execute_result"
    }
   ],
   "source": [
    "arr = np.random.choice([\"B\", \"G\"], size = num_families)\n",
    "prob_B = len(arr[arr == \"B\"]) / (len(arr))\n",
    "prob_B"
   ]
  },
  {
   "cell_type": "code",
   "execution_count": 53,
   "id": "8ae89996",
   "metadata": {},
   "outputs": [
    {
     "name": "stdout",
     "output_type": "stream",
     "text": [
      "0.9944 0.9944\n"
     ]
    }
   ],
   "source": [
    "outcomes = []\n",
    "\n",
    "for i in range(0, num_families):\n",
    "    child_1 = np.random.choice([\"B\", \"G\"])\n",
    "    child_2 = np.random.choice([\"B\", \"G\"])\n",
    "    outcomes.append([child_1, child_2])\n",
    "\n",
    "outcomes = np.asarray(outcomes)\n",
    "prob_atleast_one_girl = len(outcomes[np.isin(outcomes, \"G\")]) / len(outcomes)\n",
    "prob_both_girls = len(outcomes[np.isin(outcomes, [\"G\", \"G\"])]) / len(outcomes)\n",
    "print(prob_atleast_one_girl, prob_both_girls)"
   ]
  },
  {
   "cell_type": "code",
   "execution_count": 143,
   "id": "d94f077c",
   "metadata": {},
   "outputs": [
    {
     "data": {
      "text/html": [
       "<div>\n",
       "<style scoped>\n",
       "    .dataframe tbody tr th:only-of-type {\n",
       "        vertical-align: middle;\n",
       "    }\n",
       "\n",
       "    .dataframe tbody tr th {\n",
       "        vertical-align: top;\n",
       "    }\n",
       "\n",
       "    .dataframe thead th {\n",
       "        text-align: right;\n",
       "    }\n",
       "</style>\n",
       "<table border=\"1\" class=\"dataframe\">\n",
       "  <thead>\n",
       "    <tr style=\"text-align: right;\">\n",
       "      <th></th>\n",
       "      <th>runs</th>\n",
       "      <th>NotOut</th>\n",
       "      <th>mins</th>\n",
       "      <th>bf</th>\n",
       "      <th>fours</th>\n",
       "      <th>sixes</th>\n",
       "      <th>sr</th>\n",
       "      <th>Inns</th>\n",
       "      <th>Opp</th>\n",
       "      <th>Ground</th>\n",
       "      <th>Date</th>\n",
       "      <th>Winner</th>\n",
       "      <th>Won</th>\n",
       "      <th>century</th>\n",
       "    </tr>\n",
       "  </thead>\n",
       "  <tbody>\n",
       "    <tr>\n",
       "      <th>0</th>\n",
       "      <td>13</td>\n",
       "      <td>0</td>\n",
       "      <td>30</td>\n",
       "      <td>15</td>\n",
       "      <td>3</td>\n",
       "      <td>0</td>\n",
       "      <td>86.66</td>\n",
       "      <td>1</td>\n",
       "      <td>New Zealand</td>\n",
       "      <td>Napier</td>\n",
       "      <td>1995-02-16</td>\n",
       "      <td>New Zealand</td>\n",
       "      <td>False</td>\n",
       "      <td>False</td>\n",
       "    </tr>\n",
       "    <tr>\n",
       "      <th>1</th>\n",
       "      <td>37</td>\n",
       "      <td>0</td>\n",
       "      <td>75</td>\n",
       "      <td>51</td>\n",
       "      <td>3</td>\n",
       "      <td>1</td>\n",
       "      <td>72.54</td>\n",
       "      <td>2</td>\n",
       "      <td>South Africa</td>\n",
       "      <td>Hamilton</td>\n",
       "      <td>1995-02-18</td>\n",
       "      <td>South Africa</td>\n",
       "      <td>False</td>\n",
       "      <td>False</td>\n",
       "    </tr>\n",
       "    <tr>\n",
       "      <th>2</th>\n",
       "      <td>47</td>\n",
       "      <td>0</td>\n",
       "      <td>65</td>\n",
       "      <td>40</td>\n",
       "      <td>7</td>\n",
       "      <td>0</td>\n",
       "      <td>117.50</td>\n",
       "      <td>2</td>\n",
       "      <td>Australia</td>\n",
       "      <td>Dunedin</td>\n",
       "      <td>1995-02-22</td>\n",
       "      <td>India</td>\n",
       "      <td>True</td>\n",
       "      <td>False</td>\n",
       "    </tr>\n",
       "    <tr>\n",
       "      <th>3</th>\n",
       "      <td>48</td>\n",
       "      <td>0</td>\n",
       "      <td>37</td>\n",
       "      <td>30</td>\n",
       "      <td>9</td>\n",
       "      <td>1</td>\n",
       "      <td>160.00</td>\n",
       "      <td>2</td>\n",
       "      <td>Bangladesh</td>\n",
       "      <td>Sharjah</td>\n",
       "      <td>1995-04-05</td>\n",
       "      <td>India</td>\n",
       "      <td>True</td>\n",
       "      <td>False</td>\n",
       "    </tr>\n",
       "    <tr>\n",
       "      <th>4</th>\n",
       "      <td>4</td>\n",
       "      <td>0</td>\n",
       "      <td>13</td>\n",
       "      <td>9</td>\n",
       "      <td>1</td>\n",
       "      <td>0</td>\n",
       "      <td>44.44</td>\n",
       "      <td>2</td>\n",
       "      <td>Pakistan</td>\n",
       "      <td>Sharjah</td>\n",
       "      <td>1995-04-07</td>\n",
       "      <td>Pakistan</td>\n",
       "      <td>False</td>\n",
       "      <td>False</td>\n",
       "    </tr>\n",
       "  </tbody>\n",
       "</table>\n",
       "</div>"
      ],
      "text/plain": [
       "   runs  NotOut mins  bf  fours  sixes      sr  Inns           Opp    Ground  \\\n",
       "0    13       0   30  15      3      0   86.66     1   New Zealand    Napier   \n",
       "1    37       0   75  51      3      1   72.54     2  South Africa  Hamilton   \n",
       "2    47       0   65  40      7      0  117.50     2     Australia   Dunedin   \n",
       "3    48       0   37  30      9      1  160.00     2    Bangladesh   Sharjah   \n",
       "4     4       0   13   9      1      0   44.44     2      Pakistan   Sharjah   \n",
       "\n",
       "         Date        Winner    Won  century  \n",
       "0  1995-02-16   New Zealand  False    False  \n",
       "1  1995-02-18  South Africa  False    False  \n",
       "2  1995-02-22         India   True    False  \n",
       "3  1995-04-05         India   True    False  \n",
       "4  1995-04-07      Pakistan  False    False  "
      ]
     },
     "execution_count": 143,
     "metadata": {},
     "output_type": "execute_result"
    }
   ],
   "source": [
    "sachin = pd.read_csv(\"Sachin_ODI.csv\")\n",
    "sachin.head()"
   ]
  },
  {
   "cell_type": "code",
   "execution_count": 4,
   "id": "812250a4",
   "metadata": {},
   "outputs": [
    {
     "data": {
      "text/plain": [
       "Won    century\n",
       "False  False      0.444444\n",
       "True   False      0.427778\n",
       "       True       0.083333\n",
       "False  True       0.044444\n",
       "dtype: float64"
      ]
     },
     "execution_count": 4,
     "metadata": {},
     "output_type": "execute_result"
    }
   ],
   "source": [
    "#The Probability of losing and not scoring a century --> 0.444\n",
    "sachin[[\"Won\", \"century\"]].value_counts(normalize=True)"
   ]
  },
  {
   "cell_type": "code",
   "execution_count": 5,
   "id": "c45d3705",
   "metadata": {},
   "outputs": [
    {
     "name": "stdout",
     "output_type": "stream",
     "text": [
      "0.9171111111111112\n"
     ]
    }
   ],
   "source": [
    "#The Probability of losing or not scoring a century\n",
    "P_losing = len(sachin[sachin[\"Won\"] == False]) / sachin.shape[0]\n",
    "P_no_century = len(sachin[sachin[\"century\"] == False]) / sachin.shape[0]\n",
    "\n",
    "print(P_losing + P_no_century - 0.444) #subtracting intersection"
   ]
  },
  {
   "cell_type": "code",
   "execution_count": 8,
   "id": "a1816cc9",
   "metadata": {},
   "outputs": [
    {
     "name": "stdout",
     "output_type": "stream",
     "text": [
      "0.11363636363636363 0.10869565217391304\n"
     ]
    }
   ],
   "source": [
    "# The probability of scoring century given that the opposition is South Africa.\n",
    "# The probability that the opposition is South Africa given that he scored a century.\n",
    "\n",
    "P_Opp_Safrica = len(sachin[sachin[\"Opp\"] == \"South Africa\"]) / len(sachin[\"Opp\"])\n",
    "P_century_and_Safrica = len(sachin[(sachin[\"Opp\"] == \"South Africa\") & (sachin[\"century\"]) == True]) / len(sachin.index)\n",
    "ans1 = P_century_and_Safrica / P_Opp_Safrica\n",
    "\n",
    "P_Century = len(sachin[sachin[\"century\"] == True]) / sachin.shape[0]\n",
    "ans2 = P_century_and_Safrica / P_Century\n",
    "\n",
    "print(ans1, ans2)"
   ]
  },
  {
   "cell_type": "code",
   "execution_count": 56,
   "id": "e2acfd40",
   "metadata": {},
   "outputs": [
    {
     "data": {
      "text/html": [
       "<div>\n",
       "<style scoped>\n",
       "    .dataframe tbody tr th:only-of-type {\n",
       "        vertical-align: middle;\n",
       "    }\n",
       "\n",
       "    .dataframe tbody tr th {\n",
       "        vertical-align: top;\n",
       "    }\n",
       "\n",
       "    .dataframe thead th {\n",
       "        text-align: right;\n",
       "    }\n",
       "</style>\n",
       "<table border=\"1\" class=\"dataframe\">\n",
       "  <thead>\n",
       "    <tr style=\"text-align: right;\">\n",
       "      <th>Opp</th>\n",
       "      <th>False</th>\n",
       "      <th>True</th>\n",
       "      <th>All</th>\n",
       "    </tr>\n",
       "    <tr>\n",
       "      <th>century</th>\n",
       "      <th></th>\n",
       "      <th></th>\n",
       "      <th></th>\n",
       "    </tr>\n",
       "  </thead>\n",
       "  <tbody>\n",
       "    <tr>\n",
       "      <th>False</th>\n",
       "      <td>275</td>\n",
       "      <td>39</td>\n",
       "      <td>314</td>\n",
       "    </tr>\n",
       "    <tr>\n",
       "      <th>True</th>\n",
       "      <td>41</td>\n",
       "      <td>5</td>\n",
       "      <td>46</td>\n",
       "    </tr>\n",
       "    <tr>\n",
       "      <th>All</th>\n",
       "      <td>316</td>\n",
       "      <td>44</td>\n",
       "      <td>360</td>\n",
       "    </tr>\n",
       "  </tbody>\n",
       "</table>\n",
       "</div>"
      ],
      "text/plain": [
       "Opp      False  True  All\n",
       "century                  \n",
       "False      275    39  314\n",
       "True        41     5   46\n",
       "All        316    44  360"
      ]
     },
     "execution_count": 56,
     "metadata": {},
     "output_type": "execute_result"
    }
   ],
   "source": [
    "# ALT TO ABOVE QUESTION\n",
    "pd.crosstab(index = sachin[\"century\"], columns = (sachin[\"Opp\"] == \"South Africa\"), margins = True)"
   ]
  },
  {
   "cell_type": "markdown",
   "id": "e66a965b",
   "metadata": {},
   "source": [
    "The covid.csv contains details of whether a patient was given a medicine (m1) or not, and whether the patient survived (s) or not.\n",
    "\n",
    "Calculate the following using the above given dataset <br>\n",
    "1.) P[m1 and s] <br>\n",
    "2.) P[m1 | s] <br>\n",
    "3.) P[s | m1] <br>"
   ]
  },
  {
   "cell_type": "code",
   "execution_count": null,
   "id": "5f10ae3a",
   "metadata": {},
   "outputs": [],
   "source": [
    "covid = pd.read_csv(\"covid.csv\")\n",
    "covid.columns = [\"medicine\", \"survived\"]\n",
    "covid = covid.astype(\"bool\")"
   ]
  },
  {
   "cell_type": "code",
   "execution_count": 58,
   "id": "19a5d5a8",
   "metadata": {},
   "outputs": [
    {
     "data": {
      "text/html": [
       "<div>\n",
       "<style scoped>\n",
       "    .dataframe tbody tr th:only-of-type {\n",
       "        vertical-align: middle;\n",
       "    }\n",
       "\n",
       "    .dataframe tbody tr th {\n",
       "        vertical-align: top;\n",
       "    }\n",
       "\n",
       "    .dataframe thead th {\n",
       "        text-align: right;\n",
       "    }\n",
       "</style>\n",
       "<table border=\"1\" class=\"dataframe\">\n",
       "  <thead>\n",
       "    <tr style=\"text-align: right;\">\n",
       "      <th>survived</th>\n",
       "      <th>False</th>\n",
       "      <th>True</th>\n",
       "      <th>All</th>\n",
       "    </tr>\n",
       "    <tr>\n",
       "      <th>medicine</th>\n",
       "      <th></th>\n",
       "      <th></th>\n",
       "      <th></th>\n",
       "    </tr>\n",
       "  </thead>\n",
       "  <tbody>\n",
       "    <tr>\n",
       "      <th>False</th>\n",
       "      <td>295</td>\n",
       "      <td>605</td>\n",
       "      <td>900</td>\n",
       "    </tr>\n",
       "    <tr>\n",
       "      <th>True</th>\n",
       "      <td>5</td>\n",
       "      <td>95</td>\n",
       "      <td>100</td>\n",
       "    </tr>\n",
       "    <tr>\n",
       "      <th>All</th>\n",
       "      <td>300</td>\n",
       "      <td>700</td>\n",
       "      <td>1000</td>\n",
       "    </tr>\n",
       "  </tbody>\n",
       "</table>\n",
       "</div>"
      ],
      "text/plain": [
       "survived  False  True   All\n",
       "medicine                   \n",
       "False       295   605   900\n",
       "True          5    95   100\n",
       "All         300   700  1000"
      ]
     },
     "execution_count": 58,
     "metadata": {},
     "output_type": "execute_result"
    }
   ],
   "source": [
    "pd.crosstab(covid['medicine'],covid['survived'],margins=True)"
   ]
  },
  {
   "cell_type": "code",
   "execution_count": 37,
   "id": "6a839bb1",
   "metadata": {},
   "outputs": [
    {
     "name": "stdout",
     "output_type": "stream",
     "text": [
      "[ 4000  4000  4000  4000  4000 18000 18000]\n",
      "8000.0 4000.0 ModeResult(mode=array([4000]), count=array([5]))\n"
     ]
    }
   ],
   "source": [
    "import scipy.stats as scistats\n",
    "\n",
    "arr = [4000] * 5\n",
    "arr.extend([18000] * 2)\n",
    "arr = np.asarray(arr)\n",
    "print(arr)\n",
    "print(arr.mean(), np.quantile(arr, 0.5), scistats.mode(arr))"
   ]
  },
  {
   "cell_type": "code",
   "execution_count": 30,
   "id": "41a88803",
   "metadata": {},
   "outputs": [
    {
     "name": "stdout",
     "output_type": "stream",
     "text": [
      "2.247 7.28\n"
     ]
    }
   ],
   "source": [
    "temp_cel = np.array([[27, 24, 25, 26, 25, 27, 28, 23, 25]])\n",
    "temp.sort()\n",
    "temp_farh = 1.8*temp_cel + 32\n",
    "print(round(np.var(temp_cel), 3), round(np.var(temp_farh), 3))"
   ]
  },
  {
   "cell_type": "markdown",
   "id": "5743ca4c",
   "metadata": {},
   "source": [
    "<h3><u> Binomial Distribution </h3></u>\n",
    "\n",
    "<b> Q. </b> Given 4 red balls and 2 blue balls. A can take out 4 balls (with repitition). If A gets 4 reds he gets $150, else he loses 10. Will A go home richer?\n"
   ]
  },
  {
   "cell_type": "code",
   "execution_count": 107,
   "id": "4259fab5",
   "metadata": {},
   "outputs": [],
   "source": [
    "import seaborn as sns"
   ]
  },
  {
   "cell_type": "code",
   "execution_count": 109,
   "id": "84ba5589",
   "metadata": {},
   "outputs": [
    {
     "data": {
      "text/plain": [
       "<AxesSubplot:ylabel='count'>"
      ]
     },
     "execution_count": 109,
     "metadata": {},
     "output_type": "execute_result"
    },
    {
     "data": {
      "image/png": "[encoded data removed]",
      "text/plain": [
       "<Figure size 432x288 with 1 Axes>"
      ]
     },
     "metadata": {
      "needs_background": "light"
     },
     "output_type": "display_data"
    }
   ],
   "source": [
    "num_reds = []\n",
    "num_expt = 10_000\n",
    "\n",
    "for i in range(0, num_expt):\n",
    "    ss = [\"r\", \"r\", \"r\", \"r\", \"b\", \"b\"]\n",
    "    expt = np.random.choice(ss, 4)\n",
    "    num_red = np.count_nonzero(expt == \"r\")\n",
    "    num_reds.append(num_red)\n",
    "\n",
    "num_reds = np.asarray(num_reds, dtype = \"int32\")\n",
    "sns.countplot(x = num_reds)"
   ]
  },
  {
   "cell_type": "code",
   "execution_count": 83,
   "id": "5e885876",
   "metadata": {},
   "outputs": [
    {
     "name": "stdout",
     "output_type": "stream",
     "text": [
      "Probability of getting exactly 4 red balls in 4 tries (repetition) = 0.1958 \n",
      "Probability of NOT getting exactly 4 red balls  =  0.8042\n",
      "Wins =  293700\n",
      "Losses =  -80420\n",
      "Wins + Losses =  213280\n"
     ]
    }
   ],
   "source": [
    "p0 = len(num_reds[num_reds == 0]) / num_expt\n",
    "p1 = len(num_reds[num_reds == 1]) / num_expt\n",
    "p2 = len(num_reds[num_reds == 2]) / num_expt\n",
    "p3 = len(num_reds[num_reds == 3]) / num_expt\n",
    "p4 = len(num_reds[num_reds == 4]) / num_expt\n",
    "# print(len(num_reds[num_reds == 0]))\n",
    "# print(len(num_reds[num_reds == 1]))\n",
    "# print(len(num_reds[num_reds == 2]))\n",
    "# print(len(num_reds[num_reds == 3]))\n",
    "# print(p0, p1, p2, p3, p4, p0+p1+p2+p3+p4)\n",
    "\n",
    "\n",
    "print(f\"Probability of getting exactly 4 red balls in 4 tries (repetition) =\" , p4,  \n",
    "      \"\\nProbability of NOT getting exactly 4 red balls  = \", 1-p4)\n",
    "\n",
    "losses = len(num_reds[np.isin(num_reds, [0, 1, 2, 3])]) * -10\n",
    "wins = len(num_reds[num_reds == 4]) * 150\n",
    "print(\"Wins = \", wins)\n",
    "print(\"Losses = \", losses)\n",
    "print(\"Wins + Losses = \", wins + losses)"
   ]
  },
  {
   "cell_type": "markdown",
   "id": "d085df96",
   "metadata": {},
   "source": [
    "<b> Theoretical Approach </b>"
   ]
  },
  {
   "cell_type": "code",
   "execution_count": 84,
   "id": "13fbb2b8",
   "metadata": {},
   "outputs": [
    {
     "name": "stdout",
     "output_type": "stream",
     "text": [
      "Probability of getting exactly 4 red balls in 4 tries (repition) = 0.19753086419753085 \n",
      "Probability of NOT getting exactly 4 red balls  =  0.8024691358024691\n",
      "Wins =  29.629629629629626\n",
      "Losses =  -8.024691358024691\n",
      "Wins + Losses =  21.604938271604937\n"
     ]
    }
   ],
   "source": [
    "import math\n",
    "\n",
    "# P(getting exactly 4 red balls from 4 red and 2 blue balls -- with repetition)\n",
    "# P(T) = (4C1 * 4C1 * 4C1 * 4C1) / 6C4\n",
    "\n",
    "p = (math.comb(4, 1))**4 / (6**4)\n",
    "\n",
    "print(f\"Probability of getting exactly 4 red balls in 4 tries (repition) =\" , p,  \n",
    "      \"\\nProbability of NOT getting exactly 4 red balls  = \", 1-p)\n",
    "print(\"Wins = \", p*150)\n",
    "print(\"Losses = \", (1-p)*-10)\n",
    "print(\"Wins + Losses = \", p*150 + (1-p)*-10)"
   ]
  },
  {
   "cell_type": "markdown",
   "id": "576614f0",
   "metadata": {},
   "source": [
    "<b> Scipy has a great library to simulate binomial distributions </b>"
   ]
  },
  {
   "cell_type": "code",
   "execution_count": 110,
   "id": "a2bddf93",
   "metadata": {},
   "outputs": [
    {
     "name": "stdout",
     "output_type": "stream",
     "text": [
      "k = 0, p =  0.010240000000000003\n",
      "k = 1, p =  0.0768\n",
      "k = 2, p =  0.23040000000000002\n",
      "k = 3, p =  0.3455999999999997\n",
      "k = 4, p =  0.2592000000000001\n",
      "k = 5, p =  0.07775999999999998\n"
     ]
    }
   ],
   "source": [
    "from scipy.stats import binom\n",
    "import math\n",
    "\n",
    "n = 5\n",
    "k = 3\n",
    "p = 0.6\n",
    "\n",
    "for k in range(6):\n",
    "    print(f\"k = {k}, p = \", binom.pmf(k=k, n=n, p=p))"
   ]
  },
  {
   "cell_type": "code",
   "execution_count": 86,
   "id": "b92d00af",
   "metadata": {},
   "outputs": [
    {
     "name": "stdout",
     "output_type": "stream",
     "text": [
      "0.3456\n"
     ]
    }
   ],
   "source": [
    "import math\n",
    "p = math.comb(5, 3) * (0.6)**3 * (0.4)**2\n",
    "print(p)"
   ]
  },
  {
   "cell_type": "markdown",
   "id": "2f333f36",
   "metadata": {},
   "source": [
    "<b> Q. </b> Suppose we toss 10 biased coin every 1 min with P(head) = 0.002778\n",
    "<br> 1. Probability of getting 1 head in 90 mins\n",
    "<br> 2. Expected number of heads in 90 mins"
   ]
  },
  {
   "cell_type": "code",
   "execution_count": 124,
   "id": "14af874c",
   "metadata": {},
   "outputs": [
    {
     "name": "stdout",
     "output_type": "stream",
     "text": [
      "Probability of getting exactly 1 head in 90 mins:  0.2050448325604843\n",
      "Expected number of heads 90 mins:  2.5002\n"
     ]
    }
   ],
   "source": [
    "print(\"Probability of getting exactly 1 head in 90 mins: \", binom.pmf(k = 1, n = 10 * 90, p = 0.002778))\n",
    "print(\"Expected number of heads 90 mins: \", binom.expect(args = (10 * 90, 0.002778)))"
   ]
  },
  {
   "cell_type": "markdown",
   "id": "a8366ba0",
   "metadata": {},
   "source": [
    "<b> Poisson Approximation to Binomial Distribution </b>\n",
    "<br> If for binomial distribution, n >= 30 and p <= 0.05 then we can approximate :\n",
    "<br> binom.pmf(k, n, p) = poisson.pmf(k, mu = np)\n",
    "\n",
    "Let's take above question and try to compute the answer using Poisson "
   ]
  },
  {
   "cell_type": "code",
   "execution_count": 131,
   "id": "dd87f643",
   "metadata": {},
   "outputs": [
    {
     "name": "stdout",
     "output_type": "stream",
     "text": [
      "Probability of getting exactly 1 head in 90 mins:  0.20518787188106452\n",
      "Expected number of heads 90 mins:  2.5001999999999995\n"
     ]
    }
   ],
   "source": [
    "from scipy.stats import poisson\n",
    "\n",
    "print(\"Probability of getting exactly 1 head in 90 mins: \", poisson.pmf(k = 1, mu = 10 * 90 * 0.002778))\n",
    "print(\"Expected number of heads 90 mins: \", poisson.expect(args = (10*90*0.002778, )))"
   ]
  },
  {
   "cell_type": "markdown",
   "id": "b26cbe4f",
   "metadata": {},
   "source": [
    "<h3><u> Gaussian Distribution </h3></u>\n",
    "<br> <b> Normal Distribution = Gaussian Distrubution with mean = 0 and std.dev = 1 </b>\n",
    "<br> In normal and gaussian distribution, mean = median= mode and it will be symmetric.\n",
    "<br> Symmetric means that, norm.cdf(x) + norm.cdf(-x) = 1"
   ]
  },
  {
   "cell_type": "code",
   "execution_count": 8,
   "id": "e4aba937",
   "metadata": {},
   "outputs": [
    {
     "data": {
      "text/plain": [
       "1.0"
      ]
     },
     "execution_count": 8,
     "metadata": {},
     "output_type": "execute_result"
    }
   ],
   "source": [
    "norm.cdf(2.5) + norm.cdf(-2.5)"
   ]
  },
  {
   "cell_type": "code",
   "execution_count": 3,
   "id": "ecfb78a1",
   "metadata": {},
   "outputs": [
    {
     "name": "stdout",
     "output_type": "stream",
     "text": [
      "0.9772498680518208\n"
     ]
    }
   ],
   "source": [
    "from scipy.stats import norm\n",
    "\n",
    "z_score = (70-65)/2.5\n",
    "print(norm.cdf(z_score))"
   ]
  },
  {
   "cell_type": "code",
   "execution_count": 5,
   "id": "d886f6f2",
   "metadata": {},
   "outputs": [
    {
     "data": {
      "text/plain": [
       "0.6914624612740131"
      ]
     },
     "execution_count": 5,
     "metadata": {},
     "output_type": "execute_result"
    }
   ],
   "source": [
    "norm.cdf(0.5)"
   ]
  },
  {
   "cell_type": "code",
   "execution_count": 61,
   "id": "9f5e9ec5",
   "metadata": {},
   "outputs": [
    {
     "data": {
      "text/plain": [
       "0.13361440253771617"
      ]
     },
     "execution_count": 61,
     "metadata": {},
     "output_type": "execute_result"
    }
   ],
   "source": [
    "(1 - norm.cdf(1.5)) * 2"
   ]
  },
  {
   "cell_type": "code",
   "execution_count": 4,
   "id": "7c982530",
   "metadata": {},
   "outputs": [
    {
     "data": {
      "text/plain": [
       "1.2815515655446004"
      ]
     },
     "execution_count": 4,
     "metadata": {},
     "output_type": "execute_result"
    }
   ],
   "source": [
    "fraction = 0.9\n",
    "norm.ppf(fraction) # Percent Point function - inverse of the cdf"
   ]
  },
  {
   "cell_type": "code",
   "execution_count": 5,
   "id": "a1df8bef",
   "metadata": {},
   "outputs": [
    {
     "data": {
      "text/plain": [
       "135.78832550863427"
      ]
     },
     "execution_count": 5,
     "metadata": {},
     "output_type": "execute_result"
    }
   ],
   "source": [
    "(norm.ppf(fraction) * 13.1) + 119"
   ]
  },
  {
   "cell_type": "markdown",
   "id": "4aab7eb5",
   "metadata": {},
   "source": [
    "<h3><u>Poisson Distribution </h3></u>"
   ]
  },
  {
   "cell_type": "code",
   "execution_count": 17,
   "id": "a5d2c6d3",
   "metadata": {},
   "outputs": [
    {
     "data": {
      "text/plain": [
       "0.1991482734714558"
      ]
     },
     "execution_count": 17,
     "metadata": {},
     "output_type": "execute_result"
    }
   ],
   "source": [
    "from scipy.stats import poisson\n",
    "\n",
    "poisson.pmf(k = 0, mu = 3) + poisson.pmf(k = 1, mu = 3)"
   ]
  },
  {
   "cell_type": "markdown",
   "id": "ca1b7f31",
   "metadata": {},
   "source": [
    "Football WC matches have avg 2.5 goal in @ 90 mins\n",
    "<br> <b> Q. </b> P(having 1 goal in 30 mins)\n",
    "<br> <b> Q. </b> P(having 1 goal in 90 mins)\n",
    "<br> <b> Hint: </b> Both are asking for \"exactly\" one goal so we will use pmf(probability mass function) and not cdf(cumulative distribution function)"
   ]
  },
  {
   "cell_type": "code",
   "execution_count": 98,
   "id": "fadf3f3b",
   "metadata": {},
   "outputs": [
    {
     "name": "stdout",
     "output_type": "stream",
     "text": [
      "0.3621651737558985\n",
      "0.205212496559747\n"
     ]
    }
   ],
   "source": [
    "print(poisson.pmf(k=1, mu = (2.5 * 30 / 90)))\n",
    "print(poisson.pmf(k=1, mu = (2.5 * 90 / 90)))"
   ]
  },
  {
   "cell_type": "markdown",
   "id": "577a367b",
   "metadata": {},
   "source": [
    "<b> Q. </b> A shop is open for 8 hours. Average number of customers during that period is 74 - Poisson Distributed. \n",
    "\n",
    "1) What is the probability that in 2 hours, there will be at most 15 customers?\n",
    "<br> 2) What is the probability that in 2 hours, there will be at least 7 customers in the shop?"
   ]
  },
  {
   "cell_type": "code",
   "execution_count": 134,
   "id": "537841dc",
   "metadata": {},
   "outputs": [
    {
     "data": {
      "text/plain": [
       "9.25"
      ]
     },
     "execution_count": 134,
     "metadata": {},
     "output_type": "execute_result"
    }
   ],
   "source": [
    "cust = 74\n",
    "hours = 8\n",
    "mu = cust / hours #average/rate\n",
    "mu"
   ]
  },
  {
   "cell_type": "code",
   "execution_count": 135,
   "id": "52b97902",
   "metadata": {},
   "outputs": [
    {
     "data": {
      "text/plain": [
       "0.24902769151284776"
      ]
     },
     "execution_count": 135,
     "metadata": {},
     "output_type": "execute_result"
    }
   ],
   "source": [
    "#Part - 1, calulcating avg rate for 2 hrs\n",
    "poisson.cdf(k = 15, mu = mu * 2)"
   ]
  },
  {
   "cell_type": "code",
   "execution_count": 137,
   "id": "e5a6857c",
   "metadata": {},
   "outputs": [
    {
     "name": "stdout",
     "output_type": "stream",
     "text": [
      "0.9992622541111789\n",
      "0.9992622541111789\n"
     ]
    }
   ],
   "source": [
    "#Part - 2, two approaches, same result\n",
    "print((1 - poisson.cdf(k = 7, mu = mu * 2)) + poisson.pmf(k = 7, mu = mu * 2))\n",
    "print(1 - poisson.cdf(k = 6, mu = mu * 2))"
   ]
  },
  {
   "cell_type": "markdown",
   "id": "57ab11c7",
   "metadata": {},
   "source": [
    "<b> Q. </b> A person received 240 messages per hour on average\n",
    "\n",
    "<ol>\n",
    "    <li> Approx how many messages is he recieving in 10 seconds? </li>\n",
    "    <li> Probability of getting 1 message in 30 seconds </li>\n",
    "    <li> Probability of getting no message in 15 seconds </li>\n",
    "    <li> What is the probability of waiting for less than or equal to 10 seconds for getting a message </li>\n",
    "    <li> Probability of waiting for more than 10 seconds to recieve a message </li>\n",
    "</ol>\n",
    "\n",
    "<b> Hints </b>\n",
    "<br> For Q.4, p(waiting for less than or equal to 10 seconds for getting a message) == p(getting exactly 1 message in atmost 10 seconds)\n",
    "<br> For Q.5, p(waiting more than 10 secs to receive a message) == p(recieving no messages in 10 secs)"
   ]
  },
  {
   "cell_type": "code",
   "execution_count": 142,
   "id": "19754adf",
   "metadata": {},
   "outputs": [
    {
     "data": {
      "text/plain": [
       "0.6666666666666666"
      ]
     },
     "execution_count": 142,
     "metadata": {},
     "output_type": "execute_result"
    }
   ],
   "source": [
    "240 * 10 /3600"
   ]
  },
  {
   "cell_type": "code",
   "execution_count": 138,
   "id": "1902b5d8",
   "metadata": {},
   "outputs": [
    {
     "data": {
      "text/plain": [
       "0.2706705664732254"
      ]
     },
     "execution_count": 138,
     "metadata": {},
     "output_type": "execute_result"
    }
   ],
   "source": [
    "poisson.pmf(k = 2, mu = (240/3600) * 30)"
   ]
  },
  {
   "cell_type": "code",
   "execution_count": 139,
   "id": "85fb3121",
   "metadata": {},
   "outputs": [
    {
     "data": {
      "text/plain": [
       "0.36787944117144233"
      ]
     },
     "execution_count": 139,
     "metadata": {},
     "output_type": "execute_result"
    }
   ],
   "source": [
    "poisson.pmf(k = 0, mu = (240/3600) * 15)"
   ]
  },
  {
   "cell_type": "code",
   "execution_count": 140,
   "id": "102f4dd0",
   "metadata": {},
   "outputs": [
    {
     "data": {
      "text/plain": [
       "0.8556951983876534"
      ]
     },
     "execution_count": 140,
     "metadata": {},
     "output_type": "execute_result"
    }
   ],
   "source": [
    "poisson.cdf(k = 1, mu = (240/3600) * 10)"
   ]
  },
  {
   "cell_type": "code",
   "execution_count": 103,
   "id": "a6600de6",
   "metadata": {},
   "outputs": [
    {
     "data": {
      "text/plain": [
       "0.486582880967408"
      ]
     },
     "execution_count": 103,
     "metadata": {},
     "output_type": "execute_result"
    }
   ],
   "source": [
    "1 - poisson.pmf(k=0, mu = (240 * 10/3600))"
   ]
  },
  {
   "cell_type": "code",
   "execution_count": 22,
   "id": "493ebde1",
   "metadata": {},
   "outputs": [
    {
     "name": "stdout",
     "output_type": "stream",
     "text": [
      "0.27067056647322524\n",
      "0.2706705664732254\n"
     ]
    }
   ],
   "source": [
    "print(poisson.cdf(k = 1, mu = mu_1) - poisson.cdf(k = 0, mu = mu_1))\n",
    "print(poisson.pmf(k=1, mu = mu_1))"
   ]
  },
  {
   "cell_type": "code",
   "execution_count": 23,
   "id": "0f8d57ff",
   "metadata": {},
   "outputs": [
    {
     "data": {
      "text/plain": [
       "0.9898141728888165"
      ]
     },
     "execution_count": 23,
     "metadata": {},
     "output_type": "execute_result"
    }
   ],
   "source": [
    "poisson.cdf(k=1, mu = (3/20))"
   ]
  },
  {
   "cell_type": "code",
   "execution_count": 35,
   "id": "58d5672e",
   "metadata": {},
   "outputs": [
    {
     "data": {
      "text/plain": [
       "0.10413714098399081"
      ]
     },
     "execution_count": 35,
     "metadata": {},
     "output_type": "execute_result"
    }
   ],
   "source": [
    "poisson.pmf(k=3, mu = mu_1)"
   ]
  },
  {
   "cell_type": "markdown",
   "id": "aa0af2c6",
   "metadata": {},
   "source": [
    "<h3> <u> Geometric Distribution </h3></u>"
   ]
  },
  {
   "cell_type": "markdown",
   "id": "a460dce0",
   "metadata": {},
   "source": [
    "<b> Q. </b> Given a dice, probability that I get a 6 after exactly 1 try"
   ]
  },
  {
   "cell_type": "code",
   "execution_count": 44,
   "id": "42ffc42a",
   "metadata": {},
   "outputs": [
    {
     "data": {
      "text/plain": [
       "0.16666666666666666"
      ]
     },
     "execution_count": 44,
     "metadata": {},
     "output_type": "execute_result"
    }
   ],
   "source": [
    "from scipy.stats import geom\n",
    "geom.pmf(k = 1, p = 1/6)"
   ]
  },
  {
   "cell_type": "markdown",
   "id": "220ab5f5",
   "metadata": {},
   "source": [
    "<b> Q. </b> Probability that in a dice we get 6 after <b> atleast </b> 3 tries"
   ]
  },
  {
   "cell_type": "code",
   "execution_count": 46,
   "id": "284fd613",
   "metadata": {},
   "outputs": [
    {
     "name": "stdout",
     "output_type": "stream",
     "text": [
      "0.6944444444444444\n",
      "0.6944444444444444\n"
     ]
    }
   ],
   "source": [
    "print(1 - geom.cdf(k = 2, p = 1/6))\n",
    "print(1 - geom.cdf(k = 3, p = 1/6) + geom.pmf(k = 3, p = 1/6))"
   ]
  },
  {
   "cell_type": "code",
   "execution_count": 51,
   "id": "d4f5c03e",
   "metadata": {},
   "outputs": [
    {
     "data": {
      "text/plain": [
       "0.018900000000000007"
      ]
     },
     "execution_count": 51,
     "metadata": {},
     "output_type": "execute_result"
    }
   ],
   "source": [
    "p_win = 0.7\n",
    "geom.pmf(k = 4, p = p_win)"
   ]
  },
  {
   "cell_type": "markdown",
   "id": "ca440fe9",
   "metadata": {},
   "source": [
    "<b> Q. </b> During a pandemic, a pharmaceutical company was able to successfully engineer a drug to be able to fight the virus. \n",
    "But, the probability of manufacturing the drug successfully was 40% on each independent production process.\n",
    "Based on this data, what would be the probability of successfully manufacturing the drug \n",
    "in less than 7 production processes?\n",
    "<br><b> Ans. </b>\n",
    "<br>Less than 7 = P(1 --> 6) = P (<=6) = P(atmost 6). Therefore, this is a simple geometric distribution calc"
   ]
  },
  {
   "cell_type": "code",
   "execution_count": 47,
   "id": "fe2abcf1",
   "metadata": {},
   "outputs": [
    {
     "data": {
      "text/plain": [
       "0.953344"
      ]
     },
     "execution_count": 47,
     "metadata": {},
     "output_type": "execute_result"
    }
   ],
   "source": [
    "from scipy.stats import geom\n",
    "p = 0.4\n",
    "geom.cdf(k = 6, p = 0.4)"
   ]
  },
  {
   "cell_type": "markdown",
   "id": "f667adf6",
   "metadata": {},
   "source": [
    "<b> Q. </b> Given probability of winning a prize = 0.7, find P(I don't win in the first 2 attempts)\n",
    "<br><b> Ans. </b>\n",
    "<br> P(don't win in first 2) == P(lose in first 2)\n",
    "We don't care about what happens after the first 2 attempts, we can win or can't win\n",
    "<br> <b> OR </b>\n",
    "<br> k = 3 (atleast 3 tries before I win the prize) = 1 - atmost 2 tries before I win the prize = (1 - k<=2)"
   ]
  },
  {
   "cell_type": "code",
   "execution_count": 41,
   "id": "2cd9ec72",
   "metadata": {},
   "outputs": [
    {
     "name": "stdout",
     "output_type": "stream",
     "text": [
      "0.09\n",
      "0.08999999999999997\n"
     ]
    }
   ],
   "source": [
    "print(0.3 * 0.3)\n",
    "print(1 - geom.cdf(k = 2, p = 0.7))"
   ]
  },
  {
   "cell_type": "markdown",
   "id": "6890301e",
   "metadata": {},
   "source": [
    "<b> Q. </b>\n",
    "You are drawing from a random variable that is normally distributed, X~ N(0, 1), once a day.\n",
    "Approximately what is the expected number of days you have to draw until you get a value greater than 2?\n",
    "\n",
    "<b> Ans. </b>\n",
    "First we need to find probability of getting a value greater than 2 in the normally distributed curve. Curve has mean = 0 and std.dev = 1, so a score of greater than 2 is two std.deviations away from mean. \n",
    "<br> Therefore, Z-score = 2\n",
    "<br> After getting probability, we will use Expectation value formula = 1/p"
   ]
  },
  {
   "cell_type": "code",
   "execution_count": 35,
   "id": "9cd2a5e1",
   "metadata": {},
   "outputs": [
    {
     "name": "stdout",
     "output_type": "stream",
     "text": [
      "0.9772498680518208\n"
     ]
    },
    {
     "data": {
      "text/plain": [
       "43.95578901598566"
      ]
     },
     "execution_count": 35,
     "metadata": {},
     "output_type": "execute_result"
    }
   ],
   "source": [
    "mean = 0\n",
    "std_dev = 1\n",
    "# Approximately what is the expected number times you have to draw until you get a value greater than 2?\n",
    "# Therefore, +2 standard deviations --> 97.5%\n",
    "# So, value greater than 2 means probability => 1 - 0.977\n",
    "print(norm.cdf(2))\n",
    "p = 1 - norm.cdf(2)\n",
    "1 / p"
   ]
  },
  {
   "cell_type": "markdown",
   "id": "e9685785",
   "metadata": {},
   "source": [
    "<h3> Exponential and Log Normal Distributions </h3>\n",
    "\n",
    "Both these distrubutions are basically tranformations which help convert data to normal distributions\n",
    "In Log Normal Distribution, we assume that the data is exponentially distributed, so we take its log and convert it to a normal distribution\n",
    "\n",
    "Exponential Distrbution: P(x) =$1 - e^{-x/μ}$\n",
    "<br>LogNormal Distrbution: P(x) = $ln(x)$\n",
    "<br> Variance of LogNormal Distribution = $(e^{2μ + σ^{2}}) * (e^{σ^{2}} - 1)$"
   ]
  },
  {
   "cell_type": "markdown",
   "id": "8fe18b10",
   "metadata": {},
   "source": [
    "**Q.** The amount of money customers spend in one trip to the supermarket follows an exponential distribution with a mean amount of Rs 1000. If a customer has Rs 600 in the wallet, what is the probability that the customer will need more money?"
   ]
  },
  {
   "cell_type": "code",
   "execution_count": 11,
   "id": "d9040b73",
   "metadata": {},
   "outputs": [
    {
     "data": {
      "text/plain": [
       "0.5488116360940265"
      ]
     },
     "execution_count": 11,
     "metadata": {},
     "output_type": "execute_result"
    }
   ],
   "source": [
    "mu = 1000\n",
    "x = 600\n",
    "\n",
    "1 - expon.cdf(x = x, scale = mu)"
   ]
  },
  {
   "cell_type": "markdown",
   "id": "fa3e39ec",
   "metadata": {},
   "source": [
    "**Q.** Sales delay is the elapsed time between the manufacture of a product and it’s sale. It is quite common for investigators to model sales delay using a lognormal distribution. For a particular product, the distribution with the following parameter values is proposed : μ = 2.05 and variance = 0.08 (here the unit for delay is months).\n",
    "\n",
    "1. What is the standard deviation of delay time ?\n",
    "2. What is the probability that delay time exceeds 10 months?"
   ]
  },
  {
   "cell_type": "code",
   "execution_count": 38,
   "id": "f74e21aa",
   "metadata": {},
   "outputs": [
    {
     "name": "stdout",
     "output_type": "stream",
     "text": [
      "2.3332660028952237\n",
      "0.45689715381821294\n",
      "2.302585092994046\n"
     ]
    }
   ],
   "source": [
    "import math \n",
    "\n",
    "mu = 2.05\n",
    "var = 0.08 #variance = sigma^2\n",
    "\n",
    "log_var = math.exp(2*mu + var) * (math.exp(var) - 1)\n",
    "std_dev = math.sqrt(log_var)\n",
    "print(std_dev)\n",
    "\n",
    "#Since distrbution is log-normal, log of the values will follow normal distribution\n",
    "z_score = (math.log(10) - mu) / std_dev\n",
    "p_10 = 1 - norm.cdf(z_score)\n",
    "print(p_10)"
   ]
  },
  {
   "cell_type": "markdown",
   "id": "3c4d70c2",
   "metadata": {},
   "source": [
    "<b> Q. </b> On average, a customer care executive takes about 5 minutes to solve the issue of any customer. It is known that the time taken follows an exponential distribution.\n",
    "Find the probability that an executive spends 4 to 5 minutes with any randomly selected customer.\n",
    "\n",
    "<b> Ans: </b>\n",
    "Given that\n",
    "<br> μ = 5\n",
    "<br> So, λ = 1/5\n",
    "<br> Now, the probability of spending 4 to 5 mins with any randomly selected customer is P(4 < X < 5)"
   ]
  },
  {
   "cell_type": "code",
   "execution_count": 9,
   "id": "fc38ee6f",
   "metadata": {},
   "outputs": [
    {
     "name": "stdout",
     "output_type": "stream",
     "text": [
      "0.08144952294577923\n"
     ]
    }
   ],
   "source": [
    "from scipy.stats import expon\n",
    "\n",
    "mu = 5\n",
    "\n",
    "p4 = expon.cdf(x = 4, scale = mu) # The probability of spending 4 mins\n",
    "p5 = expon.cdf(x = 5, scale = mu) # The probability of spending 5 mins\n",
    "print(p5 - p4)"
   ]
  },
  {
   "cell_type": "markdown",
   "id": "f8bfbed9",
   "metadata": {},
   "source": [
    "**Q.** The average life span of an Electronic Gadget is 2 years. If the number of years the gadget works, be a random variable that follows an exponential distribution. Find the probability that :\n",
    "\n",
    "1. It will work at least for 6 years.\n",
    "2. It will work at most for 6 years."
   ]
  },
  {
   "cell_type": "code",
   "execution_count": 19,
   "id": "f98a46fc",
   "metadata": {},
   "outputs": [
    {
     "name": "stdout",
     "output_type": "stream",
     "text": [
      "0.08208499862389884 0.07468060255179593\n",
      "0.950212931632136\n"
     ]
    }
   ],
   "source": [
    "mu = 2 \n",
    "\n",
    "p1 = 1 - expon.cdf(x = 5, scale = mu)\n",
    "p1_alt = 1 - expon.cdf(x = 6, scale = mu) + expon.pdf(x = 6, scale = mu)\n",
    "p2 = expon.cdf(x = 6, scale = mu)\n",
    "\n",
    "print(p1, p1_alt)\n",
    "print(p2)"
   ]
  },
  {
   "cell_type": "markdown",
   "id": "236a278c",
   "metadata": {},
   "source": [
    "**Q.** On average, a pair of running shoes can last 6 months if used every day. The length of time running shoes last is exponentially distributed. If the pair has already lasted 5 months, find the probability that it will last a total of over 9 months.\n",
    "\n",
    "**Ans:** Given: The shoes have already lasted 5 months\n",
    "<br> To find: P(last over 9 months)\n",
    "\n",
    "We need to find P(T>9| T>5)\n",
    "\n",
    "Using memoryless property,i.e. P(X>x+a | X>a) = P(X>x)\n",
    "<br> P(T>9| T>5) = P(T>4)\n",
    "<br> P(T>4) = 1 - P(T<4)\n",
    "\n",
    "<br> $P(9mos/5mos) = \\frac{P(9mos \\cap 5mos)}{P(5mos)}$"
   ]
  },
  {
   "cell_type": "code",
   "execution_count": 17,
   "id": "82c7a3bf",
   "metadata": {},
   "outputs": [
    {
     "data": {
      "text/plain": [
       "0.39463999496581564"
      ]
     },
     "execution_count": 17,
     "metadata": {},
     "output_type": "execute_result"
    }
   ],
   "source": [
    "mu = 6\n",
    "\n",
    "p_over_9 = 1- expon.cdf(x = 9, scale = mu) \n",
    "p_5 = expon.cdf(x = 5, scale = mu) \n",
    "p_over_9/p_5"
   ]
  },
  {
   "cell_type": "markdown",
   "id": "0b4e8494",
   "metadata": {},
   "source": [
    "<h3><u> CLT and Confidence Interval </u></h3>"
   ]
  },
  {
   "cell_type": "markdown",
   "id": "f6f296e8",
   "metadata": {},
   "source": [
    "<b> Q. </b> Samples of size 100 are selected from a population with a mean of 37 and a standard deviation of 12.The standard error of the sampling distribution of sample means is :"
   ]
  },
  {
   "cell_type": "code",
   "execution_count": 149,
   "id": "fda10858",
   "metadata": {},
   "outputs": [
    {
     "data": {
      "text/plain": [
       "1.2"
      ]
     },
     "execution_count": 149,
     "metadata": {},
     "output_type": "execute_result"
    }
   ],
   "source": [
    "12 / math.sqrt(100)"
   ]
  },
  {
   "attachments": {
    "image.png": {
     "image/png": "[encoded data removed]"
    }
   },
   "cell_type": "markdown",
   "id": "647cc4d8",
   "metadata": {},
   "source": [
    "<b> Q. </b> The life of LED light bulbs manufactured in a factory is normally distributed with a mean equal to 900 hours and a standard deviation of 50 hours. Find the probability that a random sample of 20 bulbs will have an average life of less than 875 hours.\n",
    "\n",
    "<b> Ans. </b>\n",
    "Given : n = 20, dev = 50, mean = 900, xi = 875. First we need to get the sample standard deviation (which is equal to standard error). Then use it go get Z-score and find area under the curve at Z-score\n",
    "\n",
    "![image.png](attachment:image.png)"
   ]
  },
  {
   "cell_type": "code",
   "execution_count": 154,
   "id": "092d39d4",
   "metadata": {},
   "outputs": [
    {
     "data": {
      "text/plain": [
       "0.012673659338734126"
      ]
     },
     "execution_count": 154,
     "metadata": {},
     "output_type": "execute_result"
    }
   ],
   "source": [
    "z_score = (875 - 900)/(50 / math.sqrt(20))\n",
    "norm.cdf(z_score)"
   ]
  },
  {
   "cell_type": "markdown",
   "id": "d98a47fb",
   "metadata": {},
   "source": [
    "<b> Q. </b> The tip percentage for a delivery person has a mean value of 28% and a standard deviation of 7%. What is the probability that the sample mean tip percentage for a random sample of 50 bills is between 26% and 31%?"
   ]
  },
  {
   "cell_type": "code",
   "execution_count": 157,
   "id": "b1e21543",
   "metadata": {},
   "outputs": [
    {
     "name": "stdout",
     "output_type": "stream",
     "text": [
      "0.9987790827898616 0.021675875630431305 \n",
      " 0.9771032071594303\n"
     ]
    }
   ],
   "source": [
    "z_score = (31 - 28)/(7 / math.sqrt(50))\n",
    "p1 = norm.cdf(z_score)\n",
    "z_score = (26 - 28)/(7 / math.sqrt(50))\n",
    "p2 = norm.cdf(z_score)\n",
    "print(p1, p2, \"\\n\", p1 - p2)"
   ]
  },
  {
   "cell_type": "markdown",
   "id": "9383d95b",
   "metadata": {},
   "source": [
    "<b> Q. </b> The first assessment in a statistical class involves computing a short program. If past experience indicates that 30% of all students will make no errors in the program, use an appropriate normal approximation to compute the probability that in a class of 70 students, <b> at least </b> 28 will make no errors.\n",
    "\n",
    "<b> Ans. </b>\n",
    "The Central Limit Theorem implies that the binomial distribution is approximately normal with mean **µ = np** and\n",
    "standard deviation **σ = √( npq )** as the n increases. A specific condition that must be met for the approximation is that **np>5  and nq>5**, the results will be better if they are greater than or equal to 10"
   ]
  },
  {
   "cell_type": "code",
   "execution_count": 2,
   "id": "33524d2b",
   "metadata": {},
   "outputs": [
    {
     "name": "stdout",
     "output_type": "stream",
     "text": [
      "21.0 49.0\n"
     ]
    }
   ],
   "source": [
    "n = 70\n",
    "p = 0.3\n",
    "q = 0.7\n",
    "print(n*p, n*q)"
   ]
  },
  {
   "cell_type": "code",
   "execution_count": 171,
   "id": "589ddbb0",
   "metadata": {},
   "outputs": [
    {
     "name": "stdout",
     "output_type": "stream",
     "text": [
      "0.034\n",
      "0.048\n"
     ]
    }
   ],
   "source": [
    "n = 70\n",
    "p = 0.3\n",
    "q = 0.7\n",
    "mean = 0.3 * 70\n",
    "dev = math.sqrt(n*p*q)\n",
    "xi = 28\n",
    "\n",
    "z_score = (xi - mean)/dev\n",
    "print(round(1 - norm.cdf(z_score), 3))\n",
    "print(round(1- binom.cdf(k = 27, n = 70, p = 0.3), 3)) # if they hadn't said use normal approximation then we wouldve used this"
   ]
  },
  {
   "cell_type": "markdown",
   "id": "68b7cbe3",
   "metadata": {},
   "source": [
    "<b> Q. </b> On taking a sample of 100 fishes, the calculated average length of this species came out to be 24 and the standard deviation came out to be 8.\n",
    "Your task is to estimate, with 95 percent confidence, the mean length confidence interval of the fishes in the pond."
   ]
  },
  {
   "cell_type": "code",
   "execution_count": 178,
   "id": "47912916",
   "metadata": {},
   "outputs": [
    {
     "data": {
      "text/plain": [
       "25.315882901561178"
      ]
     },
     "execution_count": 178,
     "metadata": {},
     "output_type": "execute_result"
    }
   ],
   "source": [
    "n = 100\n",
    "mean = 24\n",
    "dev = 8\n",
    "\n",
    "z_score = norm.ppf(0.95)\n",
    "mean + z_score*(dev / math.sqrt(n))"
   ]
  },
  {
   "cell_type": "markdown",
   "id": "e6b16401",
   "metadata": {},
   "source": [
    "**Q.** An instructor knows from past experience that mean exam score is 77 with std.dev of 15. At present, the instructor is teaching 2 classes of strength 25 and 64 students respectively\n",
    "\n",
    "1. Find probability that avg test score of class of size 25 lies between 72 and 82\n",
    "2. Find probability that avg test score of class of 64 lies between 72 and 82\n",
    "\n",
    "Ans:\n",
    "<br> P(72 <= mu <= 82) => P(x <=82) - P (x <= 72)  \n",
    "<br><b> The above formula comes from C.I = X(bar) ± (z)(sigma)/(sqrt(n) </b>"
   ]
  },
  {
   "cell_type": "code",
   "execution_count": 3,
   "id": "91c4fd87",
   "metadata": {},
   "outputs": [
    {
     "data": {
      "text/plain": [
       "0.9044192954543706"
      ]
     },
     "execution_count": 3,
     "metadata": {},
     "output_type": "execute_result"
    }
   ],
   "source": [
    "norm.cdf((82 - 77) * np.sqrt(25) /15) - norm.cdf((72 - 77) * np.sqrt(25) /15)"
   ]
  },
  {
   "cell_type": "code",
   "execution_count": 4,
   "id": "ad3d05d0",
   "metadata": {},
   "outputs": [
    {
     "data": {
      "text/plain": [
       "0.9923392388648204"
      ]
     },
     "execution_count": 4,
     "metadata": {},
     "output_type": "execute_result"
    }
   ],
   "source": [
    "norm.cdf((82 - 77) * np.sqrt(64) /15) - norm.cdf((72 - 77) * np.sqrt(64) /15)"
   ]
  },
  {
   "cell_type": "markdown",
   "id": "880d9970",
   "metadata": {},
   "source": [
    "Therefore, we can say with **90.44% confidence** that the avg test score of class with **25 students** lies b/w 72 and 82\n",
    "<br> We can also say with **99.23% confidence** that the avg test score of class with **64 students** lies b/w 72 and 82"
   ]
  },
  {
   "cell_type": "code",
   "execution_count": 10,
   "id": "8475b240",
   "metadata": {},
   "outputs": [
    {
     "data": {
      "text/plain": [
       "Ttest_1sampResult(statistic=-3.4447725963096305, pvalue=0.9972608300353912)"
      ]
     },
     "execution_count": 10,
     "metadata": {},
     "output_type": "execute_result"
    }
   ],
   "source": [
    "lifetime = [36.1, 40.2, 33.8, 38.5, 42, 35.8, 37, 41, 36.8, 37.2, 33, 36]\n",
    "\n",
    "ttest_1samp(lifetime, popmean=40, alternative=\"greater\")"
   ]
  },
  {
   "cell_type": "markdown",
   "id": "4ba3e285",
   "metadata": {},
   "source": [
    "### <u>Hypothesis Testing - 1 Sample</u>\n",
    "\n",
    "Compared to average, Sachin scores higher when India wins\n",
    "Hypothesis tests don't give us causaility --> we don't get data on *why* null hyp is being rejected"
   ]
  },
  {
   "cell_type": "code",
   "execution_count": 3,
   "id": "bf87ba96",
   "metadata": {},
   "outputs": [
    {
     "data": {
      "text/plain": [
       "0.0002077798334806369"
      ]
     },
     "execution_count": 3,
     "metadata": {},
     "output_type": "execute_result"
    }
   ],
   "source": [
    "1 - norm.cdf(3.53)"
   ]
  },
  {
   "cell_type": "markdown",
   "id": "c52c0cc3",
   "metadata": {},
   "source": [
    "**Q.** A french cake shop claims that the average number of pastries they can produce in a day exceeds 500. The average number of pastries produced per day over a 70 day period was found to be 530. Assume that the population standard deviation for the pastries produced per day is 125. Test the claim using a z-test with the critical z-value = 1.64 at the alpha (significance level) = 0.05, and state your interpretation.\n",
    "\n",
    "**Ans:**\n",
    "Given:\n",
    "<br>µ (population) = 500 pasteries \n",
    "<br>µ (sample) = 530 pasteries\n",
    "<br>n (sample) = 70 days\n",
    "<br>σ (population) = 125\n",
    "<br> α (LOS) = 0.05\n",
    "\n",
    "<br> Ho = French cake shop sells <= 500 pasteries per day\n",
    "<br> Ha = French cake shop seels > 500 pasteries per day (claim) \n",
    "<br> **We will use right-tailed test**"
   ]
  },
  {
   "cell_type": "code",
   "execution_count": 3,
   "id": "f09fbcb2",
   "metadata": {},
   "outputs": [
    {
     "name": "stdout",
     "output_type": "stream",
     "text": [
      "z-score: 2.01\n",
      "p-value: 0.02\n",
      "Null Hyp rejected\n"
     ]
    }
   ],
   "source": [
    "mu_pop = 500\n",
    "mu_sample = 530\n",
    "n_sample = 70\n",
    "std_dev = 125\n",
    "alpha = 0.05\n",
    "\n",
    "z = (mu_sample - mu_pop)/ (std_dev/math.sqrt(n_sample))\n",
    "p = 1 - norm.cdf(z)\n",
    "\n",
    "print(\"z-score:\", round(z, 2))\n",
    "print(\"p-value:\", round(p, 2))\n",
    "\n",
    "if (p < alpha):\n",
    "    print(\"Null Hyp rejected\")\n",
    "else:\n",
    "    print(\"Null Hyp cannot be rejected\")"
   ]
  },
  {
   "cell_type": "markdown",
   "id": "9e1b4425",
   "metadata": {},
   "source": [
    "**Q.** The student hostel office at IIT Madras estimates that each student uses more than 3.5 buckets of water per day. 45 students in a certain wing averaged 3.72 buckets of water per day. Assume that the population standard deviation is 0.7 buckets. What is the **critical sample mean** for this population, assuming a critical z- value of 1.28?\n",
    "<br>**Note:** The critical sample mean is defined as the mean value for which the z-score is equal to the critical value. Also, round off the final answer to three decimal places.\n",
    "\n",
    "**Ans:** \n",
    "Ho --> Student uses <= 3.5 buckets per day\n",
    "<br>Ha --> Student uses > 3.5 buckets per day \n",
    "<br> Therefore, we will use **right tailed test**\n",
    "\n",
    "z = (mu_sample - mu_pop)/ (std_dev/math.sqrt(n_sample))\n",
    "<br> Therefore, to find critical sample mean, z-score = critical z-value\n",
    "<br> mu_sample = (crit-z) * (std_error) + mu_pop"
   ]
  },
  {
   "cell_type": "code",
   "execution_count": 11,
   "id": "74ae479c",
   "metadata": {},
   "outputs": [
    {
     "data": {
      "text/plain": [
       "3.634"
      ]
     },
     "execution_count": 11,
     "metadata": {},
     "output_type": "execute_result"
    }
   ],
   "source": [
    "mu_pop = 3.5\n",
    "mu_sample = 3.72\n",
    "n_sample = 45\n",
    "std_dev = 0.7\n",
    "crit_z = 1.28\n",
    "\n",
    "crit_sample_mean = (crit_z * (std_dev / math.sqrt(n_sample))) + mu_pop\n",
    "round(crit_sample_mean, 3)"
   ]
  },
  {
   "cell_type": "markdown",
   "id": "e41f26c1",
   "metadata": {},
   "source": [
    "**Q.** A luxury women's clothing store claims that designer grade sarees are sold within 90 days from the day they are introduced in their store. Last month, they sold all 9 sarees in a certain catalogue at an average of 77.4 days spent in the store. The standard deviation of the sample was 29.6 days.\n",
    "Assuming the time spent in store is normally distributed, test the claim made by the store at an alpha = 0.05\n",
    "\n",
    "**Ans:** As population std.deviation is not known and \"n\" is small (9 < 30), we will use **1 Sample t-test**\n",
    "<br> **T = (X̄ – μ) / S/√n**\n",
    "<br> S = Sample std.dev\n",
    "<br> Ho --> Sarees >= 90\n",
    "<br> Ha ---> Sarees < 90\n",
    "<br> So, we will use **left tailed test**"
   ]
  },
  {
   "cell_type": "code",
   "execution_count": 30,
   "id": "d1aba25e",
   "metadata": {},
   "outputs": [
    {
     "data": {
      "text/plain": [
       "-1.86"
      ]
     },
     "execution_count": 30,
     "metadata": {},
     "output_type": "execute_result"
    }
   ],
   "source": [
    "round(t.ppf(0.05, 8), 2) # n = 9, so degree of freedom => n-1 = 8"
   ]
  },
  {
   "cell_type": "code",
   "execution_count": 32,
   "id": "405b6ff8",
   "metadata": {},
   "outputs": [
    {
     "name": "stdout",
     "output_type": "stream",
     "text": [
      "T-Score: -1.28\n",
      "P-Value: 0.101\n",
      "Null Hyp cannot be rejected\n"
     ]
    }
   ],
   "source": [
    "mu_pop = 90\n",
    "mu_sample = 77.4\n",
    "n_sample = 9\n",
    "std_dev = 29.6\n",
    "crit_t = -1.86\n",
    "\n",
    "T = (mu_sample - mu_pop)/ (std_dev/math.sqrt(n_sample))\n",
    "p_val = norm.cdf(T)\n",
    "print(\"T-Score:\", round(T, 2))\n",
    "print(\"P-Value:\", round(p_val, 3))\n",
    "\n",
    "if (p_val < alpha):\n",
    "    print(\"Null Hyp rejected\")\n",
    "else:\n",
    "    print(\"Null Hyp cannot be rejected\")"
   ]
  },
  {
   "cell_type": "markdown",
   "id": "a3331b61",
   "metadata": {},
   "source": [
    "**Q.** https://www.scaler.com/academy/mentee-dashboard/class/53431/assignment/problems/35556?navref=cl_tt_nv\n",
    "\n",
    "**Ans:** \n",
    "<br>Ho => u >= 6\n",
    "<br>Ha => u < 6\n",
    "<br> **Left tailed 1 Sample T-Test**"
   ]
  },
  {
   "cell_type": "code",
   "execution_count": 62,
   "id": "455a2925",
   "metadata": {},
   "outputs": [
    {
     "name": "stdout",
     "output_type": "stream",
     "text": [
      "T-Score: -2.11\n",
      "P-Value: 0.027\n",
      "Null Hyp rejected\n"
     ]
    }
   ],
   "source": [
    "mu_pop = 6\n",
    "mu_sample = 5.4\n",
    "n_sample = 15\n",
    "std_dev = 1.1\n",
    "crit_t = -1.76\n",
    "\n",
    "T = (mu_sample - mu_pop)/ (std_dev/math.sqrt(n_sample))\n",
    "p_val = t.cdf(T, n_sample - 1)\n",
    "print(\"T-Score:\", round(T, 2))\n",
    "print(\"P-Value:\", round(p_val, 3))\n",
    "\n",
    "if (p_val < alpha):\n",
    "    print(\"Null Hyp rejected\")\n",
    "else:\n",
    "    print(\"Null Hyp cannot be rejected\")"
   ]
  },
  {
   "cell_type": "markdown",
   "id": "8718678f",
   "metadata": {},
   "source": [
    "**Q.** The average cotinine level in a group of 50 smokers was 243.5 ng ml. Assuming that the standard deviation is known to be 229.5 ng ml, at 95 % confidence, test the assertion that the mean cotinine level of all smokers is equal to 300.0 ng ml.\n",
    "\n",
    "**Ans:** \n",
    "<br>Ho => u = 300\n",
    "<br> Ha => u != 300\n",
    "<br> **2-tailed 1 Sample Z test**, pop.std dev is known"
   ]
  },
  {
   "cell_type": "code",
   "execution_count": 136,
   "id": "597d9d79",
   "metadata": {},
   "outputs": [
    {
     "name": "stdout",
     "output_type": "stream",
     "text": [
      "Z-Score: -1.74\n",
      "P-Value: 1.918\n",
      "Alpha / L.O.S: 0.025\n",
      "Null Hyp cannot be rejected\n"
     ]
    }
   ],
   "source": [
    "mu_pop = 300\n",
    "mu_sample = 243.5\n",
    "n_sample = 50\n",
    "std_dev = 229.5\n",
    "alpha = 1 - 0.95 \n",
    "\n",
    "Z = (mu_sample - mu_pop)/ (std_dev/math.sqrt(n_sample))\n",
    "p_val = (1 - norm.cdf(Z))*2 #For 2-tailed test\n",
    "print(\"Z-Score:\", round(Z, 2))\n",
    "print(\"P-Value:\", round(p_val, 3))\n",
    "print(\"Alpha / L.O.S:\", round(alpha, 3))\n",
    "\n",
    "if (p_val < alpha):\n",
    "    print(\"Null Hyp rejected\")\n",
    "else:\n",
    "    print(\"Null Hyp cannot be rejected\")"
   ]
  },
  {
   "cell_type": "markdown",
   "id": "ce7169f0",
   "metadata": {},
   "source": [
    "**Q.** The quality assurance department claims that on average the non-fat milk contains more than 190 mg of Calcium per 500 ml packet. To check this claim 45 packets of milk are collected and the content of calcium is recorded. perform the appropriate test with 90% confidence.\n",
    "\n",
    "data = [193, 321, 222, 158, 176, 149, 154, 223, 233, 177, 280, 244, 138, 210, 167, 129, 254, 167, 194, 191, 128, 191, 144, 184, 330, 216, 212, 142, 216, 197, 231, 133, 205, 192, 195, 243, 224, 137, 234, 171, 176, 249, 222, 234, 191]\n",
    "\n",
    "**Ans:**\n",
    "<br> Ho ==> Calcium <= 190\n",
    "<br> Ha ==> Calcium > 190\n",
    "<br> as n >= 30, we can use Z-Test\n",
    "<br> We will use **Right Tailed One sampled Z-Test**"
   ]
  },
  {
   "cell_type": "code",
   "execution_count": 103,
   "id": "2c29a748",
   "metadata": {},
   "outputs": [
    {
     "name": "stdout",
     "output_type": "stream",
     "text": [
      "z-score: 1.3844\n",
      "p-value: 0.0831\n",
      "Null Hyp rejected\n"
     ]
    }
   ],
   "source": [
    "data = np.asarray([193, 321, 222, 158, 176, 149, 154, 223, 233, 177, 280, 244, 138, 210, 167, 129, 254, 167, 194, 191, 128, 191, 144, 184, 330, 216, 212, 142, 216, 197, 231, 133, 205, 192, 195, 243, 224, 137, 234, 171, 176, 249, 222, 234, 191])\n",
    "\n",
    "alpha = 0.1\n",
    "mu_pop = 190\n",
    "mu_sample = data.mean()\n",
    "n_sample = len(data)\n",
    "std_dev = np.std(data)\n",
    "\n",
    "z = (mu_sample - mu_pop) / (std_dev/math.sqrt(n_sample))\n",
    "p = 1 - norm.cdf(z)\n",
    "\n",
    "print(\"z-score:\", round(z, 4))\n",
    "print(\"p-value:\", round(p, 4))\n",
    "\n",
    "if (p < alpha):\n",
    "    print(\"Null Hyp rejected\")\n",
    "else:\n",
    "    print(\"Null Hyp cannot be rejected\")"
   ]
  },
  {
   "cell_type": "code",
   "execution_count": 95,
   "id": "fb4c5611",
   "metadata": {},
   "outputs": [
    {
     "data": {
      "text/plain": [
       "Ttest_1sampResult(statistic=1.3689029903414232, pvalue=0.08898891556150607)"
      ]
     },
     "execution_count": 95,
     "metadata": {},
     "output_type": "execute_result"
    }
   ],
   "source": [
    "ttest_1samp(data, popmean=190, alternative=\"greater\")"
   ]
  },
  {
   "cell_type": "markdown",
   "id": "adb49ecc",
   "metadata": {},
   "source": [
    "### <u> Hypothesis Testing - 2 Sample </u>"
   ]
  },
  {
   "cell_type": "markdown",
   "id": "c99dd909",
   "metadata": {},
   "source": [
    "**Q.** The average hourly wage of a sample of 150 workers in plant 'A' was $`2.87` with a standard deviation of $`1.08`.\n",
    "The average wage of a sample of 200 workers in plant 'B' was $`2.56` with a standard deviation of $`1.28`.\n",
    "Can an applicant safely assume that the hourly wages paid by plant 'A' are higher than those paid by plant 'B' at a 1% significance level?\n",
    "\n",
    "**Ans:** Ho --> μ(A) = μ(B)\n",
    "<br> Ha --> μ(A) > μ(B)\n",
    "<br> alpha = 0.01\n",
    "<br> **Right tailed 2 sample test - Welch's Test**\n",
    "<br> https://en.wikipedia.org/wiki/Student%27s_t-test#Equal_or_unequal_sample_sizes,_unequal_variances_(sX1_%3E_2sX2_or_sX2_%3E_2sX1)"
   ]
  },
  {
   "cell_type": "code",
   "execution_count": 40,
   "id": "7025eb63",
   "metadata": {},
   "outputs": [
    {
     "name": "stdout",
     "output_type": "stream",
     "text": [
      "T-Score: 2.45322\n",
      "P-Value: 0.00732\n",
      "Null Hyp rejected\n"
     ]
    }
   ],
   "source": [
    "n1 = 150\n",
    "m1 = 2.87\n",
    "std_dev_1 = 1.08\n",
    "n2 = 200\n",
    "m2 = 2.56\n",
    "std_dev_2 = 1.28\n",
    "alpha = 0.01\n",
    "df = n1+n2-2 #degree of freedom\n",
    "\n",
    "t_stat = (m1 - m2) / math.sqrt((std_dev_1**2 / n1) + (std_dev_2**2 / n2))\n",
    "p_val = 1 - t.cdf(t_stat, df)\n",
    "\n",
    "print(\"T-Score:\", round(t_stat, 5))\n",
    "print(\"P-Value:\", round(p_val, 5))\n",
    "\n",
    "if (p_val < alpha):\n",
    "    print(\"Null Hyp rejected\")\n",
    "else:\n",
    "    print(\"Null Hyp cannot be rejected\")"
   ]
  },
  {
   "cell_type": "code",
   "execution_count": 41,
   "id": "a5c50e54",
   "metadata": {},
   "outputs": [
    {
     "data": {
      "text/plain": [
       "Ttest_indResult(statistic=2.453219634102559, pvalue=0.007327626407888468)"
      ]
     },
     "execution_count": 41,
     "metadata": {},
     "output_type": "execute_result"
    }
   ],
   "source": [
    "ttest_ind_from_stats(m1, std_dev_1, n1, m2, std_dev_2, n2, equal_var = False, alternative=\"greater\")"
   ]
  },
  {
   "cell_type": "markdown",
   "id": "0db0bc08",
   "metadata": {},
   "source": [
    "**Q.** There are 8 females and 12 males in a coaching class. After a practice test, the coach wants to know whether the average score of females is greater than the average score of males. Given data describes the scores of females and males. Check whether the assumption of the coach is significant or not at a 5% of significance level?\n",
    "\n",
    "**Ans:** \n",
    "https://en.wikipedia.org/wiki/Student%27s_t-test#Equal_or_unequal_sample_sizes,_similar_variances_(1/2_%3C_sX1/sX2_%3C_2)"
   ]
  },
  {
   "cell_type": "code",
   "execution_count": 7,
   "id": "bc47fd8e",
   "metadata": {},
   "outputs": [
    {
     "name": "stdout",
     "output_type": "stream",
     "text": [
      "T-Score: 0.5795\n",
      "P-Value: 0.2847\n",
      "Null Hyp cannot be rejected\n"
     ]
    }
   ],
   "source": [
    "female_scores=[25,30,45,49,47,35,32,42]\n",
    "male_scores=[45,47,25,22,29,32,27,28,40,49,50,33]\n",
    "d1 = np.asarray(female_scores)\n",
    "d2 = np.asarray(male_scores)\n",
    "\n",
    "n1 = len(d1)\n",
    "n2 = len(d2)\n",
    "m1 = d1.mean()\n",
    "m2 = d2.mean()\n",
    "s1 = np.std(d1, ddof = 1)\n",
    "s2 = np.std(d2, ddof = 1) \n",
    "#df = min(n1 - 1, n2 - 1)\n",
    "df = n1+n2-2\n",
    "alpha = 0.05\n",
    "\n",
    "s = np.sqrt((((n1-1)*(s1**2)) + ((n2-1)*(s2**2))) / df)\n",
    "t_stat = (m1 - m2) / (s*np.sqrt((1/n1)+ (1/n2)))\n",
    "#t_stat = (m1 - m2) / np.sqrt((s1**2 / n1) + (s2**2 / n2))\n",
    "p_val = 1 - t.cdf(t_stat, df)\n",
    "\n",
    "print(\"T-Score:\", round(t_stat, 4))\n",
    "print(\"P-Value:\", round(p_val, 4))\n",
    "\n",
    "if (p_val < alpha):\n",
    "    print(\"Null Hyp rejected\")\n",
    "else:\n",
    "    print(\"Null Hyp cannot be rejected\")"
   ]
  },
  {
   "cell_type": "code",
   "execution_count": 8,
   "id": "409ad286",
   "metadata": {},
   "outputs": [
    {
     "data": {
      "text/plain": [
       "Ttest_indResult(statistic=0.5795450171026676, pvalue=0.2847023809445894)"
      ]
     },
     "execution_count": 8,
     "metadata": {},
     "output_type": "execute_result"
    }
   ],
   "source": [
    "ttest_ind_from_stats(m1, s1, n1, m2, s2, n2, equal_var = True, alternative=\"greater\")"
   ]
  },
  {
   "cell_type": "code",
   "execution_count": 9,
   "id": "59e0e8b7",
   "metadata": {},
   "outputs": [
    {
     "data": {
      "text/plain": [
       "Ttest_indResult(statistic=0.5795450171026676, pvalue=0.2847023809445894)"
      ]
     },
     "execution_count": 9,
     "metadata": {},
     "output_type": "execute_result"
    }
   ],
   "source": [
    "ttest_ind(d1, d2, axis = 0, equal_var = True, alternative=\"greater\")\n",
    "#https://github.com/scipy/scipy/blob/dde50595862a4f9cede24b5d1c86935c30f1f88a/scipy/stats/_stats_py.py#L6363"
   ]
  },
  {
   "cell_type": "markdown",
   "id": "41143379",
   "metadata": {},
   "source": [
    "### <u>2 Sampled Paired Test</u>\n",
    "\n",
    "**Q.** The Zumba trainer claims that the new dance routine helps to reduce more weight of the customers. The weights of 8 people are recorded for before the Zumba training and after the Zumba training for a month.\n",
    "Test the trainer's claim with 90% confidence.\n",
    "<br>wt_before=[85, 74, 63.5, 69.4, 71.6, 65,90,78]\n",
    "<br>wt_after=[82, 71, 64, 65.2, 67.8, 64.7,95,77]\n",
    "\n",
    "**Ans:** \n",
    "Ho => Mean(wt before) == Mean(wt after)\n",
    "<br> Ha => Mean(wt before) > Mean(wt after) (Since, we suspect the new routine helped people lose weight)\n",
    "<br> Therefore, we will use a **right tailed 2 sample paired t-test**"
   ]
  },
  {
   "cell_type": "code",
   "execution_count": 49,
   "id": "1ea9a4a2",
   "metadata": {},
   "outputs": [
    {
     "name": "stdout",
     "output_type": "stream",
     "text": [
      "T-Score: 1.1422\n",
      "P-Value: 0.1455\n",
      "Fail to reject Null\n"
     ]
    }
   ],
   "source": [
    "wt_before=[85, 74, 63.5, 69.4, 71.6, 65,90,78]\n",
    "wt_after=[82, 71, 64, 65.2, 67.8, 64.7,95,77]\n",
    "alpha = 0.1\n",
    "\n",
    "t_stat, p_val = ttest_rel(wt_before, wt_after, alternative = \"greater\")\n",
    "\n",
    "print(\"T-Score:\", round(t_stat, 4))\n",
    "print(\"P-Value:\", round(p_val, 4))\n",
    "\n",
    "if (p_val < alpha):\n",
    "    print(\"Null Hyp rejected\")\n",
    "else:\n",
    "    print(\"Fail to reject Null\")"
   ]
  },
  {
   "cell_type": "markdown",
   "id": "104e7f40",
   "metadata": {},
   "source": [
    "**Q.** You are appointed as a Data Analyst for a training program deployed by the Government of India. The participants’ skills were tested before and after the training using some metrics on a scale of 10.\n",
    "<br>before = [2.45, 0.69, 1.80, 2.80, 0.07, 1.67, 2.93, 0.47, 1.45, 1.34]\n",
    "<br>after = [7.71, 2.17, 5.65, 8.79, 0.23, 5.23, 9.19, 1.49, 4.56, 4.20]\n",
    "\n",
    "Conduct paired t-test with alpha = 0.05"
   ]
  },
  {
   "cell_type": "code",
   "execution_count": 50,
   "id": "7062ff56",
   "metadata": {},
   "outputs": [
    {
     "name": "stdout",
     "output_type": "stream",
     "text": [
      "T-Score: -5.1111\n",
      "P-Value: 0.0003\n",
      "Null Hyp rejected\n"
     ]
    }
   ],
   "source": [
    "before = [2.45, 0.69, 1.80, 2.80, 0.07, 1.67, 2.93, 0.47, 1.45, 1.34]\n",
    "after = [7.71, 2.17, 5.65, 8.79, 0.23, 5.23, 9.19, 1.49, 4.56, 4.20]\n",
    "alpha = 0.1\n",
    "\n",
    "t_stat, p_val = ttest_rel(before, after, alternative = \"less\")\n",
    "\n",
    "print(\"T-Score:\", round(t_stat, 4))\n",
    "print(\"P-Value:\", round(p_val, 4))\n",
    "\n",
    "if (p_val < alpha):\n",
    "    print(\"Null Hyp rejected\")\n",
    "else:\n",
    "    print(\"Fail to reject Null\")"
   ]
  },
  {
   "cell_type": "markdown",
   "id": "65fae499",
   "metadata": {},
   "source": [
    "### <u>KS Test</u>"
   ]
  },
  {
   "cell_type": "markdown",
   "id": "446a7ee2",
   "metadata": {},
   "source": [
    "**Q.** Check validity of Central Limit Theorem using sample data\n",
    "<br>**Ans:** 1 Sample KS Test\n",
    "<br> Ho => Randomly generated distribution is normally distributed\n",
    "<br> Ha => Randomly generated distribution isn't normally distributed"
   ]
  },
  {
   "cell_type": "code",
   "execution_count": 89,
   "id": "78a8a738",
   "metadata": {},
   "outputs": [
    {
     "data": {
      "text/plain": [
       "array([-0.22367337, -0.26672391,  0.67192204,  0.22343642,  0.68554907,\n",
       "       -0.70581674,  0.58150749,  0.14412099,  1.06531083,  0.28484694])"
      ]
     },
     "execution_count": 89,
     "metadata": {},
     "output_type": "execute_result"
    }
   ],
   "source": [
    "rng = np.random.default_rng()\n",
    "x = norm.rvs(size=1000, random_state=rng)\n",
    "x[:10]"
   ]
  },
  {
   "cell_type": "code",
   "execution_count": 90,
   "id": "713f1ea3",
   "metadata": {},
   "outputs": [
    {
     "data": {
      "text/plain": [
       "<AxesSubplot:ylabel='Count'>"
      ]
     },
     "execution_count": 90,
     "metadata": {},
     "output_type": "execute_result"
    },
    {
     "data": {
      "image/png": "[encoded data removed]",
      "text/plain": [
       "<Figure size 432x288 with 1 Axes>"
      ]
     },
     "metadata": {
      "needs_background": "light"
     },
     "output_type": "display_data"
    }
   ],
   "source": [
    "sns.histplot(x)"
   ]
  },
  {
   "cell_type": "code",
   "execution_count": 101,
   "id": "70f10d52",
   "metadata": {},
   "outputs": [
    {
     "data": {
      "text/plain": [
       "KstestResult(statistic=0.02149908029997427, pvalue=0.7359658000435811)"
      ]
     },
     "execution_count": 101,
     "metadata": {},
     "output_type": "execute_result"
    }
   ],
   "source": [
    "ks_1samp(x, norm.cdf, alternative = \"two-sided\")"
   ]
  },
  {
   "cell_type": "markdown",
   "id": "8e235970",
   "metadata": {},
   "source": [
    "Therefore, as **P-value is very high, we cannot reject null hypothesis**. Hence, we can say that our sample is approximately normally distributed"
   ]
  },
  {
   "cell_type": "markdown",
   "id": "1e0fb92d",
   "metadata": {},
   "source": [
    "**Q.** Given Sachin's ODI record, find out whether there is a difference in the runs scored by Sachin based on the innings (1st or 2nd) with 90% confidence\n",
    "\n",
    "**Ans:** We will use 2-sample KS test to check whether both distributions are same or not\n",
    "<br> Ho => There is no difference in the distribution of runs in 1st and 2nd innings\n",
    "<br> Ha => There is significant difference"
   ]
  },
  {
   "cell_type": "code",
   "execution_count": 5,
   "id": "d3df2aa6",
   "metadata": {},
   "outputs": [
    {
     "data": {
      "text/plain": [
       "KstestResult(statistic=0.10990712074303406, pvalue=0.20868747831732348)"
      ]
     },
     "execution_count": 5,
     "metadata": {},
     "output_type": "execute_result"
    }
   ],
   "source": [
    "sachin = pd.read_csv(\"Sachin_ODI.csv\")\n",
    "ks_2samp(sachin[sachin[\"Inns\"] == 1][\"runs\"], sachin[sachin[\"Inns\"] == 2][\"runs\"], alternative = \"two-sided\")"
   ]
  },
  {
   "cell_type": "code",
   "execution_count": 15,
   "id": "23ecf8ec",
   "metadata": {},
   "outputs": [
    {
     "data": {
      "image/png": "[encoded data removed]",
      "text/plain": [
       "<Figure size 720x360 with 1 Axes>"
      ]
     },
     "metadata": {
      "needs_background": "light"
     },
     "output_type": "display_data"
    }
   ],
   "source": [
    "plt.figure(figsize = (10, 5))\n",
    "sns.ecdfplot(data = sachin, x = \"runs\", hue = \"Inns\", palette = [\"blue\", \"crimson\"])\n",
    "plt.show()"
   ]
  },
  {
   "cell_type": "markdown",
   "id": "0b650a19",
   "metadata": {},
   "source": [
    "### <u>Chi Square Test</u>"
   ]
  },
  {
   "cell_type": "code",
   "execution_count": 198,
   "id": "dcb089d8",
   "metadata": {},
   "outputs": [
    {
     "name": "stdout",
     "output_type": "stream",
     "text": [
      "0.1\n",
      "0.05\n"
     ]
    }
   ],
   "source": [
    "print(chi2.ppf(0.05, df = 2).round(2)) #percent-point function \n",
    "print(chi2.cdf(0.1, df = 2).round(2))"
   ]
  },
  {
   "cell_type": "markdown",
   "id": "a2d401d2",
   "metadata": {},
   "source": [
    "**Q.** A random sample of 395 people was surveyed and each person was asked to report the highest education level they obtained. The data observed are summarized below:\n",
    "\n",
    "Female(60, 54, 46, 41, 201), Male(40, 44, 53, 57, 194) and Total(100, 98, 99, 98, 395), where variables in each class are (High school, Bachelors, Masters, Ph.d, Total).\n",
    "\n",
    "The expected values are: Female(50.866, 49.868, 50.377, 49.868, 201), Male(49.114, 48.132, 48.623, 48.132, 194) and Total(100, 98, 99, 98, 395).\n",
    "\n",
    "Are gender and education levels dependent at a 5% significance level?\n",
    "\n",
    "**Ans:** We will perform **chi2 test for independence** using contigency table\n",
    "<br> Ho => variables are independent\n",
    "<br> Ha => variables are dependent"
   ]
  },
  {
   "cell_type": "code",
   "execution_count": 56,
   "id": "0ceaefff",
   "metadata": {},
   "outputs": [
    {
     "name": "stdout",
     "output_type": "stream",
     "text": [
      "8.006066246262538 0.045886500891747214 3\n",
      "[[50.88607595 49.11392405]\n",
      " [49.86835443 48.13164557]\n",
      " [50.37721519 48.62278481]\n",
      " [49.86835443 48.13164557]]\n",
      "Null Hyp rejected - Therefore, variables are dependent\n"
     ]
    }
   ],
   "source": [
    "contingency_table = [\n",
    "    [60, 40], \n",
    "    [54, 44], \n",
    "    [46, 53], \n",
    "    [41, 57]   \n",
    "]\n",
    "alpha = 0.05\n",
    "\n",
    "chi_stat, p_val, df, expected_vals = chi2_contingency(contingency_table)\n",
    "print(chi_stat, p_val, df)\n",
    "print(expected_vals)\n",
    "\n",
    "if (p_val < alpha):\n",
    "    print(\"Null Hyp rejected - Therefore, variables are dependent\")\n",
    "else:\n",
    "    print(\"Null Hyp cannot be rejected - Therefore, variables might be independent\")"
   ]
  },
  {
   "cell_type": "markdown",
   "id": "9a5c3e31",
   "metadata": {},
   "source": [
    "**Q.** According to a survey conducted on car owners, it was determined that 60% of owners have only one car, 28% have two cars, and 12% have three or more cars. Suppose you conducted your own survey and found that 73 owners have only one car, 38 owners have two cars, and 18 owners have three or more cars. Determine whether your survey supports the original one, with a significance level of 0.05.\n",
    "\n",
    "**Ans:**\n",
    "<br>Ho => no difference between the two surveys [i.e our survey supports given survey --> from same dist]\n",
    "<br>Ha => statistical difference between surveys\n",
    "<br>actual = 73, 38, 18, Total = 129 \n",
    "<br>expected = 0.60 * 129, 0.28 * 129, 0.12 * 129"
   ]
  },
  {
   "cell_type": "code",
   "execution_count": 131,
   "id": "2729464d",
   "metadata": {},
   "outputs": [
    {
     "name": "stdout",
     "output_type": "stream",
     "text": [
      "Expected array [77.39999999999999, 36.120000000000005, 15.479999999999999]\n",
      "Chi Stat: 0.7582\n",
      "P-Value: 0.6845\n",
      "Null Hyp cannot be rejected\n"
     ]
    }
   ],
   "source": [
    "# obs = [73/129, 38/129, 18/129]\n",
    "# exp = [0.60, 0.28, 0.12]\n",
    "obs = [73, 38, 18]\n",
    "exp = [0.6 , 0.28, 0.12]\n",
    "exp = [num*sum(obs) for num in exp]\n",
    "alpha = 0.05\n",
    "\n",
    "chi_stat, p_val = chisquare(obs, exp, axis = 0)\n",
    "\n",
    "print(\"Expected array\", exp)\n",
    "print(\"Chi Stat:\", round(chi_stat, 4))\n",
    "print(\"P-Value:\", round(p_val, 4))\n",
    "if (p_val < alpha):\n",
    "    print(\"Null Hyp rejected\")\n",
    "else:\n",
    "    print(\"Null Hyp cannot be rejected\")"
   ]
  },
  {
   "cell_type": "code",
   "execution_count": 200,
   "id": "0606cfde",
   "metadata": {},
   "outputs": [
    {
     "data": {
      "text/plain": [
       "0.6844771615276255"
      ]
     },
     "execution_count": 200,
     "metadata": {},
     "output_type": "execute_result"
    }
   ],
   "source": [
    "1 - chi2.cdf(0.7582, df = 2) #always right tailed by default"
   ]
  },
  {
   "cell_type": "markdown",
   "id": "eac4b9ce",
   "metadata": {},
   "source": [
    "**Q.** Heart Failure v/s Alcohol Notebook Example"
   ]
  },
  {
   "cell_type": "code",
   "execution_count": 107,
   "id": "eb13027e",
   "metadata": {},
   "outputs": [
    {
     "data": {
      "text/html": [
       "<div>\n",
       "<style scoped>\n",
       "    .dataframe tbody tr th:only-of-type {\n",
       "        vertical-align: middle;\n",
       "    }\n",
       "\n",
       "    .dataframe tbody tr th {\n",
       "        vertical-align: top;\n",
       "    }\n",
       "\n",
       "    .dataframe thead th {\n",
       "        text-align: right;\n",
       "    }\n",
       "</style>\n",
       "<table border=\"1\" class=\"dataframe\">\n",
       "  <thead>\n",
       "    <tr style=\"text-align: right;\">\n",
       "      <th></th>\n",
       "      <th>Heart Failure</th>\n",
       "      <th>No Heart Failure</th>\n",
       "    </tr>\n",
       "  </thead>\n",
       "  <tbody>\n",
       "  </tbody>\n",
       "</table>\n",
       "</div>"
      ],
      "text/plain": [
       "Empty DataFrame\n",
       "Columns: [Heart Failure, No Heart Failure]\n",
       "Index: []"
      ]
     },
     "execution_count": 107,
     "metadata": {},
     "output_type": "execute_result"
    }
   ],
   "source": [
    "obs = pd.DataFrame(data = None, \n",
    "                   columns = [\"Heart Failure\", \"No Heart Failure\"])\n",
    "obs"
   ]
  },
  {
   "cell_type": "code",
   "execution_count": 95,
   "id": "fa1dea6d",
   "metadata": {},
   "outputs": [
    {
     "data": {
      "text/plain": [
       "0.006105898547634547"
      ]
     },
     "execution_count": 95,
     "metadata": {},
     "output_type": "execute_result"
    }
   ],
   "source": [
    "1 - chi2.cdf(10.197, df = 2)"
   ]
  },
  {
   "cell_type": "code",
   "execution_count": 98,
   "id": "67ce642a",
   "metadata": {},
   "outputs": [
    {
     "data": {
      "text/plain": [
       "9.21034037197618"
      ]
     },
     "execution_count": 98,
     "metadata": {},
     "output_type": "execute_result"
    }
   ],
   "source": [
    "chi2.ppf(0.99, df = 2)"
   ]
  },
  {
   "cell_type": "code",
   "execution_count": 97,
   "id": "ca2446a8",
   "metadata": {},
   "outputs": [
    {
     "data": {
      "text/plain": [
       "0.010001702004705515"
      ]
     },
     "execution_count": 97,
     "metadata": {},
     "output_type": "execute_result"
    }
   ],
   "source": [
    "1 - chi2.cdf(9.21, df = 2)"
   ]
  },
  {
   "cell_type": "code",
   "execution_count": 54,
   "id": "77df8ccb",
   "metadata": {},
   "outputs": [
    {
     "data": {
      "text/html": [
       "<div>\n",
       "<style scoped>\n",
       "    .dataframe tbody tr th:only-of-type {\n",
       "        vertical-align: middle;\n",
       "    }\n",
       "\n",
       "    .dataframe tbody tr th {\n",
       "        vertical-align: top;\n",
       "    }\n",
       "\n",
       "    .dataframe thead th {\n",
       "        text-align: right;\n",
       "    }\n",
       "</style>\n",
       "<table border=\"1\" class=\"dataframe\">\n",
       "  <thead>\n",
       "    <tr style=\"text-align: right;\">\n",
       "      <th>Alcohol</th>\n",
       "      <th>Abstain</th>\n",
       "      <th>Drink</th>\n",
       "    </tr>\n",
       "    <tr>\n",
       "      <th>Heart_Fail</th>\n",
       "      <th></th>\n",
       "      <th></th>\n",
       "    </tr>\n",
       "  </thead>\n",
       "  <tbody>\n",
       "    <tr>\n",
       "      <th>No</th>\n",
       "      <td>750</td>\n",
       "      <td>882</td>\n",
       "    </tr>\n",
       "    <tr>\n",
       "      <th>Yes</th>\n",
       "      <td>146</td>\n",
       "      <td>135</td>\n",
       "    </tr>\n",
       "  </tbody>\n",
       "</table>\n",
       "</div>"
      ],
      "text/plain": [
       "Alcohol     Abstain  Drink\n",
       "Heart_Fail                \n",
       "No              750    882\n",
       "Yes             146    135"
      ]
     },
     "execution_count": 54,
     "metadata": {},
     "output_type": "execute_result"
    }
   ],
   "source": [
    "ct = pd.crosstab(index = [\"Yes\", \"No\"], columns = [\"Abstain\", \"Drink\"], \n",
    "            rownames = [\"Heart_Fail\"], colnames = [\"Alcohol\"])\n",
    "ct.loc[\"Yes\", \"Abstain\"] = 146\n",
    "ct.loc[\"Yes\", \"Drink\"] = 135\n",
    "ct.loc[\"No\", \"Drink\"] = 882\n",
    "ct.loc[\"No\", \"Abstain\"] = 750\n",
    "ct"
   ]
  },
  {
   "cell_type": "code",
   "execution_count": 90,
   "id": "353fa06a",
   "metadata": {},
   "outputs": [
    {
     "data": {
      "text/html": [
       "<div>\n",
       "<style scoped>\n",
       "    .dataframe tbody tr th:only-of-type {\n",
       "        vertical-align: middle;\n",
       "    }\n",
       "\n",
       "    .dataframe tbody tr th {\n",
       "        vertical-align: top;\n",
       "    }\n",
       "\n",
       "    .dataframe thead th {\n",
       "        text-align: right;\n",
       "    }\n",
       "</style>\n",
       "<table border=\"1\" class=\"dataframe\">\n",
       "  <thead>\n",
       "    <tr style=\"text-align: right;\">\n",
       "      <th></th>\n",
       "      <th>Abstain</th>\n",
       "      <th>&lt;7 drinks/week</th>\n",
       "      <th>&gt;=7 drinks/week</th>\n",
       "    </tr>\n",
       "  </thead>\n",
       "  <tbody>\n",
       "    <tr>\n",
       "      <th>Heart Fail - Yes</th>\n",
       "      <td>146</td>\n",
       "      <td>106</td>\n",
       "      <td>29</td>\n",
       "    </tr>\n",
       "    <tr>\n",
       "      <th>Heart Fail - No</th>\n",
       "      <td>750</td>\n",
       "      <td>590</td>\n",
       "      <td>292</td>\n",
       "    </tr>\n",
       "  </tbody>\n",
       "</table>\n",
       "</div>"
      ],
      "text/plain": [
       "                  Abstain  <7 drinks/week  >=7 drinks/week\n",
       "Heart Fail - Yes      146             106               29\n",
       "Heart Fail - No       750             590              292"
      ]
     },
     "execution_count": 90,
     "metadata": {},
     "output_type": "execute_result"
    }
   ],
   "source": [
    "obs = pd.DataFrame(data = [[146, 106, 29], [750, 590, 292]], columns = [\"Abstain\", \"<7 drinks/week\", \">=7 drinks/week\"], \n",
    "                  index = [\"Heart Fail - Yes\", \"Heart Fail - No\"])\n",
    "obs"
   ]
  },
  {
   "cell_type": "code",
   "execution_count": 55,
   "id": "9441ff3a",
   "metadata": {},
   "outputs": [
    {
     "data": {
      "text/plain": [
       "(3.230691743859433,\n",
       " 0.0722701556177364,\n",
       " 1,\n",
       " array([[764.38682697, 867.61317303],\n",
       "        [131.61317303, 149.38682697]]))"
      ]
     },
     "execution_count": 55,
     "metadata": {},
     "output_type": "execute_result"
    }
   ],
   "source": [
    "chi2_contingency(ct)"
   ]
  },
  {
   "cell_type": "markdown",
   "id": "28a74e04",
   "metadata": {},
   "source": [
    "### <u>ANNOVA</u>"
   ]
  },
  {
   "attachments": {
    "image.png": {
     "image/png": "[encoded data removed]"
    }
   },
   "cell_type": "markdown",
   "id": "b6953c53",
   "metadata": {},
   "source": [
    "Suppose there a four machines M1, M2, M3, and M4 in a factory that are used to produce a certain kind of cotton fabric\n",
    "Samples of size 4 with each unit having 100sq. meters are selected from the output of the machine randomly, and the number of flaws in every 100 sq. meters are counted and listed below.\n",
    "<div>\n",
    "<img src=\"attachment:image.png\" width=\"200\"/>\n",
    "</div>\n",
    "Do you think there is a significant difference in the performance of the four machines?"
   ]
  },
  {
   "cell_type": "code",
   "execution_count": 121,
   "id": "cbdd930b",
   "metadata": {},
   "outputs": [
    {
     "name": "stdout",
     "output_type": "stream",
     "text": [
      "25.22157\n",
      "2e-05\n",
      "3.490294819497605\n"
     ]
    }
   ],
   "source": [
    "m1 = [8, 9, 11, 12]\n",
    "m2 = [6, 8, 10, 4]\n",
    "m3 = [14, 12, 18, 9]\n",
    "m4 = [20, 22, 25, 23]\n",
    "rows = 4\n",
    "N = 16\n",
    "dfn = rows-1\n",
    "dfd = N-rows\n",
    " \n",
    "# Conduct the one-way ANOVA\n",
    "f_stat, p_val = f_oneway(m1, m2, m3, m4)\n",
    "print(f_stat.round(5))\n",
    "print(p_val.round(5))\n",
    "print(f.ppf(0.95, dfn, dfd)) #assuming 5% LOS"
   ]
  },
  {
   "attachments": {
    "image.png": {
     "image/png": "[encoded data removed]"
    }
   },
   "cell_type": "markdown",
   "id": "64edf13a",
   "metadata": {},
   "source": [
    "A Company wishes to test whether three sales persons Saurav, Naveen, and Radha make the same sales or they differ in their selling ability as measured by the average size of their sales during the last week. Out of 14 sales 'Saurav' made 5, 'Naveen' made 4 and 'Radha' made 5. The following table describes the records of the sales persons in rupees.\n",
    "<div>\n",
    "<img src=\"attachment:image.png\" width=\"200\"/>\n",
    "</div>\n",
    "Test whether the average sales of the Saurav, Naveen, and Radha differ in size at a 95% confidence level\n",
    "\n",
    "Note: [Solved Example](https://study.com/skill/learn/how-to-calculate-the-total-sum-of-squares-within-and-between-ssw-and-ssb-explanation.html#:~:text=Step%201%3A%20For%20each%20group,data%20points%20regardless%20of%20group)"
   ]
  },
  {
   "cell_type": "code",
   "execution_count": 134,
   "id": "665b036d",
   "metadata": {},
   "outputs": [
    {
     "data": {
      "text/html": [
       "<div>\n",
       "<style scoped>\n",
       "    .dataframe tbody tr th:only-of-type {\n",
       "        vertical-align: middle;\n",
       "    }\n",
       "\n",
       "    .dataframe tbody tr th {\n",
       "        vertical-align: top;\n",
       "    }\n",
       "\n",
       "    .dataframe thead th {\n",
       "        text-align: right;\n",
       "    }\n",
       "</style>\n",
       "<table border=\"1\" class=\"dataframe\">\n",
       "  <thead>\n",
       "    <tr style=\"text-align: right;\">\n",
       "      <th></th>\n",
       "      <th>Saurav</th>\n",
       "      <th>Naveen</th>\n",
       "      <th>Radha</th>\n",
       "    </tr>\n",
       "  </thead>\n",
       "  <tbody>\n",
       "    <tr>\n",
       "      <th>0</th>\n",
       "      <td>300</td>\n",
       "      <td>600.0</td>\n",
       "      <td>700</td>\n",
       "    </tr>\n",
       "    <tr>\n",
       "      <th>1</th>\n",
       "      <td>400</td>\n",
       "      <td>300.0</td>\n",
       "      <td>300</td>\n",
       "    </tr>\n",
       "    <tr>\n",
       "      <th>2</th>\n",
       "      <td>300</td>\n",
       "      <td>300.0</td>\n",
       "      <td>400</td>\n",
       "    </tr>\n",
       "    <tr>\n",
       "      <th>3</th>\n",
       "      <td>500</td>\n",
       "      <td>400.0</td>\n",
       "      <td>600</td>\n",
       "    </tr>\n",
       "    <tr>\n",
       "      <th>4</th>\n",
       "      <td>0</td>\n",
       "      <td>NaN</td>\n",
       "      <td>500</td>\n",
       "    </tr>\n",
       "  </tbody>\n",
       "</table>\n",
       "</div>"
      ],
      "text/plain": [
       "   Saurav  Naveen  Radha\n",
       "0     300   600.0    700\n",
       "1     400   300.0    300\n",
       "2     300   300.0    400\n",
       "3     500   400.0    600\n",
       "4       0     NaN    500"
      ]
     },
     "execution_count": 134,
     "metadata": {},
     "output_type": "execute_result"
    }
   ],
   "source": [
    "Saurav = [300, 400, 300, 500, 0]\n",
    "Naveen = [600, 300, 300, 400, np.nan]\n",
    "Radha = [700, 300, 400, 600, 500]\n",
    "\n",
    "vals = list(zip(Saurav, Naveen, Radha))\n",
    "sales_df = pd.DataFrame(data = vals, columns = [\"Saurav\", \"Naveen\", \"Radha\"])\n",
    "sales_df"
   ]
  },
  {
   "cell_type": "code",
   "execution_count": 172,
   "id": "24462664",
   "metadata": {},
   "outputs": [
    {
     "name": "stdout",
     "output_type": "stream",
     "text": [
      "Sum of Squares Between Groups: 100000\n",
      "Sum of Squares Within Groups: 300000\n",
      "Degrees of Freedom for SSB: 2\n",
      "Degrees of Freedom for SSW: 11\n",
      "F-Statistic: 1.83333\n"
     ]
    }
   ],
   "source": [
    "num_s = sales_df[\"Saurav\"].count()\n",
    "num_n = sales_df[\"Naveen\"].count() #Ignores null values\n",
    "num_r = sales_df[\"Radha\"].count()\n",
    "\n",
    "groups = len(sales_df.columns)\n",
    "total_elements = num_s + num_n + num_r\n",
    "\n",
    "mean_s = sales_df[\"Saurav\"].mean()\n",
    "mean_n = sales_df[\"Naveen\"].mean()\n",
    "mean_r = sales_df[\"Radha\"].mean()\n",
    "mean_overall = (mean_s + mean_n + mean_r)/3\n",
    "\n",
    "var_s = sales_df[\"Saurav\"].var()\n",
    "var_n = sales_df[\"Naveen\"].var()\n",
    "var_r = sales_df[\"Radha\"].var()\n",
    "\n",
    "SSB = num_s*(mean_overall - mean_s)**2 + \\\n",
    "      num_n*(mean_overall - mean_n)**2 + \\\n",
    "      num_r*(mean_overall - mean_r)**2 \n",
    "\n",
    "\n",
    "SSW = (num_s-1)*var_s + \\\n",
    "      (num_n-1)*var_n + \\\n",
    "      (num_r-1)*var_r\n",
    "\n",
    "\n",
    "dof_ssb = groups - 1\n",
    "dof_ssw = total_elements - groups\n",
    "\n",
    "\n",
    "f_stat = (SSB/dof_ssb) / (SSW/dof_ssw)\n",
    "\n",
    "print('Sum of Squares Between Groups: {0:.6g}'.format(SSB))\n",
    "print('Sum of Squares Within Groups: {0:.9g}'.format(SSW))\n",
    "print('Degrees of Freedom for SSB: {}'.format(dof_ssb))\n",
    "print('Degrees of Freedom for SSW: {}'.format(dof_ssw))\n",
    "print('F-Statistic: {0:.6g}'.format(f_stat))"
   ]
  },
  {
   "cell_type": "code",
   "execution_count": 152,
   "id": "3da60cde",
   "metadata": {},
   "outputs": [
    {
     "name": "stdout",
     "output_type": "stream",
     "text": [
      "1.83333\n",
      "0.20551\n",
      "3.6330885114190794\n",
      "Fail to reject Null - Means are same\n"
     ]
    }
   ],
   "source": [
    "Saurav = [300, 400, 300, 500, 0]\n",
    "Naveen = [600, 300, 300, 400]\n",
    "Radha = [700, 300, 400, 600, 500]\n",
    "rows = 5\n",
    "N = 14\n",
    "dfn = rows-1\n",
    "dfd = N-rows\n",
    "alpha = 0.05\n",
    "\n",
    "f_stat, p_val = f_oneway(Saurav, Naveen, Radha)\n",
    "print(f_stat.round(5))\n",
    "print(p_val.round(5))\n",
    "print(f.ppf(0.95, dfn, dfd)) #assuming 5% LOS\n",
    "\n",
    "if(p_val < alpha):\n",
    "    print('Reject Null - Means are different')\n",
    "else:\n",
    "    print('Fail to reject Null - Means are same')"
   ]
  },
  {
   "cell_type": "markdown",
   "id": "dc839ade",
   "metadata": {},
   "source": [
    "<h3><u> Kruskal Wallis Test</u> (Non-paramteric ANOVA)</h3> \n",
    "\n",
    "**IMP: Kruskal Wallis is not a test for medians. We can only compare medians if the sample distributions are similar(size, location, variance). Below is an example**\n",
    "\n",
    "[Note: KW Test in detail](https://towardsdatascience.com/kruskal-wallis-test-for-beginners-4fe9b0333b31)"
   ]
  },
  {
   "cell_type": "markdown",
   "id": "db0e0e2b",
   "metadata": {},
   "source": [
    "**Q.**  In the loan.csv dataset, we wish to test the hypothesis that among all loan applicants who were **rejected for a loan**, the **applicant income** of the people with a **credit history of 1** is significantly different from the **applicant income** of the people with a **credit history of 0**.\n",
    "\n",
    "**Ans:** Since, data is not normally distributed, we can't perform student's T-test. Therefore, we must use the KW test instead.\n",
    "<br> From our result, we can say that applicant income for people who haven't got a loan is similar irrespective of their credit history"
   ]
  },
  {
   "cell_type": "code",
   "execution_count": 187,
   "id": "d331a826",
   "metadata": {},
   "outputs": [],
   "source": [
    "data = pd.read_csv(\"loan.csv\")\n",
    "data = data[data[\"Loan_Status\"] == \"N\"]\n",
    "group1 = data[data[\"Credit_History\"] == 0][\"ApplicantIncome\"]\n",
    "group2 = data[data[\"Credit_History\"] == 1][\"ApplicantIncome\"]"
   ]
  },
  {
   "cell_type": "code",
   "execution_count": 186,
   "id": "a8b0f754",
   "metadata": {},
   "outputs": [
    {
     "name": "stdout",
     "output_type": "stream",
     "text": [
      "4.554005639283129e-18\n",
      "3.2996619759445567e-13\n"
     ]
    }
   ],
   "source": [
    "from scipy.stats import shapiro #Test to check if samples are from normal distribution -- Ho => Normal dist\n",
    "print(shapiro(group1)[1])\n",
    "print(shapiro(group2)[1])"
   ]
  },
  {
   "cell_type": "code",
   "execution_count": 189,
   "id": "05f9e494",
   "metadata": {},
   "outputs": [
    {
     "data": {
      "image/png": "[encoded data removed]",
      "text/plain": [
       "<Figure size 576x288 with 2 Axes>"
      ]
     },
     "metadata": {
      "needs_background": "light"
     },
     "output_type": "display_data"
    }
   ],
   "source": [
    "fig, axs = plt.subplots(1, 2, figsize = (8, 4))\n",
    "sns.histplot(group1, ax = axs[0]).set(title = \"No Credit History\")\n",
    "sns.histplot(group2, ax = axs[1]).set(title = \"Credit History Present\")\n",
    "fig.subplots_adjust(right = 2)\n",
    "plt.show()"
   ]
  },
  {
   "cell_type": "code",
   "execution_count": 188,
   "id": "7d8b4324",
   "metadata": {},
   "outputs": [
    {
     "name": "stdout",
     "output_type": "stream",
     "text": [
      "Kruskal P-val: 0.15224584555807225\n",
      "Medians are similar, fail to reject Null\n"
     ]
    }
   ],
   "source": [
    "from scipy.stats import kruskal\n",
    "stat, p_val = kruskal(group1, group2, nan_policy = \"omit\") #doesn't consider nan values\n",
    "\n",
    "print(\"Kruskal P-val:\", p_val)\n",
    "if(p_val < 0.05):\n",
    "    print(\"Medians are different, reject Null Hyp\")\n",
    "else:\n",
    "    print(\"Medians are similar, fail to reject Null\")"
   ]
  },
  {
   "cell_type": "markdown",
   "id": "93fadea6",
   "metadata": {},
   "source": [
    "### <u> Levene's Test </u>"
   ]
  },
  {
   "cell_type": "markdown",
   "id": "47209f5b",
   "metadata": {},
   "source": [
    "**Q.** In the loan.csv dataset, we wish to test the hypothesis that the loan amount payable per year is different for women and unmarried men. \n",
    "1. To do so, first define a new feature called 'Loan_Amount_per_year' using the formula 'LoanAmount' / 'Loan_Amount_Term'. \n",
    "2. Next, define group1 as the women loan applicants, and group2 as the unmarried male applicants. \n",
    "3. Print out their variances. \n",
    "4. Perform a Levene test using the median as the center to check whether the variances of the two groups are significantly different.\n",
    "5. Next, apply the t-test to check whether the average loan amount payable is significantly different for the two groups. What interpretations can be drawn from the tests conducted?"
   ]
  },
  {
   "cell_type": "markdown",
   "id": "938ed66b",
   "metadata": {},
   "source": [
    "### <u> Correlation and Covariance </u>"
   ]
  },
  {
   "cell_type": "code",
   "execution_count": 40,
   "id": "369f61d5",
   "metadata": {},
   "outputs": [
    {
     "data": {
      "text/html": [
       "<div>\n",
       "<style scoped>\n",
       "    .dataframe tbody tr th:only-of-type {\n",
       "        vertical-align: middle;\n",
       "    }\n",
       "\n",
       "    .dataframe tbody tr th {\n",
       "        vertical-align: top;\n",
       "    }\n",
       "\n",
       "    .dataframe thead th {\n",
       "        text-align: right;\n",
       "    }\n",
       "</style>\n",
       "<table border=\"1\" class=\"dataframe\">\n",
       "  <thead>\n",
       "    <tr style=\"text-align: right;\">\n",
       "      <th></th>\n",
       "      <th>hdi_rank</th>\n",
       "      <th>country</th>\n",
       "      <th>hdi_score</th>\n",
       "      <th>life_ex</th>\n",
       "      <th>gni_pc</th>\n",
       "    </tr>\n",
       "  </thead>\n",
       "  <tbody>\n",
       "    <tr>\n",
       "      <th>1</th>\n",
       "      <td>2.0</td>\n",
       "      <td>Australia</td>\n",
       "      <td>0.935</td>\n",
       "      <td>82.4</td>\n",
       "      <td>42.261</td>\n",
       "    </tr>\n",
       "    <tr>\n",
       "      <th>5</th>\n",
       "      <td>6.0</td>\n",
       "      <td>Germany</td>\n",
       "      <td>0.916</td>\n",
       "      <td>80.9</td>\n",
       "      <td>43.919</td>\n",
       "    </tr>\n",
       "    <tr>\n",
       "      <th>7</th>\n",
       "      <td>8.0</td>\n",
       "      <td>United States</td>\n",
       "      <td>0.915</td>\n",
       "      <td>79.1</td>\n",
       "      <td>52.947</td>\n",
       "    </tr>\n",
       "    <tr>\n",
       "      <th>8</th>\n",
       "      <td>9.0</td>\n",
       "      <td>Canada</td>\n",
       "      <td>0.913</td>\n",
       "      <td>82.0</td>\n",
       "      <td>42.155</td>\n",
       "    </tr>\n",
       "    <tr>\n",
       "      <th>14</th>\n",
       "      <td>14.0</td>\n",
       "      <td>United Kingdom</td>\n",
       "      <td>0.907</td>\n",
       "      <td>80.7</td>\n",
       "      <td>39.267</td>\n",
       "    </tr>\n",
       "    <tr>\n",
       "      <th>16</th>\n",
       "      <td>17.0</td>\n",
       "      <td>South Korea</td>\n",
       "      <td>0.898</td>\n",
       "      <td>81.9</td>\n",
       "      <td>33.890</td>\n",
       "    </tr>\n",
       "    <tr>\n",
       "      <th>19</th>\n",
       "      <td>20.0</td>\n",
       "      <td>Japan</td>\n",
       "      <td>0.891</td>\n",
       "      <td>83.5</td>\n",
       "      <td>36.927</td>\n",
       "    </tr>\n",
       "    <tr>\n",
       "      <th>21</th>\n",
       "      <td>22.0</td>\n",
       "      <td>France</td>\n",
       "      <td>0.888</td>\n",
       "      <td>82.2</td>\n",
       "      <td>38.056</td>\n",
       "    </tr>\n",
       "    <tr>\n",
       "      <th>26</th>\n",
       "      <td>27.0</td>\n",
       "      <td>Italy</td>\n",
       "      <td>0.873</td>\n",
       "      <td>83.1</td>\n",
       "      <td>33.030</td>\n",
       "    </tr>\n",
       "    <tr>\n",
       "      <th>38</th>\n",
       "      <td>39.0</td>\n",
       "      <td>Saudi Arabia</td>\n",
       "      <td>0.837</td>\n",
       "      <td>74.3</td>\n",
       "      <td>52.821</td>\n",
       "    </tr>\n",
       "    <tr>\n",
       "      <th>39</th>\n",
       "      <td>40.0</td>\n",
       "      <td>Argentina</td>\n",
       "      <td>0.836</td>\n",
       "      <td>76.3</td>\n",
       "      <td>22.050</td>\n",
       "    </tr>\n",
       "    <tr>\n",
       "      <th>50</th>\n",
       "      <td>50.0</td>\n",
       "      <td>Russian Federation</td>\n",
       "      <td>0.798</td>\n",
       "      <td>70.1</td>\n",
       "      <td>22.352</td>\n",
       "    </tr>\n",
       "    <tr>\n",
       "      <th>71</th>\n",
       "      <td>72.0</td>\n",
       "      <td>Turkey</td>\n",
       "      <td>0.761</td>\n",
       "      <td>75.3</td>\n",
       "      <td>18.677</td>\n",
       "    </tr>\n",
       "    <tr>\n",
       "      <th>73</th>\n",
       "      <td>74.0</td>\n",
       "      <td>Mexico</td>\n",
       "      <td>0.756</td>\n",
       "      <td>76.8</td>\n",
       "      <td>16.056</td>\n",
       "    </tr>\n",
       "    <tr>\n",
       "      <th>74</th>\n",
       "      <td>75.0</td>\n",
       "      <td>Brazil</td>\n",
       "      <td>0.755</td>\n",
       "      <td>74.5</td>\n",
       "      <td>15.175</td>\n",
       "    </tr>\n",
       "    <tr>\n",
       "      <th>89</th>\n",
       "      <td>90.0</td>\n",
       "      <td>China</td>\n",
       "      <td>0.727</td>\n",
       "      <td>75.8</td>\n",
       "      <td>12.547</td>\n",
       "    </tr>\n",
       "    <tr>\n",
       "      <th>110</th>\n",
       "      <td>110.0</td>\n",
       "      <td>Indonesia</td>\n",
       "      <td>0.684</td>\n",
       "      <td>68.9</td>\n",
       "      <td>9.788</td>\n",
       "    </tr>\n",
       "    <tr>\n",
       "      <th>116</th>\n",
       "      <td>116.0</td>\n",
       "      <td>South Africa</td>\n",
       "      <td>0.666</td>\n",
       "      <td>57.4</td>\n",
       "      <td>12.122</td>\n",
       "    </tr>\n",
       "    <tr>\n",
       "      <th>129</th>\n",
       "      <td>130.0</td>\n",
       "      <td>India</td>\n",
       "      <td>0.609</td>\n",
       "      <td>68.0</td>\n",
       "      <td>5.497</td>\n",
       "    </tr>\n",
       "  </tbody>\n",
       "</table>\n",
       "</div>"
      ],
      "text/plain": [
       "     hdi_rank             country  hdi_score  life_ex  gni_pc\n",
       "1         2.0           Australia      0.935     82.4  42.261\n",
       "5         6.0             Germany      0.916     80.9  43.919\n",
       "7         8.0       United States      0.915     79.1  52.947\n",
       "8         9.0              Canada      0.913     82.0  42.155\n",
       "14       14.0      United Kingdom      0.907     80.7  39.267\n",
       "16       17.0         South Korea      0.898     81.9  33.890\n",
       "19       20.0               Japan      0.891     83.5  36.927\n",
       "21       22.0              France      0.888     82.2  38.056\n",
       "26       27.0               Italy      0.873     83.1  33.030\n",
       "38       39.0        Saudi Arabia      0.837     74.3  52.821\n",
       "39       40.0           Argentina      0.836     76.3  22.050\n",
       "50       50.0  Russian Federation      0.798     70.1  22.352\n",
       "71       72.0              Turkey      0.761     75.3  18.677\n",
       "73       74.0              Mexico      0.756     76.8  16.056\n",
       "74       75.0              Brazil      0.755     74.5  15.175\n",
       "89       90.0               China      0.727     75.8  12.547\n",
       "110     110.0           Indonesia      0.684     68.9   9.788\n",
       "116     116.0        South Africa      0.666     57.4  12.122\n",
       "129     130.0               India      0.609     68.0   5.497"
      ]
     },
     "execution_count": 40,
     "metadata": {},
     "output_type": "execute_result"
    }
   ],
   "source": [
    "hdi_df = pd.read_csv(\"human_development.csv\")\n",
    "hdi_df = hdi_df.drop(hdi_df.columns[[4, 5, 7]], axis = 1)\n",
    "hdi_df.columns = [\"hdi_rank\", \"country\", \"hdi_score\", \"life_ex\", \"gni_pc\"]\n",
    "hdi_df['gni_pc'] = hdi_df['gni_pc'].str.replace(',', '').astype(float)/1000\n",
    "hdi_g20_df = hdi_df[hdi_df[\"country\"].isin([\"Argentina\", \"Australia\", \"Brazil\", \"Canada\", \"China\", \"France\", \"Germany\", \n",
    "                                            \"India\", \"Indonesia\", \"Italy\", \"South Korea\", \"Japan\", \"Mexico\", \n",
    "                                            \"Russian Federation\", \"Saudi Arabia\", \"South Africa\", \"Turkey\", \n",
    "                                            \"United Kingdom\", \"United States\",\"European Union\"])]\n",
    "hdi_g20_df"
   ]
  },
  {
   "cell_type": "code",
   "execution_count": 42,
   "id": "ad093714",
   "metadata": {},
   "outputs": [
    {
     "data": {
      "image/png": "[encoded data removed]",
      "text/plain": [
       "<Figure size 864x576 with 1 Axes>"
      ]
     },
     "metadata": {
      "needs_background": "light"
     },
     "output_type": "display_data"
    }
   ],
   "source": [
    "plt.figure(figsize=(12,8))\n",
    "sns.scatterplot(data = hdi_g20_df, x = 'gni_pc', y = 'life_ex')\n",
    "plt.title(f\"G 20 Countries : {'gni_pc'} vs {'life_ex'}\")\n",
    "plt.xlabel('gni_pc')\n",
    "plt.ylabel('life_ex')\n",
    "          \n",
    "for i in range(hdi_g20_df.shape[0]):\n",
    "          plt.text(hdi_g20_df.gni_pc.iloc[i], y=hdi_g20_df.life_ex.iloc[i], s=hdi_g20_df.country.iloc[i], alpha=0.8)\n",
    "\n",
    "# Benchmark Mean values          \n",
    "plt.axhline(y = hdi_g20_df.life_ex.mean(), color='k', linestyle='--', linewidth=1)           \n",
    "plt.axvline(x = hdi_g20_df.gni_pc.mean(), color='k',linestyle='--', linewidth=1) \n",
    "plt.show()"
   ]
  },
  {
   "cell_type": "code",
   "execution_count": 44,
   "id": "a1d3d1af",
   "metadata": {},
   "outputs": [
    {
     "name": "stdout",
     "output_type": "stream",
     "text": [
      "[[ 44.98362573  66.05931667]\n",
      " [ 66.05931667 224.30467778]]\n",
      "44.98362573099416 224.30467777777778\n"
     ]
    }
   ],
   "source": [
    "print(np.cov(hdi_g20_df.life_ex, hdi_g20_df.gni_pc))\n",
    "print(hdi_g20_df.life_ex.var(), hdi_g20_df.gni_pc.var())"
   ]
  },
  {
   "cell_type": "code",
   "execution_count": 49,
   "id": "351f20ad",
   "metadata": {},
   "outputs": [],
   "source": [
    "def spearman_corr(x, y):\n",
    "    srcc_val = 0.0\n",
    "    order = np.argsort(x)\n",
    "    ranks = np.argsort(order)\n",
    "    a1 = ranks + 1\n",
    "    order = np.argsort(y)\n",
    "    ranks = np.argsort(order)\n",
    "    a2 = ranks + 1\n",
    "    \n",
    "    n = len(a1)\n",
    "    a1_sq = a1 ** 2\n",
    "    a2_sq = a2 ** 2\n",
    "    mult = a1 * a2\n",
    "    num = (n * sum(mult)) - (sum(a1) * sum(a2))\n",
    "    denom = np.sqrt(((n * sum(a1_sq)) - (sum(a1) ** 2)) *((n * sum(a2_sq)) - (sum(a2) ** 2)))\n",
    "    \n",
    "#     num = np.cov(a1, a2)\n",
    "#     denom = np.std(a1) * np.std(a2)\n",
    "\n",
    "    srcc_val = num/denom\n",
    "    return srcc_val.round(3)"
   ]
  },
  {
   "cell_type": "markdown",
   "id": "ca3ae26e",
   "metadata": {},
   "source": [
    "<h3><u> Misc/Testing </u></h3>"
   ]
  },
  {
   "cell_type": "code",
   "execution_count": 8,
   "id": "0f2dc8db",
   "metadata": {},
   "outputs": [
    {
     "data": {
      "text/plain": [
       "0.7535533517801833"
      ]
     },
     "execution_count": 8,
     "metadata": {},
     "output_type": "execute_result"
    }
   ],
   "source": [
    "x = 48\n",
    "mean = 50\n",
    "std = 2\n",
    "norm.cdf((x - mean)/std)"
   ]
  },
  {
   "cell_type": "code",
   "execution_count": 21,
   "id": "95eb48a2",
   "metadata": {},
   "outputs": [
    {
     "data": {
      "text/plain": [
       "-1.9599639845400545"
      ]
     },
     "execution_count": 21,
     "metadata": {},
     "output_type": "execute_result"
    }
   ],
   "source": [
    "zscore = norm.ppf(0.025)\n",
    "zscore"
   ]
  },
  {
   "cell_type": "code",
   "execution_count": 55,
   "id": "a6b51e95",
   "metadata": {},
   "outputs": [
    {
     "name": "stdout",
     "output_type": "stream",
     "text": [
      "-2.4572615424005706\n",
      "-2.33008267475551\n",
      "-2.3263478740408408\n"
     ]
    }
   ],
   "source": [
    "print(t.ppf(0.01, 30))\n",
    "print(t.ppf(0.01, 1000))\n",
    "print(norm.ppf(0.01))"
   ]
  },
  {
   "cell_type": "code",
   "execution_count": 58,
   "id": "0f5f9fa9",
   "metadata": {},
   "outputs": [
    {
     "data": {
      "text/plain": [
       "0.001119724779430328"
      ]
     },
     "execution_count": 58,
     "metadata": {},
     "output_type": "execute_result"
    }
   ],
   "source": [
    "t.cdf(-4.22, 9)"
   ]
  },
  {
   "cell_type": "code",
   "execution_count": 60,
   "id": "7e5648f6",
   "metadata": {},
   "outputs": [
    {
     "data": {
      "text/plain": [
       "0.989555922938049"
      ]
     },
     "execution_count": 60,
     "metadata": {},
     "output_type": "execute_result"
    }
   ],
   "source": [
    "norm.cdf(2.31)"
   ]
  },
  {
   "cell_type": "code",
   "execution_count": 27,
   "id": "911a81c4",
   "metadata": {},
   "outputs": [
    {
     "data": {
      "text/plain": [
       "0.049787068367863944"
      ]
     },
     "execution_count": 27,
     "metadata": {},
     "output_type": "execute_result"
    }
   ],
   "source": [
    "poisson.pmf(k=0, mu = 3)"
   ]
  },
  {
   "cell_type": "code",
   "execution_count": 29,
   "id": "f690cc33",
   "metadata": {},
   "outputs": [
    {
     "data": {
      "text/plain": [
       "3.3333333333333335"
      ]
     },
     "execution_count": 29,
     "metadata": {},
     "output_type": "execute_result"
    }
   ],
   "source": [
    "'''\n",
    "Based on a recent survey, it was found that there were 30% negative responses, and 70% positive. \n",
    "Estimate the number of feedbacks to expect before negative feedback appears when we pick one response after another randomly.\n",
    "'''\n",
    "# E(X)= np\n",
    "# E(X) = expected value\n",
    "# n = num of trials\n",
    "# p = probability of success\n",
    "# E(X) = n / p\n",
    "\n",
    "1 / 0.3\n",
    "\n",
    "# Need more clarity"
   ]
  },
  {
   "cell_type": "code",
   "execution_count": 145,
   "id": "3d69f36a",
   "metadata": {},
   "outputs": [
    {
     "data": {
      "text/plain": [
       "count    360.000000\n",
       "mean      43.241667\n",
       "std       42.182452\n",
       "min        0.000000\n",
       "25%        8.000000\n",
       "50%       30.000000\n",
       "75%       67.000000\n",
       "max      200.000000\n",
       "Name: runs, dtype: float64"
      ]
     },
     "execution_count": 145,
     "metadata": {},
     "output_type": "execute_result"
    }
   ],
   "source": [
    "sachin[\"runs\"].describe()"
   ]
  },
  {
   "cell_type": "code",
   "execution_count": 146,
   "id": "c42f365f",
   "metadata": {},
   "outputs": [
    {
     "data": {
      "text/plain": [
       "<AxesSubplot:xlabel='runs', ylabel='Count'>"
      ]
     },
     "execution_count": 146,
     "metadata": {},
     "output_type": "execute_result"
    },
    {
     "data": {
      "image/png": "[encoded data removed]",
      "text/plain": [
       "<Figure size 432x288 with 1 Axes>"
      ]
     },
     "metadata": {
      "needs_background": "light"
     },
     "output_type": "display_data"
    }
   ],
   "source": [
    "import seaborn as sns\n",
    "sns.histplot(data = sachin, x = \"runs\")"
   ]
  },
  {
   "cell_type": "code",
   "execution_count": 44,
   "id": "345bd6b2",
   "metadata": {},
   "outputs": [
    {
     "data": {
      "text/plain": [
       "0.10254"
      ]
     },
     "execution_count": 44,
     "metadata": {},
     "output_type": "execute_result"
    }
   ],
   "source": [
    "from scipy.stats import binom\n",
    "\n",
    "round(binom.pmf(n = 40, k = 20, p = 0.45), 5)"
   ]
  },
  {
   "cell_type": "code",
   "execution_count": 45,
   "id": "85a75f59",
   "metadata": {},
   "outputs": [
    {
     "data": {
      "text/plain": [
       "0.28346868942621073"
      ]
     },
     "execution_count": 45,
     "metadata": {},
     "output_type": "execute_result"
    }
   ],
   "source": [
    "from scipy.stats import expon\n",
    "\n",
    "expon.cdf(x = 4, scale = 12)"
   ]
  },
  {
   "cell_type": "code",
   "execution_count": null,
   "id": "c34fbb29",
   "metadata": {},
   "outputs": [],
   "source": [
    "data = pd.read_csv(\"C:\\Users\\Mrudul\\Scaler\\Aerofit Treadmill Business Case\\aerofit\")"
   ]
  },
  {
   "cell_type": "code",
   "execution_count": 74,
   "id": "d8672406",
   "metadata": {},
   "outputs": [
    {
     "data": {
      "text/plain": [
       "0.024997895148220484"
      ]
     },
     "execution_count": 74,
     "metadata": {},
     "output_type": "execute_result"
    }
   ],
   "source": [
    "1 - norm.cdf(1.96)"
   ]
  },
  {
   "cell_type": "code",
   "execution_count": 109,
   "id": "43587b36",
   "metadata": {},
   "outputs": [
    {
     "name": "stdout",
     "output_type": "stream",
     "text": [
      "[1, 4, 9, 16, 25]\n"
     ]
    }
   ],
   "source": [
    "dictionary = {'a': 1, 'b': 2, 'c': 3, 'd': 4, 'e' : 5}\n",
    "print(list(map(lambda x : x * x, dictionary.values())))"
   ]
  },
  {
   "cell_type": "code",
   "execution_count": 110,
   "id": "dcf7032f",
   "metadata": {},
   "outputs": [
    {
     "name": "stdout",
     "output_type": "stream",
     "text": [
      "a a a a a a "
     ]
    }
   ],
   "source": [
    "x = \"abcdef\"\n",
    "i = \"a\"\n",
    "while i in x:\n",
    "    x = x[:-1]\n",
    "    print(i, end = \" \")"
   ]
  },
  {
   "cell_type": "code",
   "execution_count": 111,
   "id": "965305a6",
   "metadata": {},
   "outputs": [
    {
     "data": {
      "text/plain": [
       "9.799999999999997"
      ]
     },
     "execution_count": 111,
     "metadata": {},
     "output_type": "execute_result"
    }
   ],
   "source": [
    "wt_before=[85, 74, 63.5, 69.4, 71.6, 65,90,78]\n",
    "wt_after=[82, 71, 64, 65.2, 67.8, 64.7,95,77]\n",
    "\n",
    "tot = 0\n",
    "for i in range(len(wt_before)):\n",
    "    tot += wt_before[i] - wt_after[i]\n",
    "    \n",
    "tot"
   ]
  },
  {
   "cell_type": "markdown",
   "id": "b271bc4f",
   "metadata": {},
   "source": [
    "<center><b>--------------- Important Links are posted above ----------------<b></center>"
   ]
  },
  {
   "cell_type": "markdown",
   "id": "ef2659c0",
   "metadata": {},
   "source": [
    "<h3><u> Module Test </u></h3>"
   ]
  },
  {
   "cell_type": "code",
   "execution_count": 39,
   "id": "2efc6387",
   "metadata": {},
   "outputs": [
    {
     "name": "stdout",
     "output_type": "stream",
     "text": [
      "T-Score: -2.5849\n",
      "P-Value: 0.0091\n",
      "Null Hyp rejected\n"
     ]
    }
   ],
   "source": [
    "IQ_before=[101, 124, 89, 57, 135, 98, 69, 105, 114, 106, 97, 121, 93, 116, 102, 71, 88, 108, 144, 99]\n",
    "IQ_after=[113, 127, 89, 70, 127, 104, 69, 127, 115, 99, 104, 120, 95, 129, 106, 71, 94, 112, 154, 96]\n",
    "alpha = 0.1\n",
    "\n",
    "t_stat, p_val = ttest_rel(IQ_before, IQ_after, alternative = \"less\")\n",
    "\n",
    "print(\"T-Score:\", round(t_stat, 4))\n",
    "print(\"P-Value:\", round(p_val, 4))\n",
    "\n",
    "if (p_val < alpha):\n",
    "    print(\"Null Hyp rejected\")\n",
    "else:\n",
    "    print(\"Fail to reject Null\")"
   ]
  },
  {
   "cell_type": "markdown",
   "id": "a28f8541",
   "metadata": {},
   "source": [
    "Null hyp => **u <= 5**\n",
    "<br> Alt Hyp => **u > 5**"
   ]
  },
  {
   "cell_type": "code",
   "execution_count": 45,
   "id": "1dd6be78",
   "metadata": {},
   "outputs": [
    {
     "name": "stdout",
     "output_type": "stream",
     "text": [
      "z-score: -0.7231\n",
      "p-value: 0.7652\n",
      "Null Hyp cannot be rejected\n"
     ]
    }
   ],
   "source": [
    "alpha = 0.05\n",
    "mu_pop = 5\n",
    "mu_sample = 4.78\n",
    "n_sample = 35\n",
    "std_dev = 1.8\n",
    "\n",
    "z = (mu_sample - mu_pop) / (std_dev/math.sqrt(n_sample))\n",
    "p = 1 - norm.cdf(z)\n",
    "\n",
    "print(\"z-score:\", round(z, 4))\n",
    "print(\"p-value:\", round(p, 4))\n",
    "\n",
    "if (p < alpha):\n",
    "    print(\"Null Hyp rejected\")\n",
    "else:\n",
    "    print(\"Null Hyp cannot be rejected\")"
   ]
  },
  {
   "cell_type": "code",
   "execution_count": 47,
   "id": "a05a401a",
   "metadata": {},
   "outputs": [
    {
     "data": {
      "text/plain": [
       "0.5477584260205839"
      ]
     },
     "execution_count": 47,
     "metadata": {},
     "output_type": "execute_result"
    }
   ],
   "source": [
    "1 - norm.cdf(-0.12)"
   ]
  },
  {
   "cell_type": "code",
   "execution_count": null,
   "id": "28af43ce",
   "metadata": {},
   "outputs": [],
   "source": [
    "alpha = 0.05\n",
    "mu_pop = 1.7\n",
    "mu_sample = 1.85\n",
    "n_sample = 60\n",
    "std_dev = 0.5\n",
    "\n",
    "z = (mu_sample - mu_pop) / (std_dev/math.sqrt(n_sample))\n",
    "p = norm.cdf(z)\n",
    "\n",
    "print(\"z-score:\", round(z, 4))\n",
    "print(\"p-value:\", round(p, 4))\n",
    "\n",
    "if (p < alpha):\n",
    "    print(\"Null Hyp rejected\")\n",
    "else:\n",
    "    print(\"Null Hyp cannot be rejected\")"
   ]
  },
  {
   "cell_type": "code",
   "execution_count": 31,
   "id": "eb6165a2",
   "metadata": {},
   "outputs": [
    {
     "name": "stdout",
     "output_type": "stream",
     "text": [
      "z-score: 2.3238\n",
      "p-value: 0.9899\n",
      "Null Hyp cannot be rejected\n"
     ]
    }
   ],
   "source": [
    "alpha = 0.05\n",
    "mu_pop = 1.7\n",
    "mu_sample = 1.85\n",
    "n_sample = 60\n",
    "std_dev = 0.5\n",
    "\n",
    "z = (mu_sample - mu_pop) / (std_dev/math.sqrt(n_sample))\n",
    "p = norm.cdf(z)\n",
    "\n",
    "print(\"z-score:\", round(z, 4))\n",
    "print(\"p-value:\", round(p, 4))\n",
    "\n",
    "if (p < alpha):\n",
    "    print(\"Null Hyp rejected\")\n",
    "else:\n",
    "    print(\"Null Hyp cannot be rejected\")"
   ]
  },
  {
   "cell_type": "code",
   "execution_count": 29,
   "id": "8ca50a17",
   "metadata": {},
   "outputs": [
    {
     "data": {
      "text/plain": [
       "0.13346380416623393"
      ]
     },
     "execution_count": 29,
     "metadata": {},
     "output_type": "execute_result"
    }
   ],
   "source": [
    "val = 180.23/8.159\n",
    "1 - f.cdf(22.089, 1, 1)"
   ]
  },
  {
   "cell_type": "code",
   "execution_count": 59,
   "id": "469e704a",
   "metadata": {},
   "outputs": [
    {
     "data": {
      "text/plain": [
       "3.0"
      ]
     },
     "execution_count": 59,
     "metadata": {},
     "output_type": "execute_result"
    }
   ],
   "source": [
    "binom.ppf(0.05, 12, 0.5)"
   ]
  },
  {
   "cell_type": "code",
   "execution_count": 57,
   "id": "5fd41ed8",
   "metadata": {},
   "outputs": [
    {
     "data": {
      "text/plain": [
       "0.072998046875"
      ]
     },
     "execution_count": 57,
     "metadata": {},
     "output_type": "execute_result"
    }
   ],
   "source": [
    "binom.cdf(n = 12, k = 3, p = 0.5)"
   ]
  },
  {
   "cell_type": "code",
   "execution_count": 34,
   "id": "45f47ad1",
   "metadata": {},
   "outputs": [
    {
     "name": "stdout",
     "output_type": "stream",
     "text": [
      "z-score: 2.1429\n",
      "p-value: 0.0212\n",
      "Null Hyp cannot be rejected\n"
     ]
    }
   ],
   "source": [
    "alpha = 0.01\n",
    "mu_pop = 20\n",
    "mu_sample = 23\n",
    "n_sample = 25\n",
    "std_dev = 7\n",
    "\n",
    "z = (mu_sample - mu_pop) / (std_dev/math.sqrt(n_sample))\n",
    "p = 1 - t.cdf(z, n_sample - 1)\n",
    "\n",
    "print(\"z-score:\", round(z, 4))\n",
    "print(\"p-value:\", round(p, 4))\n",
    "\n",
    "if (p < alpha):\n",
    "    print(\"Null Hyp rejected\")\n",
    "else:\n",
    "    print(\"Null Hyp cannot be rejected\")"
   ]
  },
  {
   "cell_type": "code",
   "execution_count": 35,
   "id": "8c72dd28",
   "metadata": {},
   "outputs": [
    {
     "data": {
      "text/plain": [
       "11.691542288557212"
      ]
     },
     "execution_count": 35,
     "metadata": {},
     "output_type": "execute_result"
    }
   ],
   "source": [
    "23.5/(3*0.67)"
   ]
  },
  {
   "cell_type": "code",
   "execution_count": 36,
   "id": "47fc07d2",
   "metadata": {},
   "outputs": [
    {
     "data": {
      "text/plain": [
       "136.6921610851216"
      ]
     },
     "execution_count": 36,
     "metadata": {},
     "output_type": "execute_result"
    }
   ],
   "source": [
    "11.691542288557212 ** 2"
   ]
  },
  {
   "cell_type": "code",
   "execution_count": 6,
   "id": "a76435f1",
   "metadata": {},
   "outputs": [
    {
     "ename": "TypeError",
     "evalue": "ppf() missing 1 required positional argument: 'q'",
     "output_type": "error",
     "traceback": [
      "\u001b[1;31m---------------------------------------------------------------------------\u001b[0m",
      "\u001b[1;31mTypeError\u001b[0m                                 Traceback (most recent call last)",
      "Input \u001b[1;32mIn [6]\u001b[0m, in \u001b[0;36m<cell line: 2>\u001b[1;34m()\u001b[0m\n\u001b[0;32m      1\u001b[0m p \u001b[38;5;241m=\u001b[39m \u001b[38;5;241m0.4096\u001b[39m\n\u001b[1;32m----> 2\u001b[0m \u001b[43mbinom\u001b[49m\u001b[38;5;241;43m.\u001b[39;49m\u001b[43mppf\u001b[49m\u001b[43m(\u001b[49m\u001b[43mn\u001b[49m\u001b[43m \u001b[49m\u001b[38;5;241;43m=\u001b[39;49m\u001b[43m \u001b[49m\u001b[38;5;241;43m5\u001b[39;49m\u001b[43m,\u001b[49m\u001b[43m \u001b[49m\u001b[43mp\u001b[49m\u001b[43m \u001b[49m\u001b[38;5;241;43m=\u001b[39;49m\u001b[43m \u001b[49m\u001b[38;5;241;43m0.4096\u001b[39;49m\u001b[43m,\u001b[49m\u001b[43m \u001b[49m\u001b[43mk\u001b[49m\u001b[43m \u001b[49m\u001b[38;5;241;43m=\u001b[39;49m\u001b[43m \u001b[49m\u001b[38;5;241;43m2\u001b[39;49m\u001b[43m)\u001b[49m\n",
      "\u001b[1;31mTypeError\u001b[0m: ppf() missing 1 required positional argument: 'q'"
     ]
    }
   ],
   "source": [
    "p = 0.4096\n",
    "binom.ppf(n = 5, p = 0.4096, k = 2)"
   ]
  },
  {
   "cell_type": "code",
   "execution_count": 7,
   "id": "628c0ab6",
   "metadata": {},
   "outputs": [
    {
     "data": {
      "text/plain": [
       "0.67942767016171"
      ]
     },
     "execution_count": 7,
     "metadata": {},
     "output_type": "execute_result"
    }
   ],
   "source": [
    "binom.sf(k = 1, n = 5, p = 0.4096)"
   ]
  },
  {
   "cell_type": "code",
   "execution_count": 8,
   "id": "258deba6",
   "metadata": {},
   "outputs": [
    {
     "data": {
      "text/plain": [
       "0.001027822583808"
      ]
     },
     "execution_count": 8,
     "metadata": {},
     "output_type": "execute_result"
    }
   ],
   "source": [
    "binom.sf(k = 2, n = 5, p = 0.048)"
   ]
  },
  {
   "cell_type": "code",
   "execution_count": 9,
   "id": "649efcfc",
   "metadata": {},
   "outputs": [
    {
     "data": {
      "text/plain": [
       "0.6321205588285577"
      ]
     },
     "execution_count": 9,
     "metadata": {},
     "output_type": "execute_result"
    }
   ],
   "source": [
    "1 - poisson.pmf(k = 0, mu = 1)"
   ]
  },
  {
   "cell_type": "code",
   "execution_count": 10,
   "id": "f2f9cef6",
   "metadata": {},
   "outputs": [
    {
     "data": {
      "text/plain": [
       "415.0"
      ]
     },
     "execution_count": 10,
     "metadata": {},
     "output_type": "execute_result"
    }
   ],
   "source": [
    "83/0.2"
   ]
  },
  {
   "cell_type": "code",
   "execution_count": null,
   "id": "c3fe9a18",
   "metadata": {},
   "outputs": [],
   "source": []
  }
 ],
 "metadata": {
  "kernelspec": {
   "display_name": "Python 3 (ipykernel)",
   "language": "python",
   "name": "python3"
  },
  "language_info": {
   "codemirror_mode": {
    "name": "ipython",
    "version": 3
   },
   "file_extension": ".py",
   "mimetype": "text/x-python",
   "name": "python",
   "nbconvert_exporter": "python",
   "pygments_lexer": "ipython3",
   "version": "3.9.12"
  }
 },
 "nbformat": 4,
 "nbformat_minor": 5
}
