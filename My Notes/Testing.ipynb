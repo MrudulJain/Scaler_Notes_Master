{
 "cells": [
  {
   "cell_type": "code",
   "execution_count": 2,
   "id": "25074746",
   "metadata": {},
   "outputs": [],
   "source": [
    "import pandas as pd\n",
    "import numpy as np\n",
    "import matplotlib.pyplot as plt\n",
    "import seaborn as sns\n",
    "import math"
   ]
  },
  {
   "cell_type": "code",
   "execution_count": 44,
   "id": "8b6f3af3",
   "metadata": {},
   "outputs": [
    {
     "data": {
      "text/html": [
       "<div>\n",
       "<style scoped>\n",
       "    .dataframe tbody tr th:only-of-type {\n",
       "        vertical-align: middle;\n",
       "    }\n",
       "\n",
       "    .dataframe tbody tr th {\n",
       "        vertical-align: top;\n",
       "    }\n",
       "\n",
       "    .dataframe thead th {\n",
       "        text-align: right;\n",
       "    }\n",
       "</style>\n",
       "<table border=\"1\" class=\"dataframe\">\n",
       "  <thead>\n",
       "    <tr style=\"text-align: right;\">\n",
       "      <th></th>\n",
       "      <th>Invoice</th>\n",
       "      <th>StockCode</th>\n",
       "      <th>Description</th>\n",
       "      <th>Quantity</th>\n",
       "      <th>InvoiceDate</th>\n",
       "      <th>Price</th>\n",
       "      <th>Customer ID</th>\n",
       "      <th>Country</th>\n",
       "    </tr>\n",
       "  </thead>\n",
       "  <tbody>\n",
       "    <tr>\n",
       "      <th>0</th>\n",
       "      <td>489434</td>\n",
       "      <td>85048</td>\n",
       "      <td>15CM CHRISTMAS GLASS BALL 20 LIGHTS</td>\n",
       "      <td>12</td>\n",
       "      <td>2009-12-01 07:45:00</td>\n",
       "      <td>6.95</td>\n",
       "      <td>13085.0</td>\n",
       "      <td>United Kingdom</td>\n",
       "    </tr>\n",
       "    <tr>\n",
       "      <th>1</th>\n",
       "      <td>489434</td>\n",
       "      <td>79323P</td>\n",
       "      <td>PINK CHERRY LIGHTS</td>\n",
       "      <td>12</td>\n",
       "      <td>2009-12-01 07:45:00</td>\n",
       "      <td>6.75</td>\n",
       "      <td>13085.0</td>\n",
       "      <td>United Kingdom</td>\n",
       "    </tr>\n",
       "    <tr>\n",
       "      <th>2</th>\n",
       "      <td>489434</td>\n",
       "      <td>79323W</td>\n",
       "      <td>WHITE CHERRY LIGHTS</td>\n",
       "      <td>12</td>\n",
       "      <td>2009-12-01 07:45:00</td>\n",
       "      <td>6.75</td>\n",
       "      <td>13085.0</td>\n",
       "      <td>United Kingdom</td>\n",
       "    </tr>\n",
       "    <tr>\n",
       "      <th>3</th>\n",
       "      <td>489434</td>\n",
       "      <td>22041</td>\n",
       "      <td>RECORD FRAME 7\" SINGLE SIZE</td>\n",
       "      <td>48</td>\n",
       "      <td>2009-12-01 07:45:00</td>\n",
       "      <td>2.10</td>\n",
       "      <td>13085.0</td>\n",
       "      <td>United Kingdom</td>\n",
       "    </tr>\n",
       "    <tr>\n",
       "      <th>4</th>\n",
       "      <td>489434</td>\n",
       "      <td>21232</td>\n",
       "      <td>STRAWBERRY CERAMIC TRINKET BOX</td>\n",
       "      <td>24</td>\n",
       "      <td>2009-12-01 07:45:00</td>\n",
       "      <td>1.25</td>\n",
       "      <td>13085.0</td>\n",
       "      <td>United Kingdom</td>\n",
       "    </tr>\n",
       "  </tbody>\n",
       "</table>\n",
       "</div>"
      ],
      "text/plain": [
       "  Invoice StockCode                          Description  Quantity  \\\n",
       "0  489434     85048  15CM CHRISTMAS GLASS BALL 20 LIGHTS        12   \n",
       "1  489434    79323P                   PINK CHERRY LIGHTS        12   \n",
       "2  489434    79323W                  WHITE CHERRY LIGHTS        12   \n",
       "3  489434     22041         RECORD FRAME 7\" SINGLE SIZE         48   \n",
       "4  489434     21232       STRAWBERRY CERAMIC TRINKET BOX        24   \n",
       "\n",
       "           InvoiceDate  Price  Customer ID         Country  \n",
       "0  2009-12-01 07:45:00   6.95      13085.0  United Kingdom  \n",
       "1  2009-12-01 07:45:00   6.75      13085.0  United Kingdom  \n",
       "2  2009-12-01 07:45:00   6.75      13085.0  United Kingdom  \n",
       "3  2009-12-01 07:45:00   2.10      13085.0  United Kingdom  \n",
       "4  2009-12-01 07:45:00   1.25      13085.0  United Kingdom  "
      ]
     },
     "execution_count": 44,
     "metadata": {},
     "output_type": "execute_result"
    }
   ],
   "source": [
    "sales_data = pd.read_csv(\"sales_dataset.csv\")\n",
    "sales_data.head()"
   ]
  },
  {
   "cell_type": "code",
   "execution_count": 93,
   "id": "40ec2990",
   "metadata": {},
   "outputs": [],
   "source": [
    "sales_data[\"InvoiceDate\"] = pd.to_datetime(sales_data[\"InvoiceDate\"])"
   ]
  },
  {
   "cell_type": "code",
   "execution_count": 18,
   "id": "f4c4276b",
   "metadata": {},
   "outputs": [
    {
     "data": {
      "text/plain": [
       "5303"
      ]
     },
     "execution_count": 18,
     "metadata": {},
     "output_type": "execute_result"
    }
   ],
   "source": [
    "sales_data[\"StockCode\"][sales_data[\"Country\"] == \"United Kingdom\"].nunique()"
   ]
  },
  {
   "cell_type": "code",
   "execution_count": 22,
   "id": "4fd55e30",
   "metadata": {},
   "outputs": [
    {
     "data": {
      "text/html": [
       "<div>\n",
       "<style scoped>\n",
       "    .dataframe tbody tr th:only-of-type {\n",
       "        vertical-align: middle;\n",
       "    }\n",
       "\n",
       "    .dataframe tbody tr th {\n",
       "        vertical-align: top;\n",
       "    }\n",
       "\n",
       "    .dataframe thead th {\n",
       "        text-align: right;\n",
       "    }\n",
       "</style>\n",
       "<table border=\"1\" class=\"dataframe\">\n",
       "  <thead>\n",
       "    <tr style=\"text-align: right;\">\n",
       "      <th></th>\n",
       "      <th></th>\n",
       "      <th>Price</th>\n",
       "    </tr>\n",
       "    <tr>\n",
       "      <th>Customer ID</th>\n",
       "      <th>Invoice</th>\n",
       "      <th></th>\n",
       "    </tr>\n",
       "  </thead>\n",
       "  <tbody>\n",
       "    <tr>\n",
       "      <th>15098.0</th>\n",
       "      <th>C556445</th>\n",
       "      <td>38970.0</td>\n",
       "    </tr>\n",
       "  </tbody>\n",
       "</table>\n",
       "</div>"
      ],
      "text/plain": [
       "                       Price\n",
       "Customer ID Invoice         \n",
       "15098.0     C556445  38970.0"
      ]
     },
     "execution_count": 22,
     "metadata": {},
     "output_type": "execute_result"
    }
   ],
   "source": [
    "grouped = sales_data.groupby([\"Customer ID\", \"Invoice\"])[\"Price\"].agg(Price = \"sum\")\n",
    "grouped.loc[grouped[\"Price\"] == grouped[\"Price\"].max()]"
   ]
  },
  {
   "cell_type": "code",
   "execution_count": 32,
   "id": "4a401dd1",
   "metadata": {
    "collapsed": true
   },
   "outputs": [
    {
     "data": {
      "text/plain": [
       "1309       WORLD WAR 2 GLIDERS ASSTD DESIGNS\n",
       "3548       WORLD WAR 2 GLIDERS ASSTD DESIGNS\n",
       "4192       WORLD WAR 2 GLIDERS ASSTD DESIGNS\n",
       "4531       WORLD WAR 2 GLIDERS ASSTD DESIGNS\n",
       "4543       WORLD WAR 2 GLIDERS ASSTD DESIGNS\n",
       "                         ...                \n",
       "1060258    WORLD WAR 2 GLIDERS ASSTD DESIGNS\n",
       "1063701    WORLD WAR 2 GLIDERS ASSTD DESIGNS\n",
       "1064307    WORLD WAR 2 GLIDERS ASSTD DESIGNS\n",
       "1065828    WORLD WAR 2 GLIDERS ASSTD DESIGNS\n",
       "1066009    WORLD WAR 2 GLIDERS ASSTD DESIGNS\n",
       "Name: Description, Length: 1056, dtype: object"
      ]
     },
     "execution_count": 32,
     "metadata": {},
     "output_type": "execute_result"
    }
   ],
   "source": [
    "# most selling item\n",
    "grouped_2 = sales_data.groupby([\"StockCode\"])[\"Quantity\"].agg([np.sum])\n",
    "grouped_2.sort_values(\"sum\", ascending=False, inplace=True)\n",
    "grouped_2.reset_index(inplace=True)\n",
    "sales_data[\"Description\"][sales_data[\"StockCode\"] == grouped_2[\"StockCode\"][0]]"
   ]
  },
  {
   "cell_type": "code",
   "execution_count": 100,
   "id": "5670f7cd",
   "metadata": {},
   "outputs": [
    {
     "name": "stderr",
     "output_type": "stream",
     "text": [
      "C:\\Users\\Mrudul\\AppData\\Local\\Temp\\ipykernel_3848\\135229898.py:3: SettingWithCopyWarning: \n",
      "A value is trying to be set on a copy of a slice from a DataFrame.\n",
      "Try using .loc[row_indexer,col_indexer] = value instead\n",
      "\n",
      "See the caveats in the documentation: https://pandas.pydata.org/pandas-docs/stable/user_guide/indexing.html#returning-a-view-versus-a-copy\n",
      "  france_sales_data[\"Total_Price\"] = france_sales_data[\"Quantity\"] * france_sales_data[\"Price\"]\n"
     ]
    },
    {
     "data": {
      "text/plain": [
       "InvoiceDate\n",
       "2010-08-09 13:10:00    11880.84\n",
       "2011-10-28 07:39:00     8895.76\n",
       "2010-05-06 11:50:00     6564.37\n",
       "2011-10-11 14:52:00     4279.71\n",
       "2010-10-11 10:56:00     4215.74\n",
       "                         ...   \n",
       "2010-10-14 11:52:00     -504.49\n",
       "2010-09-02 09:31:00    -1055.75\n",
       "2011-04-05 09:46:00    -1136.30\n",
       "2011-10-27 14:15:00    -8322.12\n",
       "2010-09-28 11:02:00   -11880.84\n",
       "Name: Total_Price, Length: 745, dtype: float64"
      ]
     },
     "execution_count": 100,
     "metadata": {},
     "output_type": "execute_result"
    }
   ],
   "source": [
    "#Which date has the highest sales(total price) in France?\n",
    "france_sales_data = sales_data.loc[sales_data[\"Country\"] == \"France\"]\n",
    "france_sales_data[\"Total_Price\"] = france_sales_data[\"Quantity\"] * france_sales_data[\"Price\"]\n",
    "france_sales_data.groupby(\"InvoiceDate\")[\"Total_Price\"].sum().sort_values(ascending=False)"
   ]
  },
  {
   "cell_type": "code",
   "execution_count": 92,
   "id": "05204f0f",
   "metadata": {},
   "outputs": [
    {
     "ename": "AttributeError",
     "evalue": "'Series' object has no attribute 'date'",
     "output_type": "error",
     "traceback": [
      "\u001b[1;31m---------------------------------------------------------------------------\u001b[0m",
      "\u001b[1;31mAttributeError\u001b[0m                            Traceback (most recent call last)",
      "Input \u001b[1;32mIn [92]\u001b[0m, in \u001b[0;36m<cell line: 3>\u001b[1;34m()\u001b[0m\n\u001b[0;32m      1\u001b[0m \u001b[38;5;66;03m# The number of unique customers who made a purchase on 22 June 2011\u001b[39;00m\n\u001b[0;32m      2\u001b[0m sales_data[\u001b[38;5;124m\"\u001b[39m\u001b[38;5;124mInvoiceDate\u001b[39m\u001b[38;5;124m\"\u001b[39m] \u001b[38;5;241m=\u001b[39m pd\u001b[38;5;241m.\u001b[39mto_datetime(sales_data[\u001b[38;5;124m\"\u001b[39m\u001b[38;5;124mInvoiceDate\u001b[39m\u001b[38;5;124m\"\u001b[39m])\n\u001b[1;32m----> 3\u001b[0m sales_data[\u001b[38;5;124m\"\u001b[39m\u001b[38;5;124mCustomer ID\u001b[39m\u001b[38;5;124m\"\u001b[39m][\u001b[43msales_data\u001b[49m\u001b[43m[\u001b[49m\u001b[38;5;124;43m\"\u001b[39;49m\u001b[38;5;124;43mInvoiceDate\u001b[39;49m\u001b[38;5;124;43m\"\u001b[39;49m\u001b[43m]\u001b[49m\u001b[38;5;241;43m.\u001b[39;49m\u001b[43mdate\u001b[49m() \u001b[38;5;241m==\u001b[39m \u001b[38;5;124m\"\u001b[39m\u001b[38;5;124m2011-06-22\u001b[39m\u001b[38;5;124m\"\u001b[39m]\u001b[38;5;241m.\u001b[39mnunique()\n",
      "File \u001b[1;32m~\\anaconda3\\lib\\site-packages\\pandas\\core\\generic.py:5575\u001b[0m, in \u001b[0;36mNDFrame.__getattr__\u001b[1;34m(self, name)\u001b[0m\n\u001b[0;32m   5568\u001b[0m \u001b[38;5;28;01mif\u001b[39;00m (\n\u001b[0;32m   5569\u001b[0m     name \u001b[38;5;129;01mnot\u001b[39;00m \u001b[38;5;129;01min\u001b[39;00m \u001b[38;5;28mself\u001b[39m\u001b[38;5;241m.\u001b[39m_internal_names_set\n\u001b[0;32m   5570\u001b[0m     \u001b[38;5;129;01mand\u001b[39;00m name \u001b[38;5;129;01mnot\u001b[39;00m \u001b[38;5;129;01min\u001b[39;00m \u001b[38;5;28mself\u001b[39m\u001b[38;5;241m.\u001b[39m_metadata\n\u001b[0;32m   5571\u001b[0m     \u001b[38;5;129;01mand\u001b[39;00m name \u001b[38;5;129;01mnot\u001b[39;00m \u001b[38;5;129;01min\u001b[39;00m \u001b[38;5;28mself\u001b[39m\u001b[38;5;241m.\u001b[39m_accessors\n\u001b[0;32m   5572\u001b[0m     \u001b[38;5;129;01mand\u001b[39;00m \u001b[38;5;28mself\u001b[39m\u001b[38;5;241m.\u001b[39m_info_axis\u001b[38;5;241m.\u001b[39m_can_hold_identifiers_and_holds_name(name)\n\u001b[0;32m   5573\u001b[0m ):\n\u001b[0;32m   5574\u001b[0m     \u001b[38;5;28;01mreturn\u001b[39;00m \u001b[38;5;28mself\u001b[39m[name]\n\u001b[1;32m-> 5575\u001b[0m \u001b[38;5;28;01mreturn\u001b[39;00m \u001b[38;5;28;43mobject\u001b[39;49m\u001b[38;5;241;43m.\u001b[39;49m\u001b[38;5;21;43m__getattribute__\u001b[39;49m\u001b[43m(\u001b[49m\u001b[38;5;28;43mself\u001b[39;49m\u001b[43m,\u001b[49m\u001b[43m \u001b[49m\u001b[43mname\u001b[49m\u001b[43m)\u001b[49m\n",
      "\u001b[1;31mAttributeError\u001b[0m: 'Series' object has no attribute 'date'"
     ]
    }
   ],
   "source": [
    "# The number of unique customers who made a purchase on 22 June 2011\n",
    "sales_data[\"InvoiceDate\"] = pd.to_datetime(sales_data[\"InvoiceDate\"])\n",
    "sales_data[\"Customer ID\"][sales_data[\"InvoiceDate\"].date() == \"2011-06-22\"].nunique()"
   ]
  },
  {
   "cell_type": "code",
   "execution_count": 90,
   "id": "0a067960",
   "metadata": {},
   "outputs": [
    {
     "name": "stdout",
     "output_type": "stream",
     "text": [
      "False\n",
      "True\n",
      "True\n",
      "True\n",
      "True\n"
     ]
    }
   ],
   "source": [
    "d1 = \"2009-12-01 07:45:00\"\n",
    "d2 = \"2009-12-01 08:20\"\n",
    "d1 = pd.to_datetime(d1)\n",
    "d2 = pd.to_datetime(d2)\n",
    "print(d1 == d2)\n",
    "print(d1.year == d2.year)\n",
    "print(d1.month == d2.month)\n",
    "print(d1.day == d2.day)\n",
    "print(d1.date() == d2.date())"
   ]
  },
  {
   "cell_type": "code",
   "execution_count": 9,
   "id": "7903dd5a",
   "metadata": {},
   "outputs": [
    {
     "data": {
      "text/html": [
       "<div>\n",
       "<style scoped>\n",
       "    .dataframe tbody tr th:only-of-type {\n",
       "        vertical-align: middle;\n",
       "    }\n",
       "\n",
       "    .dataframe tbody tr th {\n",
       "        vertical-align: top;\n",
       "    }\n",
       "\n",
       "    .dataframe thead th {\n",
       "        text-align: right;\n",
       "    }\n",
       "</style>\n",
       "<table border=\"1\" class=\"dataframe\">\n",
       "  <thead>\n",
       "    <tr style=\"text-align: right;\">\n",
       "      <th></th>\n",
       "      <th>distance</th>\n",
       "      <th>runner</th>\n",
       "    </tr>\n",
       "  </thead>\n",
       "  <tbody>\n",
       "    <tr>\n",
       "      <th>0</th>\n",
       "      <td>96</td>\n",
       "      <td>runner1</td>\n",
       "    </tr>\n",
       "    <tr>\n",
       "      <th>1</th>\n",
       "      <td>101</td>\n",
       "      <td>runner2</td>\n",
       "    </tr>\n",
       "    <tr>\n",
       "      <th>2</th>\n",
       "      <td>89</td>\n",
       "      <td>runner3</td>\n",
       "    </tr>\n",
       "    <tr>\n",
       "      <th>3</th>\n",
       "      <td>109</td>\n",
       "      <td>runner4</td>\n",
       "    </tr>\n",
       "    <tr>\n",
       "      <th>4</th>\n",
       "      <td>83</td>\n",
       "      <td>runner1</td>\n",
       "    </tr>\n",
       "    <tr>\n",
       "      <th>5</th>\n",
       "      <td>101</td>\n",
       "      <td>runner2</td>\n",
       "    </tr>\n",
       "    <tr>\n",
       "      <th>6</th>\n",
       "      <td>89</td>\n",
       "      <td>runner3</td>\n",
       "    </tr>\n",
       "    <tr>\n",
       "      <th>7</th>\n",
       "      <td>93</td>\n",
       "      <td>runner4</td>\n",
       "    </tr>\n",
       "    <tr>\n",
       "      <th>8</th>\n",
       "      <td>108</td>\n",
       "      <td>runner1</td>\n",
       "    </tr>\n",
       "    <tr>\n",
       "      <th>9</th>\n",
       "      <td>99</td>\n",
       "      <td>runner2</td>\n",
       "    </tr>\n",
       "    <tr>\n",
       "      <th>10</th>\n",
       "      <td>89</td>\n",
       "      <td>runner3</td>\n",
       "    </tr>\n",
       "    <tr>\n",
       "      <th>11</th>\n",
       "      <td>93</td>\n",
       "      <td>runner4</td>\n",
       "    </tr>\n",
       "  </tbody>\n",
       "</table>\n",
       "</div>"
      ],
      "text/plain": [
       "    distance   runner\n",
       "0         96  runner1\n",
       "1        101  runner2\n",
       "2         89  runner3\n",
       "3        109  runner4\n",
       "4         83  runner1\n",
       "5        101  runner2\n",
       "6         89  runner3\n",
       "7         93  runner4\n",
       "8        108  runner1\n",
       "9         99  runner2\n",
       "10        89  runner3\n",
       "11        93  runner4"
      ]
     },
     "execution_count": 9,
     "metadata": {},
     "output_type": "execute_result"
    }
   ],
   "source": [
    "data = {'distance': {0: 96,   1: 101,   2: 89,   3: 109,   4: 83,   5: 101,   6: 89,   7: 93,   8: 108,   9: 99,   10: 89,   11: 93},  \n",
    "        'runner': {0: 'runner1',   1: 'runner2',   2: 'runner3',   3: 'runner4',   4: 'runner1',   5: 'runner2',   6: 'runner3',   7: 'runner4',   8: 'runner1',   9: 'runner2',   10: 'runner3',   11: 'runner4'}}\n",
    "df = pd.DataFrame(data)\n",
    "df"
   ]
  },
  {
   "cell_type": "code",
   "execution_count": 71,
   "id": "8d3f6b39",
   "metadata": {},
   "outputs": [
    {
     "data": {
      "text/plain": [
       "runner1    2\n",
       "runner2    2\n",
       "runner4    1\n",
       "Name: runner, dtype: int64"
      ]
     },
     "execution_count": 71,
     "metadata": {},
     "output_type": "execute_result"
    }
   ],
   "source": [
    "def find_dist(x):\n",
    "        x = x[x[\"distance\"] > x[\"distance\"].mean()]\n",
    "        return x\n",
    "\n",
    "new_df = df.groupby(\"runner\").apply(find_dist)\n",
    "new_df.reset_index(drop=True, inplace=True)\n",
    "new_df = new_df.groupby(\"runner\").agg({\"runner\" : \"count\"})\n",
    "new_df.index.name = None\n",
    "new_df[\"runner\"]"
   ]
  },
  {
   "cell_type": "code",
   "execution_count": 72,
   "id": "1a57752c",
   "metadata": {},
   "outputs": [
    {
     "data": {
      "text/plain": [
       "runner\n",
       "runner1    2\n",
       "runner2    2\n",
       "runner3    0\n",
       "runner4    1\n",
       "dtype: int64"
      ]
     },
     "execution_count": 72,
     "metadata": {},
     "output_type": "execute_result"
    }
   ],
   "source": [
    "def find_dist(x):\n",
    "        x = x[x[\"distance\"] > x[\"distance\"].mean()]\n",
    "        #print(x[\"distance\"].mean())\n",
    "        x = x[\"distance\"].count()\n",
    "        return x\n",
    "\n",
    "df = df.groupby(\"runner\").apply(find_dist)\n",
    "df"
   ]
  },
  {
   "cell_type": "code",
   "execution_count": 89,
   "id": "da83894d",
   "metadata": {},
   "outputs": [
    {
     "data": {
      "text/html": [
       "<div>\n",
       "<style scoped>\n",
       "    .dataframe tbody tr th:only-of-type {\n",
       "        vertical-align: middle;\n",
       "    }\n",
       "\n",
       "    .dataframe tbody tr th {\n",
       "        vertical-align: top;\n",
       "    }\n",
       "\n",
       "    .dataframe thead th {\n",
       "        text-align: right;\n",
       "    }\n",
       "</style>\n",
       "<table border=\"1\" class=\"dataframe\">\n",
       "  <thead>\n",
       "    <tr style=\"text-align: right;\">\n",
       "      <th></th>\n",
       "      <th>name</th>\n",
       "      <th>age</th>\n",
       "    </tr>\n",
       "  </thead>\n",
       "  <tbody>\n",
       "    <tr>\n",
       "      <th>0</th>\n",
       "      <td>Ram</td>\n",
       "      <td>kid</td>\n",
       "    </tr>\n",
       "    <tr>\n",
       "      <th>1</th>\n",
       "      <td>Shyam</td>\n",
       "      <td>adult</td>\n",
       "    </tr>\n",
       "    <tr>\n",
       "      <th>2</th>\n",
       "      <td>Mukesh</td>\n",
       "      <td>senior</td>\n",
       "    </tr>\n",
       "    <tr>\n",
       "      <th>3</th>\n",
       "      <td>Suresh</td>\n",
       "      <td>adult</td>\n",
       "    </tr>\n",
       "  </tbody>\n",
       "</table>\n",
       "</div>"
      ],
      "text/plain": [
       "     name     age\n",
       "0     Ram     kid\n",
       "1   Shyam   adult\n",
       "2  Mukesh  senior\n",
       "3  Suresh   adult"
      ]
     },
     "execution_count": 89,
     "metadata": {},
     "output_type": "execute_result"
    }
   ],
   "source": [
    "a = pd.DataFrame({'name':[\"Ram\",\"Shyam\",\"Mukesh\",\"Suresh\"],'age':[10,18,60,50]})\n",
    "\n",
    "def bins(a):\n",
    "    if (a[\"age\"] < 18): \n",
    "        a[\"age\"] = \"kid\"\n",
    "    elif ((a[\"age\"] >= 18) & (a[\"age\"] <= 50)):\n",
    "         a[\"age\"] = \"adult\"\n",
    "    else:\n",
    "        a[\"age\"] = \"senior\"\n",
    "    return a\n",
    "\n",
    "a = a.apply(bins, axis = 1)  \n",
    "a"
   ]
  },
  {
   "cell_type": "code",
   "execution_count": 10,
   "id": "c945764f",
   "metadata": {},
   "outputs": [
    {
     "data": {
      "text/html": [
       "<div>\n",
       "<style scoped>\n",
       "    .dataframe tbody tr th:only-of-type {\n",
       "        vertical-align: middle;\n",
       "    }\n",
       "\n",
       "    .dataframe tbody tr th {\n",
       "        vertical-align: top;\n",
       "    }\n",
       "\n",
       "    .dataframe thead th {\n",
       "        text-align: right;\n",
       "    }\n",
       "</style>\n",
       "<table border=\"1\" class=\"dataframe\">\n",
       "  <thead>\n",
       "    <tr style=\"text-align: right;\">\n",
       "      <th></th>\n",
       "      <th>birth_dates</th>\n",
       "    </tr>\n",
       "  </thead>\n",
       "  <tbody>\n",
       "    <tr>\n",
       "      <th>0</th>\n",
       "      <td>2016</td>\n",
       "    </tr>\n",
       "    <tr>\n",
       "      <th>1</th>\n",
       "      <td>2005</td>\n",
       "    </tr>\n",
       "    <tr>\n",
       "      <th>2</th>\n",
       "      <td>1995</td>\n",
       "    </tr>\n",
       "    <tr>\n",
       "      <th>3</th>\n",
       "      <td>1999</td>\n",
       "    </tr>\n",
       "    <tr>\n",
       "      <th>4</th>\n",
       "      <td>2022</td>\n",
       "    </tr>\n",
       "  </tbody>\n",
       "</table>\n",
       "</div>"
      ],
      "text/plain": [
       "  birth_dates\n",
       "0        2016\n",
       "1        2005\n",
       "2        1995\n",
       "3        1999\n",
       "4        2022"
      ]
     },
     "execution_count": 10,
     "metadata": {},
     "output_type": "execute_result"
    }
   ],
   "source": [
    "test = pd.DataFrame({\"birth_dates\" : [\"2016\", \"2005\", \"1995\", \"1999\", \"2022\"]})\n",
    "test"
   ]
  },
  {
   "cell_type": "code",
   "execution_count": 11,
   "id": "04c5b5a2",
   "metadata": {},
   "outputs": [
    {
     "data": {
      "text/plain": [
       "0     6\n",
       "1    17\n",
       "2    27\n",
       "3    23\n",
       "4     0\n",
       "Name: age, dtype: int64"
      ]
     },
     "execution_count": 11,
     "metadata": {},
     "output_type": "execute_result"
    }
   ],
   "source": [
    "test[\"birth_dates\"] = test[\"birth_dates\"].astype(\"datetime64\")\n",
    "test[\"age\"] = [pd.to_datetime('today').year-age.year for age in test[\"birth_dates\"]]\n",
    "test[\"age\"]"
   ]
  },
  {
   "cell_type": "code",
   "execution_count": 5,
   "id": "1116f382",
   "metadata": {},
   "outputs": [
    {
     "data": {
      "text/html": [
       "<div>\n",
       "<style scoped>\n",
       "    .dataframe tbody tr th:only-of-type {\n",
       "        vertical-align: middle;\n",
       "    }\n",
       "\n",
       "    .dataframe tbody tr th {\n",
       "        vertical-align: top;\n",
       "    }\n",
       "\n",
       "    .dataframe thead th {\n",
       "        text-align: right;\n",
       "    }\n",
       "</style>\n",
       "<table border=\"1\" class=\"dataframe\">\n",
       "  <thead>\n",
       "    <tr style=\"text-align: right;\">\n",
       "      <th></th>\n",
       "      <th>Date</th>\n",
       "      <th>RID</th>\n",
       "      <th>Phy</th>\n",
       "      <th>Chem</th>\n",
       "      <th>Math</th>\n",
       "    </tr>\n",
       "  </thead>\n",
       "  <tbody>\n",
       "    <tr>\n",
       "      <th>0</th>\n",
       "      <td>2015-12-06</td>\n",
       "      <td>498</td>\n",
       "      <td>22</td>\n",
       "      <td>52</td>\n",
       "      <td>63</td>\n",
       "    </tr>\n",
       "    <tr>\n",
       "      <th>1</th>\n",
       "      <td>2011-12-27</td>\n",
       "      <td>721</td>\n",
       "      <td>45</td>\n",
       "      <td>56</td>\n",
       "      <td>37</td>\n",
       "    </tr>\n",
       "    <tr>\n",
       "      <th>2</th>\n",
       "      <td>2015-04-07</td>\n",
       "      <td>375</td>\n",
       "      <td>1</td>\n",
       "      <td>32</td>\n",
       "      <td>68</td>\n",
       "    </tr>\n",
       "    <tr>\n",
       "      <th>3</th>\n",
       "      <td>2012-04-21</td>\n",
       "      <td>464</td>\n",
       "      <td>65</td>\n",
       "      <td>50</td>\n",
       "      <td>62</td>\n",
       "    </tr>\n",
       "    <tr>\n",
       "      <th>4</th>\n",
       "      <td>2020-02-13</td>\n",
       "      <td>813</td>\n",
       "      <td>22</td>\n",
       "      <td>24</td>\n",
       "      <td>43</td>\n",
       "    </tr>\n",
       "    <tr>\n",
       "      <th>5</th>\n",
       "      <td>2015-06-09</td>\n",
       "      <td>853</td>\n",
       "      <td>17</td>\n",
       "      <td>61</td>\n",
       "      <td>42</td>\n",
       "    </tr>\n",
       "  </tbody>\n",
       "</table>\n",
       "</div>"
      ],
      "text/plain": [
       "         Date  RID  Phy  Chem  Math\n",
       "0  2015-12-06  498   22    52    63\n",
       "1  2011-12-27  721   45    56    37\n",
       "2  2015-04-07  375    1    32    68\n",
       "3  2012-04-21  464   65    50    62\n",
       "4  2020-02-13  813   22    24    43\n",
       "5  2015-06-09  853   17    61    42"
      ]
     },
     "execution_count": 5,
     "metadata": {},
     "output_type": "execute_result"
    }
   ],
   "source": [
    "df = pd.DataFrame({'Date':[\"2015-12-06\", \"2011-12-27\", \"2015-04-07\", \"2012-04-21\", \"2020-02-13\", \"2015-06-09\"], \n",
    "                   'RID':[498, 721, 375, 464, 813, 853], \n",
    "                   'Phy':[22, 45, 1, 65, 22, 17], \n",
    "                   'Chem':[52, 56, 32, 50, 24, 61], \n",
    "                   'Math':[63, 37, 68, 62, 43 ,42]}) \n",
    "df"
   ]
  },
  {
   "cell_type": "code",
   "execution_count": 12,
   "id": "a77ca7c6",
   "metadata": {},
   "outputs": [
    {
     "data": {
      "text/plain": [
       "['APR', 2, 41.0, 33.0, 65.0]"
      ]
     },
     "execution_count": 12,
     "metadata": {},
     "output_type": "execute_result"
    }
   ],
   "source": [
    "ans = []\n",
    "df[\"Date\"] = pd.to_datetime(df[\"Date\"])\n",
    "df[\"Month\"] = (df[\"Date\"].dt.month_name().str[:3]).str.upper()\n",
    "df.sort_values(\"Month\", ascending=True, inplace=True)\n",
    "month_counts = df[\"Month\"].value_counts()\n",
    "ans.append(month_counts.index[0])\n",
    "ans.append(month_counts.values[0])\n",
    "means = df.groupby(\"Month\")[[\"Chem\", \"Phy\", \"Math\"]].apply(\"mean\").round(2)\n",
    "ans.extend(means.loc[month_counts.index[0], :].tolist())\n",
    "ans"
   ]
  },
  {
   "cell_type": "code",
   "execution_count": 13,
   "id": "effdd25d",
   "metadata": {},
   "outputs": [
    {
     "data": {
      "text/plain": [
       "APR    2\n",
       "DEC    2\n",
       "FEB    1\n",
       "JUN    1\n",
       "Name: Month, dtype: int64"
      ]
     },
     "execution_count": 13,
     "metadata": {},
     "output_type": "execute_result"
    }
   ],
   "source": [
    "month_counts"
   ]
  },
  {
   "cell_type": "code",
   "execution_count": 8,
   "id": "72a3a52b",
   "metadata": {},
   "outputs": [
    {
     "data": {
      "text/plain": [
       "array([[1, 2, 3],\n",
       "       [4, 5, 6],\n",
       "       [7, 8, 9],\n",
       "       [7, 8, 9]])"
      ]
     },
     "execution_count": 8,
     "metadata": {},
     "output_type": "execute_result"
    }
   ],
   "source": [
    "arr = np.arange(1, 10).reshape(3,3)\n",
    "np.vstack((arr, arr[[2], :]))"
   ]
  },
  {
   "cell_type": "code",
   "execution_count": 10,
   "id": "47a679ba",
   "metadata": {},
   "outputs": [
    {
     "data": {
      "text/plain": [
       "90"
      ]
     },
     "execution_count": 10,
     "metadata": {},
     "output_type": "execute_result"
    }
   ],
   "source": [
    "arr1 = np.array([10, 52, 62, 16, 16, 54, 453])\n",
    "arr2 = np.array([100, 90, 80, 70, 60, 50, 40])\n",
    "arr3 = arr2[np.argsort(arr1)][3]\n",
    "arr3"
   ]
  },
  {
   "cell_type": "code",
   "execution_count": 10,
   "id": "548bb1dc",
   "metadata": {},
   "outputs": [
    {
     "data": {
      "text/plain": [
       "0.8122"
      ]
     },
     "execution_count": 10,
     "metadata": {},
     "output_type": "execute_result"
    }
   ],
   "source": [
    "hw_data = pd.read_csv(\"weight_height.csv\")\n",
    "len(hw_data[hw_data[\"Height\"] <= 70]) / len(hw_data)"
   ]
  },
  {
   "cell_type": "code",
   "execution_count": 4,
   "id": "88fdd674",
   "metadata": {},
   "outputs": [
    {
     "data": {
      "text/plain": [
       "1.75"
      ]
     },
     "execution_count": 4,
     "metadata": {},
     "output_type": "execute_result"
    }
   ],
   "source": [
    "data = np.array([1,2,3,4])\n",
    "np.quantile(data, 0.25)"
   ]
  },
  {
   "cell_type": "code",
   "execution_count": 6,
   "id": "89d69c5c",
   "metadata": {},
   "outputs": [
    {
     "data": {
      "text/plain": [
       "32.0"
      ]
     },
     "execution_count": 6,
     "metadata": {},
     "output_type": "execute_result"
    }
   ],
   "source": [
    "data = np.array([30,32,35,35,38])\n",
    "np.quantile(data, 0.25)"
   ]
  },
  {
   "cell_type": "code",
   "execution_count": 17,
   "id": "a7e8e16c",
   "metadata": {},
   "outputs": [
    {
     "data": {
      "text/plain": [
       "True"
      ]
     },
     "execution_count": 17,
     "metadata": {},
     "output_type": "execute_result"
    }
   ],
   "source": [
    "s = \"GoodMorning\"\n",
    "s.isalpha()"
   ]
  },
  {
   "cell_type": "code",
   "execution_count": 4,
   "id": "f34aba81",
   "metadata": {},
   "outputs": [
    {
     "name": "stdout",
     "output_type": "stream",
     "text": [
      "(array([0, 3, 4, 6], dtype=int64),)\n"
     ]
    }
   ],
   "source": [
    "import numpy as np\n",
    "n = np.array([0, 1, 2, 0, 0, 3, 0])\n",
    "print(np.where(n == 0))"
   ]
  },
  {
   "cell_type": "code",
   "execution_count": 7,
   "id": "35c57eea",
   "metadata": {},
   "outputs": [],
   "source": [
    "arr = [[1, 4, 5], \n",
    "       [2, 0, 1], \n",
    "       [4, 4, 2]]\n",
    "arr = np.asarray(arr)"
   ]
  },
  {
   "cell_type": "code",
   "execution_count": 9,
   "id": "e86fa83d",
   "metadata": {},
   "outputs": [
    {
     "data": {
      "text/plain": [
       "3"
      ]
     },
     "execution_count": 9,
     "metadata": {},
     "output_type": "execute_result"
    }
   ],
   "source": [
    "np.diagonal(arr).sum()"
   ]
  },
  {
   "cell_type": "code",
   "execution_count": 10,
   "id": "59a77f3c",
   "metadata": {},
   "outputs": [
    {
     "data": {
      "text/plain": [
       "3"
      ]
     },
     "execution_count": 10,
     "metadata": {},
     "output_type": "execute_result"
    }
   ],
   "source": [
    "sum(np.diagonal(arr))"
   ]
  },
  {
   "cell_type": "code",
   "execution_count": 12,
   "id": "32fcf3f8",
   "metadata": {},
   "outputs": [
    {
     "data": {
      "text/plain": [
       "3"
      ]
     },
     "execution_count": 12,
     "metadata": {},
     "output_type": "execute_result"
    }
   ],
   "source": [
    "sum(np.diag(arr))"
   ]
  },
  {
   "cell_type": "markdown",
   "id": "d2fc3ade",
   "metadata": {},
   "source": [
    "Q. 2, 8 sided die\n",
    "given x\n",
    "p(sum of both == x)"
   ]
  },
  {
   "cell_type": "code",
   "execution_count": 7,
   "id": "2953eddb",
   "metadata": {},
   "outputs": [
    {
     "name": "stdout",
     "output_type": "stream",
     "text": [
      "1 7\n",
      "2 6\n",
      "3 5\n",
      "4 4\n",
      "5 3\n",
      "6 2\n",
      "7 1\n"
     ]
    },
    {
     "data": {
      "text/plain": [
       "0.109375"
      ]
     },
     "execution_count": 7,
     "metadata": {},
     "output_type": "execute_result"
    }
   ],
   "source": [
    "import numpy as np\n",
    "\n",
    "d1 = np.arange(1, 9)\n",
    "d2 = np.arange(1, 9)\n",
    "x = 8\n",
    "events = []\n",
    "\n",
    "for i in range (1, 9):\n",
    "    for j in range (1, 9):\n",
    "        if(i + j == x):\n",
    "            print(i, j)\n",
    "            events.append(x)\n",
    "\n",
    "p = len(events)/(len(d1) * len(d2))\n",
    "p"
   ]
  },
  {
   "cell_type": "code",
   "execution_count": 9,
   "id": "d10c705b",
   "metadata": {},
   "outputs": [
    {
     "data": {
      "text/plain": [
       "64"
      ]
     },
     "execution_count": 9,
     "metadata": {},
     "output_type": "execute_result"
    }
   ],
   "source": [
    "(len(d1) * len(d2))"
   ]
  },
  {
   "cell_type": "code",
   "execution_count": 10,
   "id": "707bf9ff",
   "metadata": {},
   "outputs": [
    {
     "data": {
      "text/plain": [
       "7"
      ]
     },
     "execution_count": 10,
     "metadata": {},
     "output_type": "execute_result"
    }
   ],
   "source": [
    "len(events)"
   ]
  },
  {
   "cell_type": "code",
   "execution_count": 11,
   "id": "3d1cc6f7",
   "metadata": {},
   "outputs": [
    {
     "data": {
      "text/plain": [
       "0.109375"
      ]
     },
     "execution_count": 11,
     "metadata": {},
     "output_type": "execute_result"
    }
   ],
   "source": [
    "7/64"
   ]
  },
  {
   "cell_type": "code",
   "execution_count": null,
   "id": "a21c259d",
   "metadata": {},
   "outputs": [],
   "source": []
  }
 ],
 "metadata": {
  "kernelspec": {
   "display_name": "Python 3 (ipykernel)",
   "language": "python",
   "name": "python3"
  },
  "language_info": {
   "codemirror_mode": {
    "name": "ipython",
    "version": 3
   },
   "file_extension": ".py",
   "mimetype": "text/x-python",
   "name": "python",
   "nbconvert_exporter": "python",
   "pygments_lexer": "ipython3",
   "version": "3.9.12"
  }
 },
 "nbformat": 4,
 "nbformat_minor": 5
}
