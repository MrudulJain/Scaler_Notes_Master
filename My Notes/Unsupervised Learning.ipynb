{
 "cells": [
  {
   "cell_type": "code",
   "execution_count": 2,
   "id": "cf66be4c",
   "metadata": {},
   "outputs": [],
   "source": [
    "import numpy as np\n",
    "import pandas as pd\n",
    "import matplotlib.pyplot as plt\n",
    "import seaborn as sns\n",
    "import math"
   ]
  },
  {
   "cell_type": "markdown",
   "id": "da519b1f",
   "metadata": {},
   "source": [
    "<b><u>Kmeans++</u> : Q5. Cluster Initialization</b>"
   ]
  },
  {
   "cell_type": "code",
   "execution_count": 11,
   "id": "fff7d83e",
   "metadata": {},
   "outputs": [
    {
     "data": {
      "image/png": "[encoded data removed]",
      "text/plain": [
       "<Figure size 432x288 with 1 Axes>"
      ]
     },
     "metadata": {
      "needs_background": "light"
     },
     "output_type": "display_data"
    },
    {
     "data": {
      "image/png": "[encoded data removed]",
      "text/plain": [
       "<Figure size 432x288 with 1 Axes>"
      ]
     },
     "metadata": {
      "needs_background": "light"
     },
     "output_type": "display_data"
    },
    {
     "data": {
      "image/png": "[encoded data removed]",
      "text/plain": [
       "<Figure size 432x288 with 1 Axes>"
      ]
     },
     "metadata": {
      "needs_background": "light"
     },
     "output_type": "display_data"
    }
   ],
   "source": [
    "km = pd.read_csv(\".\\kmeans++.csv\")\n",
    "\n",
    "c1 = [(1, 1), (-1, -1), (-1, 1)]\n",
    "c2 = [(1, 1), (-1, -1), (1, -1)]\n",
    "c3 = [(1, 1), (-1, 1), (-1, 2)]\n",
    "\n",
    "# Create a list containing all three coordinate lists\n",
    "all_coordinates = [c1, c2, c3]\n",
    "\n",
    "# Define colors for each plot\n",
    "colors = ['r', 'y', 'g']\n",
    "\n",
    "# Loop through each coordinate list and plot the points and quadrants\n",
    "for i, coordinates in enumerate(all_coordinates):\n",
    "    sns.scatterplot(x = km[\"X\"], y = km[\"Y\"])\n",
    "    plt.scatter(x=[x for x, y in coordinates], y=[y for x, y in coordinates], color=colors[i])\n",
    "    plt.axvline(0, color='black', linewidth=1)  \n",
    "    plt.axhline(0, color='black', linewidth=1)\n",
    "    plt.title(f\"Plot {i+1}\")\n",
    "    plt.show()"
   ]
  },
  {
   "cell_type": "markdown",
   "id": "fcea466f",
   "metadata": {},
   "source": [
    "<b><u>Kmeans++</u> : Q6. Correct order</b>"
   ]
  },
  {
   "cell_type": "code",
   "execution_count": 17,
   "id": "d39e47d4",
   "metadata": {},
   "outputs": [
    {
     "data": {
      "text/plain": [
       "array([[array([ 4, -5]), 7.0],\n",
       "       [array([7, 9]), 6.4031242374328485],\n",
       "       [array([ 3, -3]), 6.324555320336759],\n",
       "       [array([ 4, -2]), 6.082762530298219],\n",
       "       [array([ 3, -4]), 6.082762530298219],\n",
       "       [array([ 3, 10]), 6.0],\n",
       "       [array([0, 0]), 5.0],\n",
       "       [array([6, 7]), 4.242640687119285],\n",
       "       [array([-5, -8]), 3.605551275463989],\n",
       "       [array([-1, -2]), 3.605551275463989],\n",
       "       [array([6, 5]), 3.1622776601683795],\n",
       "       [array([1, 2]), 2.8284271247461903],\n",
       "       [array([-5, -4]), 2.23606797749979],\n",
       "       [array([-4, -3]), 2.23606797749979],\n",
       "       [array([-1, -5]), 2.0],\n",
       "       [array([2, 3]), 1.4142135623730951],\n",
       "       [array([-3, -4]), 1.0],\n",
       "       [array([3, 4]), 0.0],\n",
       "       [array([-3, -5]), 0.0]], dtype=object)"
      ]
     },
     "execution_count": 17,
     "metadata": {},
     "output_type": "execute_result"
    }
   ],
   "source": [
    "pts = np.array([(1,2),(2,3),(-1,-2),(3,4),(4,-2),(3,-3),(-5,-4),(3,10),(-3,-4),(7,9),\n",
    "       (6,5),(3,-4),(-4,-3),(-1,-5),(-5,-8),(6,7),(4,-5),(0,0),(-3,-5)])\n",
    "\n",
    "centroid1 = (-3, -5)\n",
    "centroid2 = (3, 4)\n",
    "dist = []\n",
    "\n",
    "for pt in pts:\n",
    "    d1 = np.linalg.norm(pt - centroid1)\n",
    "    d2 = np.linalg.norm(pt - centroid2)\n",
    "    min_dist = min(d1, d2)\n",
    "    dist.append((pt, min_dist))\n",
    "\n",
    "dist = np.asarray(dist, dtype =\"object\")\n",
    "sorted_index = np.argsort(dist[:, 1])[::-1]\n",
    "dist = dist[sorted_index]\n",
    "dist"
   ]
  },
  {
   "cell_type": "code",
   "execution_count": 16,
   "id": "a2748c2f",
   "metadata": {},
   "outputs": [
    {
     "name": "stdout",
     "output_type": "stream",
     "text": [
      "[0 0 0 0 0]\n",
      "[0 0 1 0 1]\n"
     ]
    }
   ],
   "source": [
    "from sklearn.cluster import AgglomerativeClustering\n",
    "\n",
    "X = np.array([10, 7, 28, 20, 35]).reshape(-1, 1)\n",
    "\n",
    "#average linkage\n",
    "agg = AgglomerativeClustering(n_clusters = None, linkage = 'average', distance_threshold = 20).fit(X)\n",
    "print(agg.labels_)\n",
    "\n",
    "#ward linkage --> similar to manhattan distance\n",
    "agg = AgglomerativeClustering(n_clusters = None, linkage = 'ward', distance_threshold = 20).fit(X)\n",
    "print(agg.labels_)"
   ]
  },
  {
   "cell_type": "markdown",
   "id": "2185efa1",
   "metadata": {},
   "source": [
    "<b><u>DBSCAN:</u> Q1. Single Linkage Similarity</b>\n",
    "<br>Actual question is about heirarchical clustering"
   ]
  },
  {
   "cell_type": "code",
   "execution_count": 30,
   "id": "d9968902",
   "metadata": {},
   "outputs": [
    {
     "name": "stdout",
     "output_type": "stream",
     "text": [
      "0.07669649888473704\n"
     ]
    }
   ],
   "source": [
    "c1 = np.array([(10,2),(4,15),(0,15),(3,12),(7,8),(4,8)])\n",
    "c2 = np.array([(-1,-5),(-8,-10),(-10,-20),(-4,-20),(-1,-25)])\n",
    "\n",
    "dist = []\n",
    "\n",
    "for i in c1:\n",
    "    for j in c2:\n",
    "        dist.append(np.linalg.norm(i-j))\n",
    "\n",
    "print(1/sorted(dist)[0])"
   ]
  },
  {
   "cell_type": "markdown",
   "id": "01da2e79",
   "metadata": {},
   "source": [
    "<b><u>ML: Gaussian Mixture Models:</u> Q6. Next centroid</b>"
   ]
  },
  {
   "cell_type": "code",
   "execution_count": 34,
   "id": "ad441a02",
   "metadata": {},
   "outputs": [
    {
     "name": "stdout",
     "output_type": "stream",
     "text": [
      "[-9  7]\n"
     ]
    }
   ],
   "source": [
    "c = (1,1) \n",
    "X = np.array([(2,3), (1,4), (5,6), (-1,-1), (-1,4), (3,-5), (-9,7), (8,7), (1,-4), (5,-6), (-4,7)])\n",
    "\n",
    "max_pt = None\n",
    "max_dist = -1\n",
    "\n",
    "for pt in X:\n",
    "    dist = np.linalg.norm(pt - c)\n",
    "    if(dist > max_dist):\n",
    "        max_dist = dist\n",
    "        max_pt = pt\n",
    "        \n",
    "print(max_pt)"
   ]
  },
  {
   "cell_type": "markdown",
   "id": "7de9e801",
   "metadata": {},
   "source": [
    "<b><u>ML: High Dimensional Viz - UMAP:</u> Q3. Which principal component? </b>\n",
    "\n",
    "Link: https://medium.com/analytics-vidhya/the-math-of-principal-component-analysis-pca-bf7da48247fc\n",
    "<br> https://towardsdatascience.com/principal-component-analysis-from-scratch-in-numpy-61843da1f967"
   ]
  },
  {
   "cell_type": "code",
   "execution_count": 55,
   "id": "4a5ba9dd",
   "metadata": {},
   "outputs": [
    {
     "name": "stdout",
     "output_type": "stream",
     "text": [
      "[4. 1.] \n",
      " [[ 0.70710678 -0.70710678]\n",
      " [ 0.70710678  0.70710678]]\n"
     ]
    }
   ],
   "source": [
    "from numpy.linalg import eig\n",
    "\n",
    "x = np.asarray([[ 1, -1], [-1, 1], [2, 2], [-2, -2]])\n",
    "\n",
    "x = x - np.mean(x) # standarizing the data to same scale \n",
    "cov_mat = np.dot(x.T, x)/len(x) \n",
    "#we are diving by \"n\" as our given data represents the total possible data. If we knew we just had a sample of the\n",
    "#total data we would divide by \"n-1\" which is called Bessel's correction\n",
    "\n",
    "e_values, e_vectors = eig(cov_mat)\n",
    "#np.diag(e_values)\n",
    "print(e_values, \"\\n\", e_vectors)"
   ]
  }
 ],
 "metadata": {
  "kernelspec": {
   "display_name": "Python 3 (ipykernel)",
   "language": "python",
   "name": "python3"
  },
  "language_info": {
   "codemirror_mode": {
    "name": "ipython",
    "version": 3
   },
   "file_extension": ".py",
   "mimetype": "text/x-python",
   "name": "python",
   "nbconvert_exporter": "python",
   "pygments_lexer": "ipython3",
   "version": "3.9.12"
  }
 },
 "nbformat": 4,
 "nbformat_minor": 5
}
