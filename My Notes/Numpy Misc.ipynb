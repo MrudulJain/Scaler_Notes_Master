{
 "cells": [
  {
   "cell_type": "code",
   "execution_count": 2,
   "id": "5b7a6035",
   "metadata": {},
   "outputs": [],
   "source": [
    "import numpy as np"
   ]
  },
  {
   "cell_type": "markdown",
   "id": "f8f4b85b",
   "metadata": {},
   "source": [
    "<h2> Splitting </h2>"
   ]
  },
  {
   "cell_type": "code",
   "execution_count": 9,
   "id": "a1861d6e",
   "metadata": {},
   "outputs": [
    {
     "data": {
      "text/plain": [
       "array([0, 1, 2, 3, 4, 5, 6, 7, 8])"
      ]
     },
     "execution_count": 9,
     "metadata": {},
     "output_type": "execute_result"
    }
   ],
   "source": [
    "x = np.arange(9)\n",
    "x"
   ]
  },
  {
   "cell_type": "code",
   "execution_count": 6,
   "id": "181d82d0",
   "metadata": {},
   "outputs": [
    {
     "data": {
      "text/plain": [
       "[array([0, 1, 2]), array([3, 4, 5]), array([6, 7, 8])]"
      ]
     },
     "execution_count": 6,
     "metadata": {},
     "output_type": "execute_result"
    }
   ],
   "source": [
    "np.split(x, 3)"
   ]
  },
  {
   "cell_type": "code",
   "execution_count": 4,
   "id": "40e59236",
   "metadata": {},
   "outputs": [
    {
     "data": {
      "text/plain": [
       "[array([0, 1, 2]), array([3, 4]), array([5]), array([6, 7, 8])]"
      ]
     },
     "execution_count": 4,
     "metadata": {},
     "output_type": "execute_result"
    }
   ],
   "source": [
    "np.split(x, [3, 5, 6]) #splits array at index 3, 5, 6"
   ]
  },
  {
   "cell_type": "code",
   "execution_count": 4,
   "id": "e612b58c",
   "metadata": {},
   "outputs": [
    {
     "data": {
      "text/plain": [
       "array([[ 0,  1,  2,  3],\n",
       "       [ 4,  5,  6,  7],\n",
       "       [ 8,  9, 10, 11],\n",
       "       [12, 13, 14, 15]])"
      ]
     },
     "execution_count": 4,
     "metadata": {},
     "output_type": "execute_result"
    }
   ],
   "source": [
    "x1 = np.arange(16).reshape(4, 4)\n",
    "x1"
   ]
  },
  {
   "cell_type": "code",
   "execution_count": 49,
   "id": "fbfc6785",
   "metadata": {},
   "outputs": [
    {
     "data": {
      "text/plain": [
       "[array([[ 0,  1],\n",
       "        [ 4,  5],\n",
       "        [ 8,  9],\n",
       "        [12, 13]]),\n",
       " array([[ 2,  3],\n",
       "        [ 6,  7],\n",
       "        [10, 11],\n",
       "        [14, 15]])]"
      ]
     },
     "execution_count": 49,
     "metadata": {},
     "output_type": "execute_result"
    }
   ],
   "source": [
    "np.split(x1, 2, axis = 1)"
   ]
  },
  {
   "cell_type": "code",
   "execution_count": 12,
   "id": "ab47626f",
   "metadata": {},
   "outputs": [
    {
     "data": {
      "text/plain": [
       "[array([[0, 1, 2, 3]]),\n",
       " array([[4, 5, 6, 7]]),\n",
       " array([[ 8,  9, 10, 11]]),\n",
       " array([[12, 13, 14, 15]])]"
      ]
     },
     "execution_count": 12,
     "metadata": {},
     "output_type": "execute_result"
    }
   ],
   "source": [
    "np.split(x1, 4, axis = 0)"
   ]
  },
  {
   "cell_type": "markdown",
   "id": "0a2ea6b8",
   "metadata": {},
   "source": [
    "<h2> Stacking </h2>"
   ]
  },
  {
   "cell_type": "code",
   "execution_count": 6,
   "id": "02a17bc2",
   "metadata": {},
   "outputs": [
    {
     "name": "stdout",
     "output_type": "stream",
     "text": [
      "(3, 4, 4)\n",
      "\n",
      " [[[ 0  1  2  3]\n",
      "  [ 4  5  6  7]\n",
      "  [ 8  9 10 11]\n",
      "  [12 13 14 15]]\n",
      "\n",
      " [[ 0  1  2  3]\n",
      "  [ 4  5  6  7]\n",
      "  [ 8  9 10 11]\n",
      "  [12 13 14 15]]\n",
      "\n",
      " [[ 0  1  2  3]\n",
      "  [ 4  5  6  7]\n",
      "  [ 8  9 10 11]\n",
      "  [12 13 14 15]]]\n"
     ]
    }
   ],
   "source": [
    "temp = np.stack([x1]*3, axis = 0)\n",
    "print(temp.shape)\n",
    "print(\"\\n\", temp)"
   ]
  },
  {
   "cell_type": "code",
   "execution_count": 54,
   "id": "8f0429bf",
   "metadata": {},
   "outputs": [
    {
     "name": "stdout",
     "output_type": "stream",
     "text": [
      "(12, 4)\n",
      "\n",
      " [[ 0  1  2  3]\n",
      " [ 4  5  6  7]\n",
      " [ 8  9 10 11]\n",
      " [12 13 14 15]\n",
      " [ 0  1  2  3]\n",
      " [ 4  5  6  7]\n",
      " [ 8  9 10 11]\n",
      " [12 13 14 15]\n",
      " [ 0  1  2  3]\n",
      " [ 4  5  6  7]\n",
      " [ 8  9 10 11]\n",
      " [12 13 14 15]]\n"
     ]
    }
   ],
   "source": [
    "temp = np.vstack([x1]*3)\n",
    "print(temp.shape)\n",
    "print(\"\\n\", temp)"
   ]
  },
  {
   "cell_type": "code",
   "execution_count": 7,
   "id": "9222b373",
   "metadata": {},
   "outputs": [
    {
     "name": "stdout",
     "output_type": "stream",
     "text": [
      "(4, 3, 4)\n",
      "\n",
      " [[[ 0  1  2  3]\n",
      "  [ 0  1  2  3]\n",
      "  [ 0  1  2  3]]\n",
      "\n",
      " [[ 4  5  6  7]\n",
      "  [ 4  5  6  7]\n",
      "  [ 4  5  6  7]]\n",
      "\n",
      " [[ 8  9 10 11]\n",
      "  [ 8  9 10 11]\n",
      "  [ 8  9 10 11]]\n",
      "\n",
      " [[12 13 14 15]\n",
      "  [12 13 14 15]\n",
      "  [12 13 14 15]]]\n"
     ]
    }
   ],
   "source": [
    "temp = np.stack([x1]*3, axis = 1)\n",
    "print(temp.shape)\n",
    "print(\"\\n\", temp)"
   ]
  },
  {
   "cell_type": "code",
   "execution_count": 8,
   "id": "74a519d4",
   "metadata": {},
   "outputs": [
    {
     "name": "stdout",
     "output_type": "stream",
     "text": [
      "(4, 12)\n",
      "\n",
      " [[ 0  1  2  3  0  1  2  3  0  1  2  3]\n",
      " [ 4  5  6  7  4  5  6  7  4  5  6  7]\n",
      " [ 8  9 10 11  8  9 10 11  8  9 10 11]\n",
      " [12 13 14 15 12 13 14 15 12 13 14 15]]\n"
     ]
    }
   ],
   "source": [
    "temp = np.hstack([x1]*3)\n",
    "print(temp.shape)\n",
    "print(\"\\n\", temp)"
   ]
  },
  {
   "cell_type": "markdown",
   "id": "dd212407",
   "metadata": {},
   "source": [
    "<b> \n",
    "<br> During concatenation, the arrays must have the same shape, they won't be implicitly broadcasted. So, an 1d array cannot be concatenated with a 2d and vice-versa. \n",
    "    <li> if we are concatenating on axis=0 (one below the other), num. of columns should be equal </li>\n",
    "    <li> if we are concatenating on axis=1 (one on the right of another), num. of rows must be equal </li>\n",
    "<br> During hstack(), the number of rows of the two matrices used should be equal \n",
    "<br> During vstack(), the number of columns of the two matrices used should be equal \n",
    "</b>"
   ]
  },
  {
   "cell_type": "code",
   "execution_count": 45,
   "id": "040973e6",
   "metadata": {},
   "outputs": [
    {
     "name": "stdout",
     "output_type": "stream",
     "text": [
      "[[0 1 2 3]]\n"
     ]
    },
    {
     "data": {
      "text/plain": [
       "array([[ 0,  1,  2,  3],\n",
       "       [ 4,  5,  6,  7],\n",
       "       [ 8,  9, 10, 11],\n",
       "       [12, 13, 14, 15],\n",
       "       [ 0,  1,  2,  3]])"
      ]
     },
     "execution_count": 45,
     "metadata": {},
     "output_type": "execute_result"
    }
   ],
   "source": [
    "x2 = np.arange(4).reshape(1, 4)\n",
    "print(x2)\n",
    "np.vstack((x1, x2)) "
   ]
  },
  {
   "cell_type": "markdown",
   "id": "e45971fb",
   "metadata": {},
   "source": [
    "<h2> Broadcasting </h2>"
   ]
  },
  {
   "cell_type": "code",
   "execution_count": 31,
   "id": "2064e69a",
   "metadata": {},
   "outputs": [
    {
     "data": {
      "text/plain": [
       "array([[ 0, 10, 20, 30],\n",
       "       [ 0, 10, 20, 30],\n",
       "       [ 0, 10, 20, 30],\n",
       "       [ 0, 10, 20, 30]])"
      ]
     },
     "execution_count": 31,
     "metadata": {},
     "output_type": "execute_result"
    }
   ],
   "source": [
    "np.stack([np.arange(0, 31, 10)]*4, axis = 0)"
   ]
  },
  {
   "cell_type": "code",
   "execution_count": 34,
   "id": "4730a49f",
   "metadata": {},
   "outputs": [
    {
     "data": {
      "text/plain": [
       "array([[ 0, 10, 20, 30],\n",
       "       [ 0, 10, 20, 30],\n",
       "       [ 0, 10, 20, 30],\n",
       "       [ 0, 10, 20, 30]])"
      ]
     },
     "execution_count": 34,
     "metadata": {},
     "output_type": "execute_result"
    }
   ],
   "source": [
    "np.tile(np.arange(0, 31, 10), (4, 1))"
   ]
  },
  {
   "cell_type": "code",
   "execution_count": 36,
   "id": "75f30b69",
   "metadata": {},
   "outputs": [
    {
     "name": "stdout",
     "output_type": "stream",
     "text": [
      "[[ 0]\n",
      " [10]\n",
      " [20]\n",
      " [30]]\n",
      "\n",
      " [0 1 2]\n",
      "\n",
      " [[ 0  1  2]\n",
      " [10 11 12]\n",
      " [20 21 22]\n",
      " [30 31 32]]\n"
     ]
    }
   ],
   "source": [
    "m1 = np.arange(0, 31, 10).reshape(-1, 1)\n",
    "print(m1)\n",
    "m2 = np.arange(0, 3)\n",
    "print(\"\\n\", m2)\n",
    "print(\"\\n\", m1 + m2)"
   ]
  },
  {
   "cell_type": "code",
   "execution_count": 41,
   "id": "a724bd88",
   "metadata": {},
   "outputs": [
    {
     "data": {
      "text/plain": [
       "False"
      ]
     },
     "execution_count": 41,
     "metadata": {},
     "output_type": "execute_result"
    }
   ],
   "source": [
    "np.shares_memory(m1, m2)"
   ]
  },
  {
   "cell_type": "code",
   "execution_count": 13,
   "id": "c6ab5e79",
   "metadata": {},
   "outputs": [
    {
     "data": {
      "text/plain": [
       "array([[ 0],\n",
       "       [ 4],\n",
       "       [ 8],\n",
       "       [12]])"
      ]
     },
     "execution_count": 13,
     "metadata": {},
     "output_type": "execute_result"
    }
   ],
   "source": [
    "x1[:, [0]]"
   ]
  },
  {
   "cell_type": "code",
   "execution_count": 14,
   "id": "447cfa35",
   "metadata": {},
   "outputs": [
    {
     "data": {
      "text/plain": [
       "array([ 0,  4,  8, 12])"
      ]
     },
     "execution_count": 14,
     "metadata": {},
     "output_type": "execute_result"
    }
   ],
   "source": [
    "x1[:, 0]"
   ]
  },
  {
   "cell_type": "code",
   "execution_count": null,
   "id": "3f429e49",
   "metadata": {},
   "outputs": [],
   "source": []
  }
 ],
 "metadata": {
  "kernelspec": {
   "display_name": "Python 3 (ipykernel)",
   "language": "python",
   "name": "python3"
  },
  "language_info": {
   "codemirror_mode": {
    "name": "ipython",
    "version": 3
   },
   "file_extension": ".py",
   "mimetype": "text/x-python",
   "name": "python",
   "nbconvert_exporter": "python",
   "pygments_lexer": "ipython3",
   "version": "3.9.12"
  }
 },
 "nbformat": 4,
 "nbformat_minor": 5
}
