{
 "cells": [
  {
   "cell_type": "code",
   "execution_count": 2,
   "id": "24da6600",
   "metadata": {},
   "outputs": [],
   "source": [
    "import numpy as np"
   ]
  },
  {
   "cell_type": "code",
   "execution_count": 7,
   "id": "b97c21ae",
   "metadata": {},
   "outputs": [],
   "source": [
    "a = range(100000)\n",
    "a_np = np.arange(100000)"
   ]
  },
  {
   "cell_type": "code",
   "execution_count": 8,
   "id": "ef644108",
   "metadata": {},
   "outputs": [
    {
     "name": "stdout",
     "output_type": "stream",
     "text": [
      "28.1 ms ± 890 µs per loop (mean ± std. dev. of 7 runs, 10 loops each)\n",
      "69 µs ± 1.35 µs per loop (mean ± std. dev. of 7 runs, 10,000 loops each)\n"
     ]
    }
   ],
   "source": [
    "%timeit [i**2 for i in a]\n",
    "%timeit a_np**2"
   ]
  },
  {
   "cell_type": "code",
   "execution_count": 52,
   "id": "c4449a30",
   "metadata": {},
   "outputs": [
    {
     "name": "stdout",
     "output_type": "stream",
     "text": [
      "[1, 3, 5, 7, 9, 1, 3, 5, 7, 9]\n",
      "[ 2  6 10 14 18]\n",
      "[ 1  9 25 49 81]\n"
     ]
    }
   ],
   "source": [
    "arr = list(range(1, 11, 2)) #python range doesn't include second value\n",
    "np_arr = np.array(arr1)\n",
    "print(arr*2)\n",
    "print(np_arr*2)\n",
    "print(np_arr**2) #doesn't work with python lists"
   ]
  },
  {
   "cell_type": "code",
   "execution_count": 42,
   "id": "bae78546",
   "metadata": {},
   "outputs": [
    {
     "name": "stdout",
     "output_type": "stream",
     "text": [
      "1\n",
      "(5,)\n"
     ]
    }
   ],
   "source": [
    "print(np_arr.ndim)\n",
    "print(np_arr.shape)"
   ]
  },
  {
   "cell_type": "code",
   "execution_count": null,
   "id": "53a6175c",
   "metadata": {},
   "outputs": [],
   "source": [
    "a1 = list(range(1, 11, 2.5)) #Gives error"
   ]
  },
  {
   "cell_type": "code",
   "execution_count": 55,
   "id": "a5cbf31e",
   "metadata": {},
   "outputs": [
    {
     "data": {
      "text/plain": [
       "array([1. , 3.5, 6. , 8.5])"
      ]
     },
     "execution_count": 55,
     "metadata": {},
     "output_type": "execute_result"
    }
   ],
   "source": [
    "a1_np = np.arange(1, 11, 2.5)\n",
    "a1_np"
   ]
  },
  {
   "cell_type": "code",
   "execution_count": 27,
   "id": "f94e8a8b",
   "metadata": {},
   "outputs": [
    {
     "name": "stdout",
     "output_type": "stream",
     "text": [
      "[1 2 3]\n",
      "[1.   2.   3.41]\n",
      "['1' '2' 'A']\n"
     ]
    }
   ],
   "source": [
    "print(np.array([1, 2, 3]))\n",
    "print(np.array([1, 2, 3.41]))\n",
    "print(np.array([1, 2, \"A\"]))"
   ]
  },
  {
   "cell_type": "code",
   "execution_count": 32,
   "id": "21e87273",
   "metadata": {},
   "outputs": [
    {
     "data": {
      "text/plain": [
       "1"
      ]
     },
     "execution_count": 32,
     "metadata": {},
     "output_type": "execute_result"
    }
   ],
   "source": [
    "temp = np.array(range(1, 12))\n",
    "#temp m[-12] --> doesnt work\n",
    "temp[-11]"
   ]
  },
  {
   "cell_type": "code",
   "execution_count": 33,
   "id": "e221746e",
   "metadata": {},
   "outputs": [
    {
     "name": "stdout",
     "output_type": "stream",
     "text": [
      "[1 7 9]\n"
     ]
    }
   ],
   "source": [
    "print(np_arr[[0, 3, 4]]) #providing list of indexes"
   ]
  },
  {
   "cell_type": "code",
   "execution_count": 87,
   "id": "75547e81",
   "metadata": {},
   "outputs": [
    {
     "name": "stdout",
     "output_type": "stream",
     "text": [
      "[1 3 5]\n",
      "[1 3 5 7]\n",
      "[1 3 5 7]\n",
      "[]\n",
      "[9 7 5 3 1]\n",
      "[7 5 3]\n",
      "[1 5]\n",
      "[3 5 7 9]\n"
     ]
    }
   ],
   "source": [
    "print(np_arr[:3])\n",
    "print(np_arr[-5:-1])\n",
    "print(np_arr[-5:4])\n",
    "print(np_arr[-5:0]) #same element \n",
    "print(np_arr[::-1]) #[start:end:step_size]\n",
    "print(np_arr[3:0:-1]) #includes start index, but excludes the end index.\n",
    "print(np_arr[0:4:2])\n",
    "print(np_arr[-4::1])"
   ]
  },
  {
   "cell_type": "code",
   "execution_count": 85,
   "id": "d6359071",
   "metadata": {},
   "outputs": [
    {
     "name": "stdout",
     "output_type": "stream",
     "text": [
      "[ 1  2 20 20 20]\n"
     ]
    },
    {
     "data": {
      "text/plain": [
       "array([ 1,  2, 30, 20, 10])"
      ]
     },
     "execution_count": 85,
     "metadata": {},
     "output_type": "execute_result"
    }
   ],
   "source": [
    "a = np.array([1, 2, 3, 4, 5])\n",
    "b = np.array([10, 20, 30])\n",
    "a[2:] = b[1]\n",
    "print(a)\n",
    "a[2:] = b[::-1]\n",
    "a"
   ]
  },
  {
   "cell_type": "markdown",
   "id": "a101542d",
   "metadata": {},
   "source": [
    "<b> Insertion </b>\n",
    "<br><b> IMP : </b> Numpy append() is <b> NOT <b> In - Place\n",
    "<br> https://numpy.org/doc/stable/reference/generated/numpy.append.html"
   ]
  },
  {
   "cell_type": "code",
   "execution_count": 3,
   "id": "5047b664",
   "metadata": {},
   "outputs": [
    {
     "data": {
      "text/plain": [
       "array(['a'], dtype='<U1')"
      ]
     },
     "execution_count": 3,
     "metadata": {},
     "output_type": "execute_result"
    }
   ],
   "source": [
    "outcomes = np.array([\"a\"])\n",
    "np.append(outcomes, \"b\")\n",
    "np.append(outcomes, \"c\")\n",
    "np.append(outcomes, \"d\")\n",
    "outcomes"
   ]
  },
  {
   "cell_type": "code",
   "execution_count": 4,
   "id": "dee576d6",
   "metadata": {},
   "outputs": [
    {
     "data": {
      "text/plain": [
       "array(['a', 'b', 'c', 'd'], dtype='<U1')"
      ]
     },
     "execution_count": 4,
     "metadata": {},
     "output_type": "execute_result"
    }
   ],
   "source": [
    "outcomes = np.array([\"a\"])\n",
    "outcomes = np.append(outcomes, \"b\")\n",
    "outcomes = np.append(outcomes, \"c\")\n",
    "outcomes = np.append(outcomes, \"d\")\n",
    "outcomes"
   ]
  },
  {
   "cell_type": "markdown",
   "id": "b35d9a15",
   "metadata": {},
   "source": [
    "<b>Fancy Indexing </b><br>\n",
    "Important read: https://stackoverflow.com/questions/21415661/logical-operators-for-boolean-indexing-in-pandas"
   ]
  },
  {
   "cell_type": "code",
   "execution_count": 91,
   "id": "6c146e9f",
   "metadata": {},
   "outputs": [
    {
     "name": "stdout",
     "output_type": "stream",
     "text": [
      "[1 2 3 4 5]\n"
     ]
    },
    {
     "data": {
      "text/plain": [
       "array([False, False, False,  True,  True])"
      ]
     },
     "execution_count": 91,
     "metadata": {},
     "output_type": "execute_result"
    }
   ],
   "source": [
    "a = np.arange(1, 6)\n",
    "print(a)\n",
    "a > 3 #boolean mask"
   ]
  },
  {
   "cell_type": "code",
   "execution_count": 92,
   "id": "97d755b8",
   "metadata": {},
   "outputs": [
    {
     "data": {
      "text/plain": [
       "array([4, 5])"
      ]
     },
     "execution_count": 92,
     "metadata": {},
     "output_type": "execute_result"
    }
   ],
   "source": [
    "a[a>3]"
   ]
  },
  {
   "cell_type": "code",
   "execution_count": 105,
   "id": "92d3032f",
   "metadata": {},
   "outputs": [
    {
     "data": {
      "text/plain": [
       "array([False,  True, False,  True, False])"
      ]
     },
     "execution_count": 105,
     "metadata": {},
     "output_type": "execute_result"
    }
   ],
   "source": [
    "a%2 == 0"
   ]
  },
  {
   "cell_type": "code",
   "execution_count": 93,
   "id": "1fd070e0",
   "metadata": {},
   "outputs": [
    {
     "data": {
      "text/plain": [
       "array([2, 4])"
      ]
     },
     "execution_count": 93,
     "metadata": {},
     "output_type": "execute_result"
    }
   ],
   "source": [
    "a[a%2 == 0]"
   ]
  },
  {
   "cell_type": "code",
   "execution_count": 102,
   "id": "991e6336",
   "metadata": {},
   "outputs": [
    {
     "data": {
      "text/plain": [
       "array([2, 4, 5])"
      ]
     },
     "execution_count": 102,
     "metadata": {},
     "output_type": "execute_result"
    }
   ],
   "source": [
    "a[(a%2 == 0) | (a%5 == 0)] #in numpy and pandas, bitwise operators are overloaded to perform element-wise logical operations"
   ]
  },
  {
   "cell_type": "markdown",
   "id": "1919c597",
   "metadata": {},
   "source": [
    "<b> Operations on Numpy Array </b>"
   ]
  },
  {
   "cell_type": "code",
   "execution_count": 112,
   "id": "67cd8184",
   "metadata": {},
   "outputs": [
    {
     "name": "stdout",
     "output_type": "stream",
     "text": [
      "[20 21 22 23 24]\n"
     ]
    }
   ],
   "source": [
    "b = np.arange(10, 15)\n",
    "print(b+10)"
   ]
  },
  {
   "cell_type": "code",
   "execution_count": 113,
   "id": "6c8e3144",
   "metadata": {},
   "outputs": [
    {
     "data": {
      "text/plain": [
       "array([11, 13, 15, 17, 19])"
      ]
     },
     "execution_count": 113,
     "metadata": {},
     "output_type": "execute_result"
    }
   ],
   "source": [
    "a + b"
   ]
  },
  {
   "cell_type": "code",
   "execution_count": 117,
   "id": "bb6034b6",
   "metadata": {},
   "outputs": [
    {
     "name": "stdout",
     "output_type": "stream",
     "text": [
      "15\n",
      "1\n"
     ]
    }
   ],
   "source": [
    "print(np.sum(a))\n",
    "print(np.min(a))"
   ]
  },
  {
   "cell_type": "markdown",
   "id": "af9a848d",
   "metadata": {},
   "source": [
    "<b> Net Promoter Score </b>\n",
    "<br> NPS = %Promoters - %Detractor"
   ]
  },
  {
   "cell_type": "code",
   "execution_count": 126,
   "id": "6a48979f",
   "metadata": {},
   "outputs": [
    {
     "name": "stdout",
     "output_type": "stream",
     "text": [
      "[ 7 10  5 ...  5  9 10]\n"
     ]
    }
   ],
   "source": [
    "scores = np.loadtxt(\"./survey.txt\", dtype = \"int\")\n",
    "print(scores)"
   ]
  },
  {
   "cell_type": "code",
   "execution_count": 154,
   "id": "6df4dd67",
   "metadata": {},
   "outputs": [
    {
     "name": "stdout",
     "output_type": "stream",
     "text": [
      "(1167,)\n",
      "1\n",
      "10\n",
      "[ 1  4  5  7  8  9 10]\n"
     ]
    }
   ],
   "source": [
    "#sanity check\n",
    "print(scores.shape)\n",
    "print(min(scores))\n",
    "print(max(scores))\n",
    "print(np.unique(scores))"
   ]
  },
  {
   "cell_type": "code",
   "execution_count": 152,
   "id": "a727ccaf",
   "metadata": {},
   "outputs": [
    {
     "name": "stdout",
     "output_type": "stream",
     "text": [
      "332\n",
      "609\n",
      "226\n",
      "% detractors =  28.449014567266495 \n",
      "% promoters =  52.185089974293064\n"
     ]
    }
   ],
   "source": [
    "num_detractors = scores[scores <= 6].shape[0]\n",
    "print(num_detractors)\n",
    "num_promoters = scores[scores >= 9].shape[0]\n",
    "print(num_promoters)\n",
    "num_passive = scores[(scores < 9) & (scores > 6)].shape[0]\n",
    "print(num_passive)\n",
    "perc_det = num_detractors/scores.shape[0]*100\n",
    "perc_prom = num_promoters/scores.shape[0]*100\n",
    "print(\"% detractors = \", perc_det, \"\\n% promoters = \", perc_prom)"
   ]
  },
  {
   "cell_type": "code",
   "execution_count": 148,
   "id": "bb637101",
   "metadata": {},
   "outputs": [
    {
     "data": {
      "text/plain": [
       "24.0"
      ]
     },
     "execution_count": 148,
     "metadata": {},
     "output_type": "execute_result"
    }
   ],
   "source": [
    "nps = perc_prom - perc_det\n",
    "round(nps, 0)"
   ]
  },
  {
   "cell_type": "code",
   "execution_count": null,
   "id": "a680f79e",
   "metadata": {},
   "outputs": [],
   "source": []
  }
 ],
 "metadata": {
  "kernelspec": {
   "display_name": "Python 3 (ipykernel)",
   "language": "python",
   "name": "python3"
  },
  "language_info": {
   "codemirror_mode": {
    "name": "ipython",
    "version": 3
   },
   "file_extension": ".py",
   "mimetype": "text/x-python",
   "name": "python",
   "nbconvert_exporter": "python",
   "pygments_lexer": "ipython3",
   "version": "3.9.12"
  }
 },
 "nbformat": 4,
 "nbformat_minor": 5
}
