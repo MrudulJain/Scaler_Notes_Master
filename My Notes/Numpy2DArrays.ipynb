{
 "cells": [
  {
   "cell_type": "code",
   "execution_count": 2,
   "id": "b2997ebc",
   "metadata": {},
   "outputs": [],
   "source": [
    "import numpy as np"
   ]
  },
  {
   "cell_type": "code",
   "execution_count": 14,
   "id": "80daff5f",
   "metadata": {},
   "outputs": [
    {
     "name": "stdout",
     "output_type": "stream",
     "text": [
      "2\n",
      "(2, 3)\n"
     ]
    }
   ],
   "source": [
    "a1 = ([1, 2, 3], [4, 5, 6])\n",
    "arr = np.array(a1)\n",
    "print(arr.ndim)\n",
    "print(arr.shape)"
   ]
  },
  {
   "cell_type": "code",
   "execution_count": 16,
   "id": "b92451d6",
   "metadata": {},
   "outputs": [
    {
     "data": {
      "text/plain": [
       "array([[ 1,  2,  3],\n",
       "       [ 4,  5,  6],\n",
       "       [ 7,  8,  9],\n",
       "       [10, 11, 12]])"
      ]
     },
     "execution_count": 16,
     "metadata": {},
     "output_type": "execute_result"
    }
   ],
   "source": [
    "np.arange(1, 13).reshape(4, 3) \n",
    "#only works with factors of 12 (num of elements)"
   ]
  },
  {
   "cell_type": "code",
   "execution_count": 31,
   "id": "c18e6913",
   "metadata": {
    "collapsed": true
   },
   "outputs": [
    {
     "name": "stdout",
     "output_type": "stream",
     "text": [
      "[[ 1  2  3  4  5  6  7  8  9 10 11 12]]\n",
      "1\n",
      "[[ 1]\n",
      " [ 2]\n",
      " [ 3]\n",
      " [ 4]\n",
      " [ 5]\n",
      " [ 6]\n",
      " [ 7]\n",
      " [ 8]\n",
      " [ 9]\n",
      " [10]\n",
      " [11]\n",
      " [12]]\n",
      "12\n"
     ]
    }
   ],
   "source": [
    "print(np.arange(1, 13).reshape(1, 12)) #not a 1d array\n",
    "print(len(np.arange(1, 13).reshape(1, 12)))\n",
    "print(np.arange(1, 13).reshape(12, 1)) \n",
    "print(len(np.arange(1, 13).reshape(12, 1)))"
   ]
  },
  {
   "cell_type": "code",
   "execution_count": 35,
   "id": "085b87d3",
   "metadata": {
    "collapsed": true
   },
   "outputs": [
    {
     "name": "stdout",
     "output_type": "stream",
     "text": [
      "[[ 1  2  3  4  5  6]\n",
      " [ 7  8  9 10 11 12]] \n",
      "\n",
      "flattened array:  [ 1  2  3  4  5  6  7  8  9 10 11 12]\n",
      "ravelled array:  [ 1  2  3  4  5  6  7  8  9 10 11 12]\n",
      "None\n",
      "[ 1  2  3  4  5  6  7  8  9 10 11 12]\n"
     ]
    }
   ],
   "source": [
    "#to convert 2d array back to 1d array, we use flatten()\n",
    "a = np.arange(1, 13).reshape(2, 6)\n",
    "print(a, \"\\n\")\n",
    "flat = a.flatten()\n",
    "ravel = a.ravel()\n",
    "print(\"flattened array: \", flat)\n",
    "print(\"ravelled array: \", ravel)\n",
    "print(flat.base)\n",
    "print(ravel.base)\n",
    "#If it's a view, the base will be the original array; \n",
    "# if it is a copy, the base will be None."
   ]
  },
  {
   "cell_type": "markdown",
   "id": "10655c90",
   "metadata": {},
   "source": [
    "<b> Transpose </b>"
   ]
  },
  {
   "cell_type": "code",
   "execution_count": 29,
   "id": "12b7bfc5",
   "metadata": {},
   "outputs": [
    {
     "name": "stdout",
     "output_type": "stream",
     "text": [
      "[[1 2]\n",
      " [3 4]] \n",
      "\n",
      "[[1 3]\n",
      " [2 4]]\n"
     ]
    }
   ],
   "source": [
    "a = np.array([[1, 2], [3, 4]])\n",
    "print(a, \"\\n\")\n",
    "print(a.T) # same as a.transpose()"
   ]
  },
  {
   "cell_type": "markdown",
   "id": "2c3258d4",
   "metadata": {},
   "source": [
    "<b> Indexing and Slicing 2d array </b>"
   ]
  },
  {
   "cell_type": "code",
   "execution_count": 12,
   "id": "d26affa9",
   "metadata": {},
   "outputs": [
    {
     "data": {
      "text/plain": [
       "array([[[   1,    2,    3, ...,   99,  100,  101],\n",
       "        [ 102,  103,  104, ...,  200,  201,  202],\n",
       "        [ 203,  204,  205, ...,  301,  302,  303],\n",
       "        ...,\n",
       "        [3031, 3032, 3033, ..., 3129, 3130, 3131],\n",
       "        [3132, 3133, 3134, ..., 3230, 3231, 3232],\n",
       "        [3233, 3234, 3235, ..., 3331, 3332, 3333]],\n",
       "\n",
       "       [[3334, 3335, 3336, ..., 3432, 3433, 3434],\n",
       "        [3435, 3436, 3437, ..., 3533, 3534, 3535],\n",
       "        [3536, 3537, 3538, ..., 3634, 3635, 3636],\n",
       "        ...,\n",
       "        [6364, 6365, 6366, ..., 6462, 6463, 6464],\n",
       "        [6465, 6466, 6467, ..., 6563, 6564, 6565],\n",
       "        [6566, 6567, 6568, ..., 6664, 6665, 6666]],\n",
       "\n",
       "       [[6667, 6668, 6669, ..., 6765, 6766, 6767],\n",
       "        [6768, 6769, 6770, ..., 6866, 6867, 6868],\n",
       "        [6869, 6870, 6871, ..., 6967, 6968, 6969],\n",
       "        ...,\n",
       "        [9697, 9698, 9699, ..., 9795, 9796, 9797],\n",
       "        [9798, 9799, 9800, ..., 9896, 9897, 9898],\n",
       "        [9899, 9900, 9901, ..., 9997, 9998, 9999]]])"
      ]
     },
     "execution_count": 12,
     "metadata": {},
     "output_type": "execute_result"
    }
   ],
   "source": [
    "m1 = np.arange(1, 10000).reshape(3, 33, 101)\n",
    "m1"
   ]
  },
  {
   "cell_type": "code",
   "execution_count": 15,
   "id": "895629e0",
   "metadata": {},
   "outputs": [
    {
     "name": "stdout",
     "output_type": "stream",
     "text": [
      "854 ns ± 21.8 ns per loop (mean ± std. dev. of 7 runs, 1,000,000 loops each)\n",
      "325 ns ± 14.5 ns per loop (mean ± std. dev. of 7 runs, 1,000,000 loops each)\n"
     ]
    }
   ],
   "source": [
    "%timeit m1[1][15][51]\n",
    "%timeit m1[1, 15, 51]\n",
    "#as we can see the second operation is much faster, because the first\n",
    "#operation is a 3-step process: first gets the depth, then the row\n",
    "#then moves onto the column element\n",
    "#whereas, in the second operations, the compiler is more optimized"
   ]
  },
  {
   "cell_type": "code",
   "execution_count": 23,
   "id": "f3842017",
   "metadata": {},
   "outputs": [
    {
     "name": "stdout",
     "output_type": "stream",
     "text": [
      "[[ 0  1  2  3]\n",
      " [ 4  5  6  7]\n",
      " [ 8  9 10 11]\n",
      " [12 13 14 15]\n",
      " [16 17 18 19]\n",
      " [20 21 22 23]]\n",
      "\n",
      " [4 5 6 7]\n",
      "[ 1  5  9 13 17 21]\n"
     ]
    }
   ],
   "source": [
    "x1=np.arange(0,24).reshape(6,4)\n",
    "print(x1)\n",
    "print(\"\\n\", x1[:][1])\n",
    "print(x1[:,1])"
   ]
  },
  {
   "cell_type": "code",
   "execution_count": 53,
   "id": "25a69864",
   "metadata": {
    "scrolled": true
   },
   "outputs": [
    {
     "name": "stdout",
     "output_type": "stream",
     "text": [
      "[[1 2 3]\n",
      " [4 5 6]\n",
      " [7 8 9]]\n",
      "\n",
      " [[1 2 3]\n",
      " [4 5 6]]\n",
      "\n",
      " [1 5 9]\n"
     ]
    }
   ],
   "source": [
    "m1 = np.arange(1, 10).reshape(3, 3)\n",
    "print(m1)\n",
    "print(\"\\n\", m1[[0, 1]])\n",
    "print(\"\\n\", m1[[0, 1, 2], [0, 1, 2]])"
   ]
  },
  {
   "cell_type": "code",
   "execution_count": 56,
   "id": "a6b87fcd",
   "metadata": {},
   "outputs": [
    {
     "name": "stdout",
     "output_type": "stream",
     "text": [
      "[[1 2 3]\n",
      " [4 5 6]]\n",
      "\n",
      " [[1 2]\n",
      " [4 5]\n",
      " [7 8]]\n",
      "\n",
      " [[5 6]\n",
      " [8 9]]\n"
     ]
    }
   ],
   "source": [
    "print(m1[:2])\n",
    "print(\"\\n\", m1[:, :2])\n",
    "print(\"\\n\", m1[1:, 1:])"
   ]
  },
  {
   "cell_type": "code",
   "execution_count": 32,
   "id": "64bb9b30",
   "metadata": {},
   "outputs": [
    {
     "name": "stdout",
     "output_type": "stream",
     "text": [
      "[[ 1  2  3  4]\n",
      " [ 5  6  7  8]\n",
      " [ 9 10 11 12]]\n",
      "\n",
      " Odd columns - specific: \n",
      " [[ 2  4]\n",
      " [ 6  8]\n",
      " [10 12]]\n",
      "\n",
      " Odd columns with step-size: \n",
      " [[ 2  4]\n",
      " [ 6  8]\n",
      " [10 12]]\n",
      "\n",
      " [[ 2  4]\n",
      " [ 6  8]\n",
      " [10 12]]\n",
      "\n",
      " Last 2 columns: \n",
      " [[ 3  4]\n",
      " [ 7  8]\n",
      " [11 12]]\n",
      "\n",
      " Last 2 columns with step-size: \n",
      " [[ 3  4]\n",
      " [ 7  8]\n",
      " [11 12]]\n",
      "\n",
      " Reverse column-wise: \n",
      " [[ 4  3  2  1]\n",
      " [ 8  7  6  5]\n",
      " [12 11 10  9]]\n",
      "\n",
      " Reverse row-wise: \n",
      " [[ 9 10 11 12]\n",
      " [ 5  6  7  8]\n",
      " [ 1  2  3  4]]\n"
     ]
    }
   ],
   "source": [
    "m2 = np.arange(1, 13).reshape(3, 4)\n",
    "print(m2)\n",
    "print(\"\\n Odd columns - specific: \\n\", m2[:, [1, 3]])\n",
    "print(\"\\n Odd columns with step-size: \\n\", m2[:, 1::2]) #step-size = 2\n",
    "print(\"\\n\", m2[:, 1:4:2])\n",
    "print(\"\\n Last 2 columns: \\n\", m2[:, -2:])\n",
    "print(\"\\n Last 2 columns with step-size: \\n\", m2[:, -2::1])\n",
    "print(\"\\n Reverse column-wise: \\n\", m2[:, ::-1])\n",
    "print(\"\\n Reverse row-wise: \\n\", m2[::-1, :])"
   ]
  },
  {
   "cell_type": "code",
   "execution_count": 65,
   "id": "d23e5b9f",
   "metadata": {},
   "outputs": [
    {
     "data": {
      "text/plain": [
       "array([[ 1,  2],\n",
       "       [ 9, 10]])"
      ]
     },
     "execution_count": 65,
     "metadata": {},
     "output_type": "execute_result"
    }
   ],
   "source": [
    "m2[[0, 2], 0:2]"
   ]
  },
  {
   "cell_type": "markdown",
   "id": "c35366e3",
   "metadata": {},
   "source": [
    "<b> Fancing Indexing </b>"
   ]
  },
  {
   "cell_type": "code",
   "execution_count": 83,
   "id": "f124a8ae",
   "metadata": {},
   "outputs": [
    {
     "name": "stdout",
     "output_type": "stream",
     "text": [
      "[[ True  True  True  True]\n",
      " [ True False False False]\n",
      " [False False False False]]\n",
      "\n",
      " [1 2 3 4 5]\n"
     ]
    }
   ],
   "source": [
    "print(m2 < 6)\n",
    "print(\"\\n\", m2[m2 < 6]) # answering of filtering is one-dimensional"
   ]
  },
  {
   "cell_type": "markdown",
   "id": "ce2143a9",
   "metadata": {},
   "source": [
    "<b> Universal Functions"
   ]
  },
  {
   "cell_type": "code",
   "execution_count": 88,
   "id": "41564cd6",
   "metadata": {},
   "outputs": [
    {
     "name": "stdout",
     "output_type": "stream",
     "text": [
      "\n",
      " 78\n",
      "\n",
      " [15 18 21 24]\n",
      "[15 18 21 24]\n",
      "[10 26 42]\n",
      "\n",
      " [[ 9 10 11 12]\n",
      " [ 5  6  7  8]\n",
      " [ 1  2  3  4]]\n"
     ]
    }
   ],
   "source": [
    "#Arithmetic Operations\n",
    "print(\"\\n\",m2.sum()) #sum of all elements, same as np.sum(m2)\n",
    "print(\"\\n\",sum(m2)) #column wise sum\n",
    "print(np.sum(m2, axis = 0)) #axis = 0 --> columnwise\n",
    "print(np.sum(m2, axis = 1)) #axis = 1 --> row-wise\n",
    "print(\"\\n\", np.sort(m2, axis = 0)[::-1])"
   ]
  },
  {
   "cell_type": "code",
   "execution_count": 41,
   "id": "628d7e24",
   "metadata": {},
   "outputs": [
    {
     "name": "stdout",
     "output_type": "stream",
     "text": [
      "[1 2 3 4 5] [5 4 3 2 1]\n"
     ]
    },
    {
     "data": {
      "text/plain": [
       "array([False, False, False,  True,  True])"
      ]
     },
     "execution_count": 41,
     "metadata": {},
     "output_type": "execute_result"
    }
   ],
   "source": [
    "#Logical Operations\n",
    "a = np.arange(1, 6)\n",
    "b = np.arange(5, 0, -1)\n",
    "print(a, b)\n",
    "a > b"
   ]
  },
  {
   "cell_type": "code",
   "execution_count": 42,
   "id": "677f8b98",
   "metadata": {},
   "outputs": [
    {
     "name": "stdout",
     "output_type": "stream",
     "text": [
      "False\n",
      "True\n"
     ]
    }
   ],
   "source": [
    "print(np.all(a>b))\n",
    "print(np.any(a>b))"
   ]
  },
  {
   "cell_type": "code",
   "execution_count": 43,
   "id": "a2b37669",
   "metadata": {},
   "outputs": [
    {
     "name": "stdout",
     "output_type": "stream",
     "text": [
      "condition satisfies\n"
     ]
    }
   ],
   "source": [
    "if np.any(a <= 3):\n",
    "    print (\"condition satisfies\")\n",
    "else:\n",
    "    print (\"condition doesn't satisfy\")"
   ]
  },
  {
   "cell_type": "code",
   "execution_count": 68,
   "id": "47921513",
   "metadata": {},
   "outputs": [
    {
     "name": "stdout",
     "output_type": "stream",
     "text": [
      "(array([2, 3, 4], dtype=int64),)\n",
      "<class 'tuple'>\n",
      "1\n"
     ]
    },
    {
     "data": {
      "text/plain": [
       "array([3, 2, 1])"
      ]
     },
     "execution_count": 68,
     "metadata": {},
     "output_type": "execute_result"
    }
   ],
   "source": [
    "print(np.where(a >= 3))\n",
    "print(type(np.where(a >= 3)))\n",
    "print(len(np.where(a >= 3)))\n",
    "b[np.where(a>=3)] #since the length is '1', we don't have to mentioned np.where(a>=3)[0]"
   ]
  },
  {
   "cell_type": "code",
   "execution_count": 69,
   "id": "c8799548",
   "metadata": {},
   "outputs": [
    {
     "name": "stdout",
     "output_type": "stream",
     "text": [
      "[[2]\n",
      " [3]\n",
      " [4]]\n"
     ]
    }
   ],
   "source": [
    "print(np.argwhere(a >= 3))"
   ]
  },
  {
   "cell_type": "code",
   "execution_count": 4,
   "id": "f5761d53",
   "metadata": {},
   "outputs": [
    {
     "data": {
      "text/plain": [
       "array([[5, 3, 9],\n",
       "       [2, 1, 4],\n",
       "       [7, 6, 8]])"
      ]
     },
     "execution_count": 4,
     "metadata": {},
     "output_type": "execute_result"
    }
   ],
   "source": [
    "m = np.array([[5, 3, 9],[2, 1, 4],[7, 6, 8]])\n",
    "m"
   ]
  },
  {
   "cell_type": "code",
   "execution_count": 103,
   "id": "e77691e3",
   "metadata": {},
   "outputs": [
    {
     "data": {
      "text/plain": [
       "array([1, 0, 2], dtype=int64)"
      ]
     },
     "execution_count": 103,
     "metadata": {},
     "output_type": "execute_result"
    }
   ],
   "source": [
    "np.argsort(m[:, 1])"
   ]
  },
  {
   "cell_type": "code",
   "execution_count": 39,
   "id": "b55d1b30",
   "metadata": {},
   "outputs": [
    {
     "data": {
      "text/plain": [
       "array([[2, 1, 4],\n",
       "       [5, 3, 9],\n",
       "       [7, 6, 8]])"
      ]
     },
     "execution_count": 39,
     "metadata": {},
     "output_type": "execute_result"
    }
   ],
   "source": [
    "m[np.argsort(m[:, 1])] #sorted by 2nd column"
   ]
  },
  {
   "cell_type": "code",
   "execution_count": 107,
   "id": "4db0acb0",
   "metadata": {},
   "outputs": [
    {
     "data": {
      "text/plain": [
       "array([[50, 30, 90],\n",
       "       [20, 10, 40],\n",
       "       [70, 60, 80]])"
      ]
     },
     "execution_count": 107,
     "metadata": {},
     "output_type": "execute_result"
    }
   ],
   "source": [
    "np.dot(m, 10)"
   ]
  },
  {
   "cell_type": "markdown",
   "id": "2dd653bf",
   "metadata": {},
   "source": [
    "<b><u>Main difference where and argwhere is that: </b></u>\n",
    "<li> Where is better for if-else conditions [np.where(arr, if-cond, else-cond)] </li>\n",
    "<li> For arrays above 2 dimensions, np.where gives tuples as an answer, instead argwhere gives the tranpose of the same tuple which is much easier to interpret and use </li>\n",
    "<li> For 1-d arrays both give similar results but np.where is more readable (check above) </li>\n",
    "\n",
    "[stackoverflow](https://stackoverflow.com/questions/35796513/from-argwhere-to-where) \n",
    "<br>[np.where doc](https://numpy.org/doc/stable/reference/generated/numpy.where.html)\n",
    "<br>[np.argwhere doc](https://numpy.org/doc/stable/reference/generated/numpy.argwhere.html)"
   ]
  },
  {
   "cell_type": "code",
   "execution_count": 19,
   "id": "0ffaaf65",
   "metadata": {},
   "outputs": [
    {
     "data": {
      "text/plain": [
       "(array([0, 0, 2, 2, 2], dtype=int64), array([0, 2, 0, 1, 2], dtype=int64))"
      ]
     },
     "execution_count": 19,
     "metadata": {},
     "output_type": "execute_result"
    }
   ],
   "source": [
    "np.where(m >= 5)"
   ]
  },
  {
   "cell_type": "code",
   "execution_count": 9,
   "id": "3140af81",
   "metadata": {},
   "outputs": [
    {
     "data": {
      "text/plain": [
       "array([[0, 0],\n",
       "       [0, 2],\n",
       "       [2, 0],\n",
       "       [2, 1],\n",
       "       [2, 2]], dtype=int64)"
      ]
     },
     "execution_count": 9,
     "metadata": {},
     "output_type": "execute_result"
    }
   ],
   "source": [
    "np.argwhere(m >= 5)"
   ]
  }
 ],
 "metadata": {
  "kernelspec": {
   "display_name": "Python 3 (ipykernel)",
   "language": "python",
   "name": "python3"
  },
  "language_info": {
   "codemirror_mode": {
    "name": "ipython",
    "version": 3
   },
   "file_extension": ".py",
   "mimetype": "text/x-python",
   "name": "python",
   "nbconvert_exporter": "python",
   "pygments_lexer": "ipython3",
   "version": "3.9.12"
  }
 },
 "nbformat": 4,
 "nbformat_minor": 5
}
