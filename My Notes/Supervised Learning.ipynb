{
 "cells": [
  {
   "cell_type": "code",
   "execution_count": 1,
   "id": "c4a9c810",
   "metadata": {},
   "outputs": [],
   "source": [
    "import pandas as pd\n",
    "import numpy as np\n",
    "import matplotlib.pyplot as plt\n",
    "import seaborn as sns\n",
    "import math"
   ]
  },
  {
   "cell_type": "markdown",
   "id": "e38852b8",
   "metadata": {},
   "source": [
    "\n",
    "<b><u>ML SVM-1</u>: Q2. Draw decision boundary</b>"
   ]
  },
  {
   "cell_type": "code",
   "execution_count": 68,
   "id": "44a3c8ca",
   "metadata": {},
   "outputs": [
    {
     "name": "stdout",
     "output_type": "stream",
     "text": [
      "Positive points: [(-1, 1), (0, 0), (1, 1)] Negative points: [(-3, 9), (-2, 4), (2, 4)]\n"
     ]
    },
    {
     "data": {
      "image/png": "[encoded data removed]",
      "text/plain": [
       "<Figure size 432x288 with 1 Axes>"
      ]
     },
     "metadata": {
      "needs_background": "light"
     },
     "output_type": "display_data"
    },
    {
     "name": "stdout",
     "output_type": "stream",
     "text": [
      "Positive points: [(-1, -1), (0, 0), (1, 1)] Negative points: [(-3, -27), (-2, -8), (2, 8)]\n"
     ]
    },
    {
     "data": {
      "image/png": "[encoded data removed]",
      "text/plain": [
       "<Figure size 432x288 with 1 Axes>"
      ]
     },
     "metadata": {
      "needs_background": "light"
     },
     "output_type": "display_data"
    },
    {
     "name": "stdout",
     "output_type": "stream",
     "text": [
      "Positive points: [(1, 1), (0, 0), (1, 1)] Negative points: [(9, 9), (4, 4), (4, 4)]\n"
     ]
    },
    {
     "data": {
      "image/png": "[encoded data removed]",
      "text/plain": [
       "<Figure size 432x288 with 1 Axes>"
      ]
     },
     "metadata": {
      "needs_background": "light"
     },
     "output_type": "display_data"
    },
    {
     "name": "stdout",
     "output_type": "stream",
     "text": [
      "Positive points: [(1, -1), (0, 0), (1, 1)] Negative points: [(9, -27), (4, -8), (4, 8)]\n"
     ]
    },
    {
     "data": {
      "image/png": "[encoded data removed]",
      "text/plain": [
       "<Figure size 432x288 with 1 Axes>"
      ]
     },
     "metadata": {
      "needs_background": "light"
     },
     "output_type": "display_data"
    }
   ],
   "source": [
    "def normal(lst):\n",
    "    return np.asarray(lst)\n",
    "\n",
    "def sqr(lst):\n",
    "     return np.asarray(lst)**2\n",
    "    \n",
    "def cube(lst):\n",
    "     return np.asarray(lst)**3\n",
    "\n",
    "pos = np.asarray([-1, 0, 1])\n",
    "neg = np.asarray([-3, -2, 2])\n",
    "\n",
    "boundary = [2.5, 4.5, 1.5, 7.5]\n",
    "i = 0\n",
    "\n",
    "for m1 in [normal, sqr]:\n",
    "    y1_pos = m1(pos)\n",
    "    y1_neg = m1(neg)\n",
    "    for m2 in [sqr, cube]:\n",
    "        y2_pos = m2(pos)\n",
    "        y2_neg = m2(neg)\n",
    "        pos_feature_map = list(zip(y1_pos, y2_pos))\n",
    "        neg_feature_map = list(zip(y1_neg, y2_neg))\n",
    "        \n",
    "        print(\"Positive points:\", pos_feature_map, \"Negative points:\", neg_feature_map)\n",
    "        sns.scatterplot(x = [x for (x,y) in pos_feature_map], y = [y for (x,y) in pos_feature_map], color = 'r')\n",
    "        sns.scatterplot(x = [x for (x,y) in neg_feature_map], y = [y for (x,y) in neg_feature_map], color = 'b')\n",
    "        plt.axhline(boundary[i], color='black', linewidth=1)  \n",
    "        plt.title(f\"boundary = {boundary[i]}\")\n",
    "        plt.show()\n",
    "        \n",
    "        i = i+1"
   ]
  },
  {
   "cell_type": "code",
   "execution_count": 69,
   "id": "8196b3cc",
   "metadata": {},
   "outputs": [
    {
     "name": "stdout",
     "output_type": "stream",
     "text": [
      "Weight vector w: [-0.5 -0.5]\n",
      "Bias b: 3.5\n"
     ]
    }
   ],
   "source": [
    "import numpy as np\n",
    "from sklearn.svm import SVC\n",
    "\n",
    "# Step 1: Create the feature matrix X and target vector y\n",
    "X = np.array([[6, 5], [5, 4], [4, 1], [3, 2]])\n",
    "y = np.array([-1, -1, 1, 1])\n",
    "\n",
    "# Step 2: Define the SVM model and fit it to the data\n",
    "svm_model = SVC(kernel='linear')\n",
    "svm_model.fit(X, y)\n",
    "\n",
    "# Get the weight vector and bias from the model\n",
    "w = svm_model.coef_[0]\n",
    "b = svm_model.intercept_[0]\n",
    "\n",
    "print(\"Weight vector w:\", w)\n",
    "print(\"Bias b:\", b)"
   ]
  },
  {
   "cell_type": "code",
   "execution_count": null,
   "id": "fcddbf9b",
   "metadata": {},
   "outputs": [],
   "source": []
  }
 ],
 "metadata": {
  "kernelspec": {
   "display_name": "Python 3 (ipykernel)",
   "language": "python",
   "name": "python3"
  },
  "language_info": {
   "codemirror_mode": {
    "name": "ipython",
    "version": 3
   },
   "file_extension": ".py",
   "mimetype": "text/x-python",
   "name": "python",
   "nbconvert_exporter": "python",
   "pygments_lexer": "ipython3",
   "version": "3.9.12"
  }
 },
 "nbformat": 4,
 "nbformat_minor": 5
}
